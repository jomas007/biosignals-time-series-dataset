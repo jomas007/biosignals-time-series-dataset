{
 "cells": [
  {
   "cell_type": "code",
   "execution_count": 1,
   "id": "2f5bad3d-ca6c-4e72-aac7-e43240eeb3b9",
   "metadata": {},
   "outputs": [],
   "source": [
    "import pandas as pd\n",
    "import numpy as np\n",
    "import os\n",
    "import sys\n",
    "import re\n",
    "\n",
    "# Import library with current code functions\n",
    "sys.path.append(os.path.join(\"..\", \"lib\"))\n",
    "import manual_labeler_functions as man_lab_fun, general_functions as gf, files_paths as fp"
   ]
  },
  {
   "cell_type": "code",
   "execution_count": 2,
   "id": "fc018577-0cc2-4285-8dcc-297cc4f41946",
   "metadata": {},
   "outputs": [],
   "source": [
    "MAIN_LIST_LABELER = gf.find_files_in_all_subdirectories([fp.DATASET_LOCAL, fp.DATASET_YT], fp.VD_LABELED_L0)\n",
    "num_file_sequences = len(gf.find_files_in_all_subdirectories([os.path.join('.', 'result_sequences')], '*.CSV'))"
   ]
  },
  {
   "cell_type": "code",
   "execution_count": 3,
   "id": "180a1aca",
   "metadata": {},
   "outputs": [
    {
     "data": {
      "text/plain": [
       "['.\\\\result_sequences\\\\DATASET_SEQUENCES_2.CSV',\n",
       " '.\\\\result_sequences\\\\DATASET_SEQUENCES_3.CSV',\n",
       " '.\\\\result_sequences\\\\DATASET_SEQUENCES_6.CSV']"
      ]
     },
     "execution_count": 3,
     "metadata": {},
     "output_type": "execute_result"
    }
   ],
   "source": [
    "gf.find_files_in_all_subdirectories([os.path.join('.', 'result_sequences')], '*.CSV')"
   ]
  },
  {
   "cell_type": "code",
   "execution_count": 4,
   "id": "e0a6b88f",
   "metadata": {},
   "outputs": [],
   "source": [
    "def extract_decimal_value(text):\n",
    "    match = re.search(r'[-+]?\\d*\\.\\d+', text)\n",
    "    if match:\n",
    "        return float(match.group())\n",
    "    return None"
   ]
  },
  {
   "cell_type": "code",
   "execution_count": 5,
   "id": "1737c215",
   "metadata": {},
   "outputs": [],
   "source": [
    "def check_decimal_values(group):\n",
    "    label_measures = group['label_measures']\n",
    "    \n",
    "    first_value = extract_decimal_value(label_measures.iloc[0])\n",
    "    all_equal = True\n",
    "    \n",
    "    for i in range(1, len(label_measures)):\n",
    "        current_value = extract_decimal_value(label_measures.iloc[i])\n",
    "        \n",
    "        if current_value != first_value and str(first_value) not in str(label_measures.iloc[i]):\n",
    "            all_equal = False"
   ]
  },
  {
   "cell_type": "code",
   "execution_count": 6,
   "id": "d2b61671-f2b5-4852-aab5-172f6a5f4125",
   "metadata": {},
   "outputs": [
    {
     "name": "stdout",
     "output_type": "stream",
     "text": [
      "Labels: ['happy', 'neutral'], Current file path: ..\\Dataset\\DD-Local\\VD_D_0000000001\\VD_LABELED_L0.CSV\n",
      "Labels: ['neutral', 'happy'], Current file path: ..\\Dataset\\DD-Local\\VD_D_0000000002\\VD_LABELED_L0.CSV\n",
      "Labels: ['neutral', 'happy'], Current file path: ..\\Dataset\\DD-Local\\VD_D_0000000003\\VD_LABELED_L0.CSV\n",
      "Labels: ['neutral', 'happy'], Current file path: ..\\Dataset\\DD-Local\\VD_D_0000000004\\VD_LABELED_L0.CSV\n",
      "Labels: ['neutral'], Current file path: ..\\Dataset\\DD-Local\\VD_D_0000000005\\VD_LABELED_L0.CSV\n",
      "Labels: ['neutral', 'happy'], Current file path: ..\\Dataset\\DD-Local\\VD_D_0000000006\\VD_LABELED_L0.CSV\n",
      "Labels: ['happy'], Current file path: ..\\Dataset\\DD-Local\\VD_D_0000000007\\VD_LABELED_L0.CSV\n",
      "Labels: ['happy', 'neutral'], Current file path: ..\\Dataset\\DD-Local\\VD_D_0000000008\\VD_LABELED_L0.CSV\n",
      "Labels: ['happy', 'neutral'], Current file path: ..\\Dataset\\DD-Local\\VD_D_0000000009\\VD_LABELED_L0.CSV\n",
      "Labels: ['neutral'], Current file path: ..\\Dataset\\DD-Local\\VD_D_0000000010\\VD_LABELED_L0.CSV\n",
      "Labels: ['neutral', 'happy'], Current file path: ..\\Dataset\\DD-Local\\VD_D_0000000011\\VD_LABELED_L0.CSV\n",
      "Labels: ['neutral', 'happy'], Current file path: ..\\Dataset\\DD-Local\\VD_D_0000000012\\VD_LABELED_L0.CSV\n",
      "Labels: ['neutral', 'happy'], Current file path: ..\\Dataset\\DD-Local\\VD_D_0000000013\\VD_LABELED_L0.CSV\n",
      "Labels: [], Current file path: ..\\Dataset\\DD-Local\\VD_D_0000000014\\VD_LABELED_L0.CSV\n",
      "Labels: ['happy', 'neutral'], Current file path: ..\\Dataset\\DD-Local\\VD_D_0000000015\\VD_LABELED_L0.CSV\n",
      "Labels: ['happy', 'neutral'], Current file path: ..\\Dataset\\DD-Local\\VD_D_0000000016\\VD_LABELED_L0.CSV\n",
      "Labels: ['neutral'], Current file path: ..\\Dataset\\DD-Local\\VD_D_0000000017\\VD_LABELED_L0.CSV\n",
      "Labels: ['neutral', 'happy'], Current file path: ..\\Dataset\\DD-Local\\VD_D_0000000018\\VD_LABELED_L0.CSV\n",
      "Labels: ['happy', 'neutral'], Current file path: ..\\Dataset\\DD-Local\\VD_D_0000000019\\VD_LABELED_L0.CSV\n",
      "Labels: ['happy', 'neutral'], Current file path: ..\\Dataset\\DD-Local\\VD_D_0000000021\\VD_LABELED_L0.CSV\n",
      "Labels: ['happy', 'neutral'], Current file path: ..\\Dataset\\DD-Local\\VD_D_0000000043\\VD_LABELED_L0.CSV\n",
      "Labels: ['happy', 'neutral'], Current file path: ..\\Dataset\\DD-Local\\VD_D_0000000044\\VD_LABELED_L0.CSV\n",
      "Labels: ['happy', 'neutral'], Current file path: ..\\Dataset\\DD-Local\\VD_D_0000000045\\VD_LABELED_L0.CSV\n",
      "Labels: ['neutral', 'happy'], Current file path: ..\\Dataset\\DD-Local\\VD_D_0000000046\\VD_LABELED_L0.CSV\n",
      "Labels: ['neutral', 'happy'], Current file path: ..\\Dataset\\DD-Local\\VD_D_0000000047\\VD_LABELED_L0.CSV\n",
      "Labels: ['happy', 'neutral'], Current file path: ..\\Dataset\\DD-Local\\VD_D_0000000048\\VD_LABELED_L0.CSV\n",
      "Labels: ['neutral', 'happy'], Current file path: ..\\Dataset\\DD-Local\\VD_D_0000000049\\VD_LABELED_L0.CSV\n",
      "Labels: ['neutral', 'happy'], Current file path: ..\\Dataset\\DD-Local\\VD_D_0000000050\\VD_LABELED_L0.CSV\n",
      "Labels: [], Current file path: ..\\Dataset\\YT-Online\\VD_Y_0000000001\\VD_LABELED_L0.CSV\n",
      "Labels: ['happy', 'neutral'], Current file path: ..\\Dataset\\YT-Online\\VD_Y_0000000002\\VD_LABELED_L0.CSV\n",
      "Labels: ['neutral', 'happy'], Current file path: ..\\Dataset\\YT-Online\\VD_Y_0000000003\\VD_LABELED_L0.CSV\n",
      "Labels: ['happy', 'neutral'], Current file path: ..\\Dataset\\YT-Online\\VD_Y_0000000004\\VD_LABELED_L0.CSV\n",
      "Labels: ['happy'], Current file path: ..\\Dataset\\YT-Online\\VD_Y_0000000005\\VD_LABELED_L0.CSV\n",
      "Labels: ['happy', 'neutral'], Current file path: ..\\Dataset\\YT-Online\\VD_Y_0000000006\\VD_LABELED_L0.CSV\n",
      "Labels: ['neutral', 'happy'], Current file path: ..\\Dataset\\YT-Online\\VD_Y_0000000007\\VD_LABELED_L0.CSV\n",
      "Labels: ['happy', 'neutral'], Current file path: ..\\Dataset\\YT-Online\\VD_Y_0000000008\\VD_LABELED_L0.CSV\n",
      "Labels: ['neutral'], Current file path: ..\\Dataset\\YT-Online\\VD_Y_0000000009\\VD_LABELED_L0.CSV\n",
      "Labels: ['neutral', 'happy'], Current file path: ..\\Dataset\\YT-Online\\VD_Y_0000000010\\VD_LABELED_L0.CSV\n",
      "Labels: ['happy', 'neutral'], Current file path: ..\\Dataset\\YT-Online\\VD_Y_0000000011\\VD_LABELED_L0.CSV\n",
      "Labels: ['happy', 'neutral'], Current file path: ..\\Dataset\\YT-Online\\VD_Y_0000000012\\VD_LABELED_L0.CSV\n",
      "Labels: ['happy', 'neutral'], Current file path: ..\\Dataset\\YT-Online\\VD_Y_0000000013\\VD_LABELED_L0.CSV\n",
      "Labels: ['happy', 'neutral'], Current file path: ..\\Dataset\\YT-Online\\VD_Y_0000000014\\VD_LABELED_L0.CSV\n",
      "Labels: ['neutral'], Current file path: ..\\Dataset\\YT-Online\\VD_Y_0000000015\\VD_LABELED_L0.CSV\n",
      "Labels: ['neutral', 'happy'], Current file path: ..\\Dataset\\YT-Online\\VD_Y_0000000016\\VD_LABELED_L0.CSV\n",
      "Labels: ['neutral', 'happy'], Current file path: ..\\Dataset\\YT-Online\\VD_Y_0000000017\\VD_LABELED_L0.CSV\n",
      "Labels: ['happy'], Current file path: ..\\Dataset\\YT-Online\\VD_Y_0000000018\\VD_LABELED_L0.CSV\n",
      "Labels: ['happy'], Current file path: ..\\Dataset\\YT-Online\\VD_Y_0000000019\\VD_LABELED_L0.CSV\n",
      "Labels: ['happy', 'neutral'], Current file path: ..\\Dataset\\YT-Online\\VD_Y_0000000020\\VD_LABELED_L0.CSV\n",
      "Labels: ['neutral', 'happy'], Current file path: ..\\Dataset\\YT-Online\\VD_Y_0000000021\\VD_LABELED_L0.CSV\n",
      "Labels: ['happy'], Current file path: ..\\Dataset\\YT-Online\\VD_Y_0000000022\\VD_LABELED_L0.CSV\n",
      "Labels: ['happy', 'neutral'], Current file path: ..\\Dataset\\YT-Online\\VD_Y_0000000023\\VD_LABELED_L0.CSV\n",
      "Labels: [], Current file path: ..\\Dataset\\YT-Online\\VD_Y_0000000024\\VD_LABELED_L0.CSV\n",
      "Labels: ['happy', 'neutral'], Current file path: ..\\Dataset\\YT-Online\\VD_Y_0000000025\\VD_LABELED_L0.CSV\n",
      "Labels: [], Current file path: ..\\Dataset\\YT-Online\\VD_Y_0000000026\\VD_LABELED_L0.CSV\n",
      "Labels: ['neutral'], Current file path: ..\\Dataset\\YT-Online\\VD_Y_0000000027\\VD_LABELED_L0.CSV\n",
      "Labels: ['happy', 'neutral'], Current file path: ..\\Dataset\\YT-Online\\VD_Y_0000000028\\VD_LABELED_L0.CSV\n",
      "Labels: ['neutral', 'happy'], Current file path: ..\\Dataset\\YT-Online\\VD_Y_0000000029\\VD_LABELED_L0.CSV\n",
      "Labels: ['neutral'], Current file path: ..\\Dataset\\YT-Online\\VD_Y_0000000030\\VD_LABELED_L0.CSV\n",
      "Labels: ['neutral', 'happy'], Current file path: ..\\Dataset\\YT-Online\\VD_Y_0000000031\\VD_LABELED_L0.CSV\n",
      "Labels: ['neutral'], Current file path: ..\\Dataset\\YT-Online\\VD_Y_0000000032\\VD_LABELED_L0.CSV\n",
      "Labels: ['happy'], Current file path: ..\\Dataset\\YT-Online\\VD_Y_0000000033\\VD_LABELED_L0.CSV\n",
      "Labels: [], Current file path: ..\\Dataset\\YT-Online\\VD_Y_0000000034\\VD_LABELED_L0.CSV\n",
      "Labels: ['happy', 'neutral'], Current file path: ..\\Dataset\\YT-Online\\VD_Y_0000000035\\VD_LABELED_L0.CSV\n",
      "Labels: ['happy'], Current file path: ..\\Dataset\\YT-Online\\VD_Y_0000000036\\VD_LABELED_L0.CSV\n",
      "Labels: ['neutral', 'happy'], Current file path: ..\\Dataset\\YT-Online\\VD_Y_0000000037\\VD_LABELED_L0.CSV\n",
      "Labels: ['happy', 'neutral'], Current file path: ..\\Dataset\\YT-Online\\VD_Y_0000000038\\VD_LABELED_L0.CSV\n",
      "Labels: ['happy'], Current file path: ..\\Dataset\\YT-Online\\VD_Y_0000000039\\VD_LABELED_L0.CSV\n",
      "Labels: ['happy'], Current file path: ..\\Dataset\\YT-Online\\VD_Y_0000000040\\VD_LABELED_L0.CSV\n",
      "Labels: [], Current file path: ..\\Dataset\\YT-Online\\VD_Y_0000000041\\VD_LABELED_L0.CSV\n",
      "Labels: ['neutral', 'happy'], Current file path: ..\\Dataset\\YT-Online\\VD_Y_0000000042\\VD_LABELED_L0.CSV\n",
      "\n",
      "Saving file result_sequences\\DATASET_SEQUENCES_4.CSV...\n"
     ]
    }
   ],
   "source": [
    "OUTPUT_NAME = os.path.join('result_sequences','DATASET_SEQUENCES_' + str(num_file_sequences + 1) + '.CSV')\n",
    "DATASET_SEQUENCES = pd.DataFrame()\n",
    "idx_sample = 0\n",
    "for current_path_location in MAIN_LIST_LABELER:\n",
    "    VD_LABELED_DT = pd.read_csv(current_path_location)\n",
    "    VD_LABELED_DT.drop(columns=['Unnamed: 0'], inplace=True)\n",
    "    labels = man_lab_fun.GET_ALL_CLASSES(VD_LABELED_DT)\n",
    "    print(f\"Labels: {labels}, Current file path: {current_path_location}\")\n",
    "    final_df = pd.DataFrame()\n",
    "    for label in labels[:1]:\n",
    "        \n",
    "        pattern = fr\"'{label}'\"\n",
    "        filtered_df = VD_LABELED_DT[VD_LABELED_DT['label_measures'].str.contains(pattern, regex=True)]\n",
    "        filtered_df = filtered_df.reset_index()\n",
    "        filtered_df['index_diff'] = filtered_df['index'].diff()\n",
    "\n",
    "        break_points = filtered_df.index[filtered_df['index_diff'] > 1].tolist()\n",
    "        break_points = [0] + break_points + [len(filtered_df)]\n",
    "\n",
    "        filtered_df = filtered_df.drop(columns=['index', 'time_seconds'])\n",
    "        new_column = pd.Series([np.nan] * len(filtered_df))\n",
    "        filtered_df.insert(loc=1, column='sample_id', value=new_column)\n",
    "\n",
    "        # Extraímos os números decimais das strings\n",
    "        number_1 = extract_decimal_value(str(filtered_df['label_measures'].loc[0]))\n",
    "        number_2 = extract_decimal_value(str(filtered_df['label_measures'].loc[len(filtered_df['label_measures']) - 1]))\n",
    "\n",
    "        grouped_samples = []\n",
    "        for idx in range(len(break_points)-1):\n",
    "            group = filtered_df.iloc[break_points[idx]:break_points[idx + 1]].copy()\n",
    "\n",
    "            group['sample_id'] = idx_sample\n",
    "            for line in group['label_measures']:\n",
    "                label_dict = eval(line)\n",
    "                keys = list(label_dict.keys())\n",
    "                if len(keys) > 1:\n",
    "                    best_key = keys.pop(0)\n",
    "                    for key in keys:\n",
    "                        if label_dict[key][1] < label_dict[best_key][1]:\n",
    "                            best_key = key\n",
    "                            break\n",
    "                else: \n",
    "                    best_key = keys[0]\n",
    "            \n",
    "            if best_key == label:\n",
    "                label_dict = eval(group['label_measures'].iloc[0])\n",
    "                group['label'] = label\n",
    "                group['seed_name'] = int(label_dict[label][2])\n",
    "                grouped_samples.append(group)\n",
    "                idx_sample+=1\n",
    "        \n",
    "        if len(grouped_samples) > 0:\n",
    "            converted = pd.concat(grouped_samples).reset_index(drop=True).drop(columns=['index_diff'])\n",
    "            final_df = pd.concat([final_df, converted]).reset_index(drop=True)\n",
    "    \n",
    "    DATASET_SEQUENCES = pd.concat([DATASET_SEQUENCES, final_df]).reset_index(drop=True)\n",
    "\n",
    "print(f'\\nSaving file {OUTPUT_NAME}...')\n",
    "DATASET_SEQUENCES.to_csv(OUTPUT_NAME)"
   ]
  }
 ],
 "metadata": {
  "kernelspec": {
   "display_name": "t3-gpu",
   "language": "python",
   "name": "python3"
  },
  "language_info": {
   "codemirror_mode": {
    "name": "ipython",
    "version": 3
   },
   "file_extension": ".py",
   "mimetype": "text/x-python",
   "name": "python",
   "nbconvert_exporter": "python",
   "pygments_lexer": "ipython3",
   "version": "3.10.15"
  }
 },
 "nbformat": 4,
 "nbformat_minor": 5
}

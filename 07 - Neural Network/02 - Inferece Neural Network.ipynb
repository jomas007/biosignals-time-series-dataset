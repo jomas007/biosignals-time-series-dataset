{
 "cells": [
  {
   "cell_type": "code",
   "execution_count": 1,
   "metadata": {},
   "outputs": [
    {
     "name": "stderr",
     "output_type": "stream",
     "text": [
      "2024-05-27 14:19:51.405513: I external/local_tsl/tsl/cuda/cudart_stub.cc:32] Could not find cuda drivers on your machine, GPU will not be used.\n",
      "2024-05-27 14:19:51.408897: I external/local_tsl/tsl/cuda/cudart_stub.cc:32] Could not find cuda drivers on your machine, GPU will not be used.\n",
      "2024-05-27 14:19:51.451903: I tensorflow/core/platform/cpu_feature_guard.cc:210] This TensorFlow binary is optimized to use available CPU instructions in performance-critical operations.\n",
      "To enable the following instructions: AVX2 AVX512F FMA, in other operations, rebuild TensorFlow with the appropriate compiler flags.\n",
      "2024-05-27 14:19:52.354274: W tensorflow/compiler/tf2tensorrt/utils/py_utils.cc:38] TF-TRT Warning: Could not find TensorRT\n"
     ]
    }
   ],
   "source": [
    "import os, sys, numpy as np, pandas as pd\n",
    "\n",
    "# Neural Net imports\n",
    "from sklearn.preprocessing import  LabelEncoder\n",
    "from tensorflow.keras.models import load_model\n",
    "\n",
    "# Import library with current code functions\n",
    "sys.path.append(os.path.join(\"..\", \"lib\"))\n",
    "import neural_network_functions as neural_net_fun, general_functions as gf, files_paths as fp"
   ]
  },
  {
   "cell_type": "markdown",
   "metadata": {},
   "source": [
    "## Get the VD_LABELED files paths for your inference videos"
   ]
  },
  {
   "cell_type": "code",
   "execution_count": 2,
   "metadata": {},
   "outputs": [],
   "source": [
    "FILE_LIST_VD_INFO = gf.find_files_in_all_subdirectories([fp.DATASET_YT, fp.DATASET_LOCAL], fp.VD_INFO)\n",
    "FILE_LIST_VD_LABELED = gf.find_files_in_all_subdirectories([fp.DATASET_YT, fp.DATASET_LOCAL], fp.VD_LABELED_L0)"
   ]
  },
  {
   "cell_type": "markdown",
   "metadata": {},
   "source": [
    "## Concatenate all inference CSV with labeled series"
   ]
  },
  {
   "cell_type": "code",
   "execution_count": 3,
   "metadata": {},
   "outputs": [],
   "source": [
    "# Initialize an empty DataFrame\n",
    "inference_data = pd.DataFrame()\n",
    "\n",
    "for current_csv_path in FILE_LIST_VD_LABELED:\n",
    "    current_data = pd.read_csv(current_csv_path)\n",
    "    inference_data = pd.concat([inference_data, current_data], ignore_index=True)"
   ]
  },
  {
   "cell_type": "markdown",
   "metadata": {},
   "source": [
    "## Load your model and preprocess your data"
   ]
  },
  {
   "cell_type": "code",
   "execution_count": 4,
   "metadata": {},
   "outputs": [],
   "source": [
    "# Path to the trained model (choose the noise applied model or the default one)\n",
    "model_path = 'lstm_time_series_model.keras'\n",
    "\n",
    "# Preprocess your data\n",
    "cleaned_inference_data = neural_net_fun.preprocess_data(inference_data)"
   ]
  },
  {
   "cell_type": "markdown",
   "metadata": {},
   "source": [
    "## Make the inference"
   ]
  },
  {
   "cell_type": "code",
   "execution_count": 5,
   "metadata": {},
   "outputs": [
    {
     "name": "stderr",
     "output_type": "stream",
     "text": [
      "2024-05-27 14:19:53.975534: E external/local_xla/xla/stream_executor/cuda/cuda_driver.cc:282] failed call to cuInit: CUDA_ERROR_NO_DEVICE: no CUDA-capable device is detected\n"
     ]
    },
    {
     "name": "stdout",
     "output_type": "stream",
     "text": [
      "\u001b[1m2371/2371\u001b[0m \u001b[32m━━━━━━━━━━━━━━━━━━━━\u001b[0m\u001b[37m\u001b[0m \u001b[1m2s\u001b[0m 846us/step\n",
      "['no_emotion' 'no_emotion' 'no_emotion' ... 'no_emotion' 'no_emotion'\n",
      " 'no_emotion']\n"
     ]
    }
   ],
   "source": [
    "# Generate inferences\n",
    "predicted_classes = neural_net_fun.generate_inferences(cleaned_inference_data, model_path)\n",
    "\n",
    "# Decode the predicted classes\n",
    "predicted_labels = neural_net_fun.decode_predictions(predicted_classes, cleaned_inference_data)\n",
    "\n",
    "# Print the predicted labels\n",
    "print(predicted_labels)"
   ]
  },
  {
   "cell_type": "markdown",
   "metadata": {},
   "source": [
    "## Evaluate the inferences"
   ]
  },
  {
   "cell_type": "code",
   "execution_count": 6,
   "metadata": {},
   "outputs": [
    {
     "name": "stdout",
     "output_type": "stream",
     "text": [
      "Accuracy: 0.95\n",
      "\n",
      "Classification Report:\n",
      "              precision    recall  f1-score   support\n",
      "\n",
      "           0       0.00      0.00      0.00        28\n",
      "           1       0.95      1.00      0.98     72281\n",
      "           2       0.00      0.00      0.00      3558\n",
      "\n",
      "    accuracy                           0.95     75867\n",
      "   macro avg       0.32      0.33      0.33     75867\n",
      "weighted avg       0.91      0.95      0.93     75867\n",
      "\n",
      "\n",
      "Confusion Matrix:\n",
      "[[    0    28     0]\n",
      " [    0 72281     0]\n",
      " [    0  3558     0]]\n"
     ]
    }
   ],
   "source": [
    "# Assuming you have true labels for the new data for testing purposes\n",
    "true_labels = cleaned_inference_data['target'].values  # Replace this with your true labels if available\n",
    "\n",
    "# Decode the true labels to match the format of predicted labels\n",
    "label_encoder = LabelEncoder()\n",
    "true_labels_encoded = label_encoder.fit_transform(true_labels)\n",
    "\n",
    "# Evaluate the predictions\n",
    "neural_net_fun.evaluate_inferences(true_labels_encoded, predicted_classes)"
   ]
  }
 ],
 "metadata": {
  "kernelspec": {
   "display_name": "my-env",
   "language": "python",
   "name": "python3"
  },
  "language_info": {
   "codemirror_mode": {
    "name": "ipython",
    "version": 3
   },
   "file_extension": ".py",
   "mimetype": "text/x-python",
   "name": "python",
   "nbconvert_exporter": "python",
   "pygments_lexer": "ipython3",
   "version": "3.12.2"
  }
 },
 "nbformat": 4,
 "nbformat_minor": 2
}

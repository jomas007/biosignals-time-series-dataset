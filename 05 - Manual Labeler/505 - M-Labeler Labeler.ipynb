{
 "cells": [
  {
   "cell_type": "code",
   "execution_count": null,
   "metadata": {},
   "outputs": [],
   "source": [
    "import os\n",
    "import sys\n",
    "import pandas as pd\n",
    "import matplotlib.pyplot as plt\n",
    "import plotly.offline as py\n",
    "import json\n",
    "import plotly.express as px\n",
    "import webbrowser\n",
    "\n",
    "from dash import Dash, dcc, html, Input, Output\n",
    "\n",
    "# Import library with current code functions\n",
    "sys.path.append(os.path.join(\"..\", \"lib\"))\n",
    "import manual_labeler_functions as man_lab_fun, general_functions as gf, files_paths as fp"
   ]
  },
  {
   "cell_type": "markdown",
   "metadata": {},
   "source": [
    "## Function to analyzer the graphs of the selected video series"
   ]
  },
  {
   "cell_type": "code",
   "execution_count": null,
   "metadata": {},
   "outputs": [],
   "source": [
    "def PLOT_MEASURE_EXPLORER(df):\n",
    "\n",
    "    port = 5000\n",
    "    external_stylesheets = ['https://codepen.io/chriddyp/pen/bWLwgP.css']\n",
    "    app = Dash(__name__, external_stylesheets=external_stylesheets)\n",
    "\n",
    "    def open_browser():\n",
    "    \twebbrowser.open_new(\"http://localhost:{}\".format(port))\n",
    "          \n",
    "    app.layout = html.Div([\n",
    "        html.H4('Measure Explorer'),\n",
    "        html.H6('Reference Signal'),\n",
    "        html.I('Setting the frame interval range'),\n",
    "        html.Br(),\n",
    "        dcc.Input(id='input-init', type='number', min=df.index.min(), max=df.index.max(), value=df.index.min()),\n",
    "        dcc.Input(id='input-end', type='number', value=df.index.max()),\n",
    "        dcc.Graph(id=\"graph\"),\n",
    "        dcc.Checklist(\n",
    "            id=\"checklist\",\n",
    "            options=df.columns,\n",
    "            value=[\"m1\", \"m3\"],\n",
    "            inline=True\n",
    "        ),\n",
    "        dcc.Store(\n",
    "        id='data-output',\n",
    "        data=[{\n",
    "            'measures': [\"m1\", \"m3\"],\n",
    "            'init_label': df.index.min(),\n",
    "            'end_label': df.index.max()\n",
    "        }]\n",
    "        ),\n",
    "        html.Br(),\n",
    "        html.Details([\n",
    "        html.Summary('Input Parameters'),\n",
    "        dcc.Markdown(id='clientside-figure-json')\n",
    "        ])\n",
    "    ])\n",
    "    \n",
    "    @app.callback(\n",
    "        Output(\"graph\", \"figure\"), \n",
    "        Input(\"checklist\", \"value\"),\n",
    "        Input(\"input-init\", \"value\"),\n",
    "        Input(\"input-end\", \"value\"))\n",
    "    def update_line_chart(measures, frame_init, frame_end):\n",
    "        mask = df.columns.isin(measures)\n",
    "        filtered_df = df.loc[frame_init:frame_end, mask]\n",
    "        fig = px.line(filtered_df, width=900, height=400, labels={\n",
    "                     \"frame_seq\": \"<b>Frame number</b>\",\n",
    "                     \"value\": \"<b>Amplitude (pixels)</b>\",\n",
    "                     \"variable\": \"<b>Measures</b>\"\n",
    "                 },)\n",
    "        data = measures\n",
    "        fig.update_layout(\n",
    "            plot_bgcolor='white',\n",
    "            font_size=12,\n",
    "        )\n",
    "        fig.update_xaxes(\n",
    "            mirror=True,\n",
    "            ticks='outside',\n",
    "            showline=True,\n",
    "            linecolor='black',\n",
    "            gridcolor='lightgrey',\n",
    "        )\n",
    "        fig.update_yaxes(\n",
    "            mirror=True,\n",
    "            ticks='outside',\n",
    "            showline=True,\n",
    "            linecolor='black',\n",
    "            gridcolor='lightgrey',\n",
    "        )\n",
    "        return fig\n",
    "\n",
    "    @app.callback(\n",
    "        Output('data-output', 'data'),\n",
    "        Input(\"checklist\", \"value\"),\n",
    "        Input(\"input-init\", \"value\"),\n",
    "        Input(\"input-end\", \"value\"))\n",
    "    def update_store_data(measures, frame_init, frame_end):\n",
    "        mask = df.columns.isin(measures)\n",
    "        filtered_df = df.loc[:,mask]\n",
    "        return [{\n",
    "            'measures': filtered_df.columns,\n",
    "            'init_label': frame_init,\n",
    "            'end_label': frame_end\n",
    "        }]\n",
    "    \n",
    "    \n",
    "    @app.callback(\n",
    "        Output('clientside-figure-json', 'children'),\n",
    "        Input('data-output', 'data')\n",
    "    )\n",
    "    def generated_data_json(data):\n",
    "        return '```\\n'+json.dumps(data, indent=2)+'\\n```'\n",
    "   \n",
    "    if __name__ == '__main__':\n",
    "        app.run_server(debug=True, port=port)"
   ]
  },
  {
   "cell_type": "markdown",
   "metadata": {},
   "source": [
    "## Getting all the CSV files in the REF-Gold-Label"
   ]
  },
  {
   "cell_type": "code",
   "execution_count": null,
   "metadata": {},
   "outputs": [],
   "source": [
    "FILE_LIST_VD_MEASURE = gf.find_files_in_all_subdirectories([fp.DATASET_SEED], fp.VD_INFO)"
   ]
  },
  {
   "cell_type": "code",
   "execution_count": null,
   "metadata": {},
   "outputs": [],
   "source": [
    "FILE_LIST_VD_MEASURE"
   ]
  },
  {
   "cell_type": "markdown",
   "metadata": {},
   "source": [
    "## Generates an index with information about reference series."
   ]
  },
  {
   "cell_type": "code",
   "execution_count": null,
   "metadata": {},
   "outputs": [],
   "source": [
    "INDEX_DT = man_lab_fun.CREATE_LABELED_INDEX(FILE_LIST_VD_MEASURE)"
   ]
  },
  {
   "cell_type": "code",
   "execution_count": null,
   "metadata": {},
   "outputs": [],
   "source": [
    "INDEX_DT"
   ]
  },
  {
   "cell_type": "markdown",
   "metadata": {
    "jp-MarkdownHeadingCollapsed": true
   },
   "source": [
    "## Manual Process"
   ]
  },
  {
   "cell_type": "markdown",
   "metadata": {},
   "source": [
    "### Selects the video for analysis and CSV data file"
   ]
  },
  {
   "cell_type": "code",
   "execution_count": null,
   "metadata": {},
   "outputs": [],
   "source": [
    "# Type the video id to label\n",
    "VIDEO_ID = 3\n",
    "\n",
    "VIDEO_FILE_PATH = str(INDEX_DT.loc[VIDEO_ID,'path'])\n",
    "\n",
    "# Read CSV data file\n",
    "VD_MEASURE_DT = man_lab_fun.READ_CSV_FILE(VIDEO_FILE_PATH, fp.VD_MEASURE_L0)\n",
    "\n",
    "# set frames_seq as index\n",
    "VD_MEASURE_DT_V2 = VD_MEASURE_DT.set_index(pd.Index(VD_MEASURE_DT['frame_seq']))\n",
    "VD_MEASURE_DT_V2.drop(columns=[\"frame_seq\", \"video_id\", \"time_seconds\"], inplace=True)"
   ]
  },
  {
   "cell_type": "code",
   "execution_count": null,
   "metadata": {},
   "outputs": [],
   "source": [
    "VD_MEASURE_DT"
   ]
  },
  {
   "cell_type": "markdown",
   "metadata": {},
   "source": [
    "### Graph Analyse"
   ]
  },
  {
   "cell_type": "code",
   "execution_count": null,
   "metadata": {},
   "outputs": [],
   "source": [
    "PLOT_MEASURE_EXPLORER(VD_MEASURE_DT_V2)"
   ]
  },
  {
   "cell_type": "markdown",
   "metadata": {},
   "source": [
    "### Loads frames from the selected video for further image analysis \n"
   ]
  },
  {
   "cell_type": "code",
   "execution_count": null,
   "metadata": {},
   "outputs": [],
   "source": [
    "VIDEO_EXT = '.mp4'\n",
    "\n",
    "# Get path from selected video id\n",
    "video_name = str(INDEX_DT.loc[VIDEO_ID,'link_video']) + VIDEO_EXT\n",
    "\n",
    "path_video_file = os.path.join(fp.VIDEO_SOURCE_SEED, video_name)\n",
    "\n",
    "video_frames = man_lab_fun.LOAD_VIDEO_FRAMES(path_video_file)"
   ]
  },
  {
   "cell_type": "markdown",
   "metadata": {},
   "source": [
    "### Set Frames Parameters"
   ]
  },
  {
   "cell_type": "code",
   "execution_count": null,
   "metadata": {},
   "outputs": [],
   "source": [
    "start_frame_crop = 0\n",
    "end_frame_crop = len(VD_MEASURE_DT) - 1\n",
    "n_frames_per_row = 6"
   ]
  },
  {
   "cell_type": "markdown",
   "metadata": {},
   "source": [
    "### Displays frames for image analysis"
   ]
  },
  {
   "cell_type": "code",
   "execution_count": null,
   "metadata": {},
   "outputs": [],
   "source": [
    "man_lab_fun.DISPLAY_FRAMES(video_frames, start_frame_crop, end_frame_crop, n_frames_per_row)"
   ]
  },
  {
   "cell_type": "markdown",
   "metadata": {},
   "source": [
    "### Reads or creates the VD_LABELED file if it does not exist."
   ]
  },
  {
   "cell_type": "code",
   "execution_count": null,
   "metadata": {},
   "outputs": [],
   "source": [
    "labeled_file_exists = int(str(INDEX_DT.loc[VIDEO_ID,'label_file_exist']))\n",
    "\n",
    "if labeled_file_exists == 0:\n",
    "    print('Creating Label File...')\n",
    "    VD_MEASURE_DT['label_measures'] = str({})\n",
    "    VD_LABELED_DT = VD_MEASURE_DT.copy()\n",
    "else:\n",
    "    print('Reading Label File...') \n",
    "    VD_LABELED_DT = man_lab_fun.READ_CSV_FILE(str(INDEX_DT.loc[VIDEO_ID,'path']).split()[2], fp.VD_LABELED_L0)"
   ]
  },
  {
   "cell_type": "markdown",
   "metadata": {},
   "source": [
    "### Label the selected frames"
   ]
  },
  {
   "cell_type": "code",
   "execution_count": null,
   "metadata": {},
   "outputs": [],
   "source": [
    "# Type the Begin and End frames you want to label (By default label the section with the selected frames above)\n",
    "init_frame_label = start_frame_crop\n",
    "end_frame_label = end_frame_crop\n",
    "\n",
    "# Prepare List and Dict\n",
    "selected_class = 'neutral'\n",
    "label_measure_insert = [\"m1\", \"m3\", \"m12\", \"e1\", \"e2\"]\n",
    "\n",
    "# Just Insert\n",
    "VD_LABELED_DT = man_lab_fun.UPDATE_LABEL_DF(init_frame_label, end_frame_label, selected_class, label_measure_insert, VD_LABELED_DT)"
   ]
  },
  {
   "cell_type": "markdown",
   "metadata": {},
   "source": [
    "### Verify the added labels."
   ]
  },
  {
   "cell_type": "code",
   "execution_count": null,
   "metadata": {
    "scrolled": true
   },
   "outputs": [],
   "source": [
    "try:\n",
    "    get_measure = man_lab_fun.GET_MEASURES_FROM_CLASS (VD_LABELED_DT, selected_class)\n",
    "    print(get_measure)\n",
    "except:\n",
    "    print('Class not found')"
   ]
  },
  {
   "cell_type": "markdown",
   "metadata": {},
   "source": [
    "### Plots a graph marking the start and end of the labels for a class."
   ]
  },
  {
   "cell_type": "code",
   "execution_count": null,
   "metadata": {},
   "outputs": [],
   "source": [
    "# Select the begin and end frame to be shown\n",
    "start_frame = 0\n",
    "end_frame = len(VD_LABELED_DT)\n",
    "\n",
    "py.init_notebook_mode(connected=True)\n",
    "plt.rcParams['font.size'] = 10\n",
    "plt.rcParams[\"font.family\"] = \"Times New Roman\"\n",
    "\n",
    "man_lab_fun.PLOT_CLASS_GRAPH(VD_LABELED_DT, VD_MEASURE_DT_V2, selected_class, start_frame, end_frame)"
   ]
  },
  {
   "cell_type": "markdown",
   "metadata": {},
   "source": [
    "### Save the VD_LABELED file to disk"
   ]
  },
  {
   "cell_type": "code",
   "execution_count": null,
   "metadata": {},
   "outputs": [],
   "source": [
    "VD_LABELED_DT.to_csv(os.path.join(VIDEO_FILE_PATH, fp.VD_LABELED_L0))"
   ]
  }
 ],
 "metadata": {
  "kernelspec": {
   "display_name": "Python 3 (ipykernel)",
   "language": "python",
   "name": "python3"
  },
  "language_info": {
   "codemirror_mode": {
    "name": "ipython",
    "version": 3
   },
   "file_extension": ".py",
   "mimetype": "text/x-python",
   "name": "python",
   "nbconvert_exporter": "python",
   "pygments_lexer": "ipython3",
   "version": "3.8.19"
  }
 },
 "nbformat": 4,
 "nbformat_minor": 4
}

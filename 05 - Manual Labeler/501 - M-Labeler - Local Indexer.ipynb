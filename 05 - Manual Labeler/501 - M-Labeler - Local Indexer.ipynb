{
 "cells": [
  {
   "cell_type": "markdown",
   "metadata": {},
   "source": [
    "# Import dependencies"
   ]
  },
  {
   "cell_type": "code",
   "execution_count": 1,
   "metadata": {},
   "outputs": [],
   "source": [
    "import os, sys, pandas as pd\n",
    "\n",
    "# Import library with current code functions\n",
    "sys.path.append(os.path.join(\"..\", \"lib\"))\n",
    "import indexer_functions as indx_fun, general_functions as gf, files_paths as fp"
   ]
  },
  {
   "cell_type": "markdown",
   "metadata": {},
   "source": [
    "## Defining variables"
   ]
  },
  {
   "cell_type": "code",
   "execution_count": 2,
   "metadata": {},
   "outputs": [],
   "source": [
    "FILE_LIST_VD_REF_SEED = gf.find_files_in_all_subdirectories([fp.VIDEO_SOURCE_SEED], '*' + '.mp4')\n",
    "FILE_LIST_VD_INFO = gf.find_files_in_all_subdirectories([fp.DATASET_SEED], fp.VD_INFO)\n",
    "VIDEOS_NAMES = [gf.get_file_name(current_path_location, '.mp4') for current_path_location in FILE_LIST_VD_REF_SEED]"
   ]
  },
  {
   "cell_type": "markdown",
   "metadata": {},
   "source": [
    "## Check which videos has the INFO file"
   ]
  },
  {
   "cell_type": "code",
   "execution_count": 3,
   "metadata": {},
   "outputs": [],
   "source": [
    "for file in FILE_LIST_VD_INFO:\n",
    "    video_info = pd.read_csv(file)\n",
    "    video_id = video_info['link_video'][0]\n",
    "    if video_id in VIDEOS_NAMES:\n",
    "        VIDEOS_NAMES.remove(video_id)"
   ]
  },
  {
   "cell_type": "code",
   "execution_count": 4,
   "metadata": {},
   "outputs": [],
   "source": [
    "number_of_videos = len(VIDEOS_NAMES)\n",
    "VIDEO_ID = gf.collect_next_video_id(FILE_LIST_VD_INFO)\n",
    "FOLDER_PREFIX = \"VD_R_\"\n",
    "ORIGIN_VID = 'D'\n",
    "\n",
    "for i, video_name in enumerate(VIDEOS_NAMES):\n",
    "    current_path_location = os.path.join(fp.VIDEO_SOURCE_SEED, video_name + '.mp4')\n",
    "\n",
    "    print (str(i+1) + \" of \" + str(number_of_videos) + \" : \" + \"Starting to process the \" + video_name)\n",
    "    \n",
    "    INFO_COLLECTED_SUCCESSFULLY, SHAPE_ORIGINAL, DURATION_ORIGINAL, FPS_ORIGINAL = gf.collect_video_info(current_path_location)\n",
    "\n",
    "    if INFO_COLLECTED_SUCCESSFULLY:\n",
    "        indx_fun.create_vd_info(VIDEO_ID, DURATION_ORIGINAL, FPS_ORIGINAL, SHAPE_ORIGINAL, FOLDER_PREFIX, fp.DATASET_SEED, fp.VD_INFO, video_name, ORIGIN_VID)\n",
    "        VIDEO_ID += 1"
   ]
  }
 ],
 "metadata": {
  "kernelspec": {
   "display_name": "Python 3",
   "language": "python",
   "name": "python3"
  },
  "language_info": {
   "codemirror_mode": {
    "name": "ipython",
    "version": 3
   },
   "file_extension": ".py",
   "mimetype": "text/x-python",
   "name": "python",
   "nbconvert_exporter": "python",
   "pygments_lexer": "ipython3",
   "version": "3.12.2"
  }
 },
 "nbformat": 4,
 "nbformat_minor": 4
}

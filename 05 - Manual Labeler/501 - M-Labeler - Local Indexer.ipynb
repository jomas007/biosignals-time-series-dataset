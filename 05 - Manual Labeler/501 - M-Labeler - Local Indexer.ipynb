{
 "cells": [
  {
   "cell_type": "markdown",
   "metadata": {},
   "source": [
    "# Import dependencies"
   ]
  },
  {
   "cell_type": "code",
   "execution_count": 1,
   "metadata": {},
   "outputs": [
    {
     "name": "stdout",
     "output_type": "stream",
     "text": [
      "Teste\n"
     ]
    }
   ],
   "source": [
    "import os, sys, pandas as pd, glob\n",
    "\n",
    "# Import library with current code functions\n",
    "sys.path.append(os.path.join(\"..\", \"lib\"))\n",
    "import indexer_functions as indx_fun\n",
    "\n",
    "import general_functions as gf"
   ]
  },
  {
   "cell_type": "markdown",
   "metadata": {},
   "source": [
    "## Defining variables"
   ]
  },
  {
   "cell_type": "code",
   "execution_count": 2,
   "metadata": {},
   "outputs": [],
   "source": [
    "VIDEO_SOURCE_FOLDER_PATH = \"..\" + os.sep + 'Video-Source' + os.sep + 'in_REF-Gold'\n",
    "DESTINATION_FOLDER_PATH = \"..\" + os.sep + 'Dataset' + os.sep + 'REF-Gold-Label'\n",
    "\n",
    "VIDEO_FILE_NAME_LIST = []\n",
    "\n",
    "FOLDER_PATH = os.path.join(VIDEO_SOURCE_FOLDER_PATH, '**', '*')\n",
    "MAIN_LIST_FEATURE_LOCAL = sorted(glob.iglob(FOLDER_PATH, recursive=True))\n",
    "\n",
    "# Make a list with the NAME of the videos \n",
    "for current_path_location in MAIN_LIST_FEATURE_LOCAL:\n",
    "    if gf.get_file_name(current_path_location, '.mp4') not in VIDEO_FILE_NAME_LIST:\n",
    "        VIDEO_FILE_NAME_LIST.append(gf.get_file_name(current_path_location, '.mp4'))\n",
    "\n",
    "VD_INFO_LOCATION_TREE_LST = []\n",
    "VD_INFO_FILE_NAME = 'VD_INFO.CSV'\n",
    "\n",
    "# Scan the folder and save the list of csv\n",
    "FOLDER_PATH = os.path.join(DESTINATION_FOLDER_PATH, '**', VD_INFO_FILE_NAME)\n",
    "FOLDER_CSV_SCAN = glob.iglob(FOLDER_PATH, recursive=True )\n",
    "\n",
    "# Order by name\n",
    "VD_INFO_LOCATION_TREE_LST = sorted(FOLDER_CSV_SCAN)\n"
   ]
  },
  {
   "cell_type": "markdown",
   "metadata": {},
   "source": [
    "## Check which videos has the INFO file"
   ]
  },
  {
   "cell_type": "code",
   "execution_count": 3,
   "metadata": {},
   "outputs": [],
   "source": [
    "for file in VD_INFO_LOCATION_TREE_LST:\n",
    "    video_info = pd.read_csv(file)\n",
    "    video_id = video_info['link_video'][0]\n",
    "    if video_id in VIDEO_FILE_NAME_LIST:\n",
    "        VIDEO_FILE_NAME_LIST.remove(video_id)"
   ]
  },
  {
   "cell_type": "code",
   "execution_count": 4,
   "metadata": {},
   "outputs": [],
   "source": [
    "number_of_videos = len(VIDEO_FILE_NAME_LIST)\n",
    "VIDEO_ID = gf.collect_next_video_id(VD_INFO_LOCATION_TREE_LST)\n",
    "FOLDER_PREFIX = \"VD_R_\"\n",
    "ORIGIN_VID = 'R'\n",
    "\n",
    "for i, video_name in enumerate(VIDEO_FILE_NAME_LIST):\n",
    "    current_path_location = os.path.join(VIDEO_SOURCE_FOLDER_PATH, video_name+'.mp4')\n",
    "\n",
    "    print (str(i+1) + \" of \"+ str(number_of_videos) + \" : \" + \"Starting to process the \" + video_name)\n",
    "    \n",
    "    # Collect the video link information \n",
    "    INFO_COLLECTED_SUCCESSFULLY, SHAPE_ORIGINAL, DURATION_ORIGINAL, FPS_ORIGINAL = gf.collect_video_info(current_path_location)\n",
    "\n",
    "    if INFO_COLLECTED_SUCCESSFULLY:\n",
    "        indx_fun.create_vd_info(VIDEO_ID, DURATION_ORIGINAL, FPS_ORIGINAL, SHAPE_ORIGINAL, FOLDER_PREFIX, DESTINATION_FOLDER_PATH, VD_INFO_FILE_NAME, video_name, ORIGIN_VID)\n",
    "        \n",
    "        # Increment the video ID\n",
    "        VIDEO_ID += 1"
   ]
  }
 ],
 "metadata": {
  "kernelspec": {
   "display_name": "Python 3",
   "language": "python",
   "name": "python3"
  },
  "language_info": {
   "codemirror_mode": {
    "name": "ipython",
    "version": 3
   },
   "file_extension": ".py",
   "mimetype": "text/x-python",
   "name": "python",
   "nbconvert_exporter": "python",
   "pygments_lexer": "ipython3",
   "version": "3.10.12"
  }
 },
 "nbformat": 4,
 "nbformat_minor": 4
}

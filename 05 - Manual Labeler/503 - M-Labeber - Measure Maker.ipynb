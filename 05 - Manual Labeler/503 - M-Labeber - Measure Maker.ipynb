{
 "cells": [
  {
   "cell_type": "code",
   "execution_count": 1,
   "metadata": {},
   "outputs": [],
   "source": [
    "import os, sys, pandas as pd, glob\n",
    "\n",
    "# Import library with current code functions\n",
    "sys.path.append(os.path.join(\"..\", \"lib\"))\n",
    "import measure_maker_functions as meas_mak_fun\n"
   ]
  },
  {
   "cell_type": "markdown",
   "metadata": {},
   "source": [
    "## Defining variables"
   ]
  },
  {
   "cell_type": "code",
   "execution_count": 2,
   "metadata": {},
   "outputs": [],
   "source": [
    "VIDEO_SOURCE_FOLDER_LOCAL = os.path.join('..', 'Dataset', 'REF-Gold-Label')\n",
    "\n",
    "VD_MEASURE_FILE_NAME = 'VD_MEASURE_L0.CSV'\n",
    "VD_FEATURE_FILE_NAME = 'VD_FEATURES_L1.CSV'\n",
    "\n",
    "# Scan the folder and save the list of csv\n",
    "FOLDER_PATH = os.path.join(VIDEO_SOURCE_FOLDER_LOCAL, '**', VD_FEATURE_FILE_NAME)\n",
    "MAIN_LIST_FEATURE = sorted(glob.iglob(FOLDER_PATH, recursive=True ))\n",
    "\n",
    "MAIN_LIST_FEATURE_FILTER = []\n",
    "for path in MAIN_LIST_FEATURE:\n",
    "    path_base = os.path.join(os.path.dirname(path), VD_MEASURE_FILE_NAME)\n",
    "    if not os.path.exists(path_base):\n",
    "        MAIN_LIST_FEATURE_FILTER.append(path)"
   ]
  },
  {
   "cell_type": "markdown",
   "metadata": {},
   "source": [
    "## Measure points"
   ]
  },
  {
   "cell_type": "code",
   "execution_count": 3,
   "metadata": {},
   "outputs": [
    {
     "name": "stdout",
     "output_type": "stream",
     "text": [
      "1 of 2: ../Dataset/REF-Gold-Label/VD_R_0000000001/VD_MEASURE_L0.CSV\n",
      "2 of 2: ../Dataset/REF-Gold-Label/VD_R_0000000002/VD_MEASURE_L0.CSV\n"
     ]
    }
   ],
   "source": [
    "for i, path_mounted_csv in enumerate(MAIN_LIST_FEATURE_FILTER):\n",
    "\n",
    "    # Boca interna 1 vertical 63 e 67\n",
    "    m1 = meas_mak_fun.measure_two_points_from_csv (path_mounted_csv, 63-1, 67-1, 'm1')\n",
    "    \n",
    "    # Boca externa horizontal 49 e 55\n",
    "    m3 = meas_mak_fun.measure_two_points_from_csv (path_mounted_csv, 49-1, 55-1, 'm3')\n",
    "\n",
    "    # Lábios superiores 1 vertical 52 e 63\n",
    "    m4 = meas_mak_fun.measure_two_points_from_csv (path_mounted_csv, 52-1, 63-1, 'm4')\n",
    "    \n",
    "    # Lábios inferiores 1 vertical 67 e 58\n",
    "    m5 = meas_mak_fun.measure_two_points_from_csv (path_mounted_csv, 67-1, 58-1, 'm5')\n",
    "    \n",
    "    # Lábios horizontal superior 62 e 64\n",
    "    m6 = meas_mak_fun.measure_two_points_from_csv (path_mounted_csv, 62-1, 64-1, 'm6')\n",
    "    \n",
    "    # Lábios horizontal inferior 59 e 57\n",
    "    m7 = meas_mak_fun.measure_two_points_from_csv (path_mounted_csv, 59-1, 57-1, 'm7')\n",
    "    \n",
    "    # Lábio superior e nariz 34 e 52\n",
    "    m8 = meas_mak_fun.measure_two_points_from_csv (path_mounted_csv, 34-1, 52-1, 'm8')\n",
    "    \n",
    "    # Lábio inferior e nariz 34 e 58\n",
    "    m9 = meas_mak_fun.measure_two_points_from_csv (path_mounted_csv, 34-1, 58-1, 'm9')\n",
    "    \n",
    "    # Lábio inferior interno e nariz 34 e 67\n",
    "    m10 = meas_mak_fun.measure_two_points_from_csv (path_mounted_csv, 34-1, 67-1, 'm10')\n",
    "    \n",
    "    # Boca: Traçar média entre 63 e 67 e medir paralelo vertical com 34\n",
    "    m11 = meas_mak_fun.measure_vertical_two_arrays_mean (path_mounted_csv, [63-1, 67-1], [34-1], 'm11')\n",
    "    \n",
    "    # Boca-Nariz: Medir paralelo vertical entre 34 e 49\n",
    "    m12 = meas_mak_fun.measure_vertical_two_arrays_mean (path_mounted_csv, [34-1], [49-1], 'm12')\n",
    "    \n",
    "    # Boca-Nariz: Medir paralelo vertical direito entre 34 e 55\n",
    "    m13 = meas_mak_fun.measure_vertical_two_arrays_mean (path_mounted_csv, [34-1], [55-1], 'm13')\n",
    "    \n",
    "    # Boca: Traçar média entre 49 e 55 e medir paralelo vertical com 52\n",
    "    m14 = meas_mak_fun.measure_vertical_two_arrays_mean (path_mounted_csv, [49-1, 55-1], [52-1], 'm14')\n",
    "    \n",
    "    # Boca: Traçar média entre 49 e 55 e medir paralelo vertical com 58\n",
    "    m15 = meas_mak_fun.measure_vertical_two_arrays_mean (path_mounted_csv, [49-1, 55-1], [58-1], 'm15')\n",
    "    \n",
    "    # Boca: Traçar média entre 49 e 55 e medir paralelo vertical com 67\n",
    "    m16 = meas_mak_fun.measure_vertical_two_arrays_mean (path_mounted_csv, [49-1, 55-1], [67], 'm16')\n",
    "    \n",
    "    # Boca: Traçar média entre 49 e 55 e medir paralelo vertical com 63\n",
    "    m17 = meas_mak_fun.measure_vertical_two_arrays_mean (path_mounted_csv, [49-1, 55-1], [63], 'm17')\n",
    "    \n",
    "    # Olho esquerdo vertical 38 e 42\n",
    "    e1 = meas_mak_fun.measure_two_points_from_csv (path_mounted_csv, 38-1, 42-1, 'e1')\n",
    "    \n",
    "    # Olho direito vertical 44 e 48\n",
    "    e2 = meas_mak_fun.measure_two_points_from_csv (path_mounted_csv, 44-1, 48-1, 'e2')\n",
    "    \n",
    "    # Olho: Distância vertical olho direito2 com média entre os pontos 45-44 e 47-48\n",
    "    e3 = meas_mak_fun.measure_vertical_two_arrays_mean (path_mounted_csv, [45-1, 44-1], [47-1, 48-1], 'e3')\n",
    "    \n",
    "    # Sobrancelha-Nariz: Medir paralelo vertical esquerda entre 28 e 20\n",
    "    b1 = meas_mak_fun.measure_vertical_two_arrays_mean (path_mounted_csv, [28-1], [20-1], 'b1')\n",
    "    \n",
    "    # Sobrancelha-Nariz: Medir paralelo vertical direita entre 28 e 25\n",
    "    b2 = meas_mak_fun.measure_vertical_two_arrays_mean (path_mounted_csv, [28-1], [25-1], 'b2')\n",
    "    \n",
    "    # Sobrancelhas horizontal 22 e 23\n",
    "    b3 = meas_mak_fun.measure_two_points_from_csv (path_mounted_csv, 22-1, 23-1, 'b3')\n",
    "    \n",
    "    \n",
    "    # Join the dataframes\n",
    "    MEASURE_DATA_FRAME_CURRENT = pd.concat([m1, m3, m4, m5, m6, m7, m8, m9, m10, m11, m12, m13, m14, m15, m16, m17, \n",
    "                                           e1, e2, e3,\n",
    "                                          b1, b2, b3], axis=1)\n",
    "    \n",
    "    # Save frame_seq column on MEASURE_DATA_FRAME\n",
    "    csv_data_frame_in = pd.read_csv(path_mounted_csv)\n",
    "\n",
    "    MEASURE_DATA_FRAME_CURRENT.insert(0, 'video_id',  csv_data_frame_in['video_id'])\n",
    "    MEASURE_DATA_FRAME_CURRENT.insert(1, 'frame_seq',  csv_data_frame_in['frame_seq'])\n",
    "    MEASURE_DATA_FRAME_CURRENT.insert(2, 'time_seconds',  csv_data_frame_in['time_seconds'])\n",
    "\n",
    "    base_path_folder_output = os.path.join(os.path.dirname(path_mounted_csv), VD_MEASURE_FILE_NAME)\n",
    "    \n",
    "    # Count Process\n",
    "    print (str(i+1) + \" of \" + str(len(MAIN_LIST_FEATURE)) + \": \" + base_path_folder_output)\n",
    "    \n",
    "    # Generate the OUTPUT CSV in the current folder\n",
    "    MEASURE_DATA_FRAME_CURRENT.to_csv(base_path_folder_output)"
   ]
  }
 ],
 "metadata": {
  "kernelspec": {
   "display_name": "Python 3",
   "language": "python",
   "name": "python3"
  },
  "language_info": {
   "codemirror_mode": {
    "name": "ipython",
    "version": 3
   },
   "file_extension": ".py",
   "mimetype": "text/x-python",
   "name": "python",
   "nbconvert_exporter": "python",
   "pygments_lexer": "ipython3",
   "version": "3.10.12"
  }
 },
 "nbformat": 4,
 "nbformat_minor": 4
}

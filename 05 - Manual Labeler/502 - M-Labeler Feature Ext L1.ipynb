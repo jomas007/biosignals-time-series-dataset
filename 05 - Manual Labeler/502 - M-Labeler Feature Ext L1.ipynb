{
 "cells": [
  {
   "cell_type": "markdown",
   "metadata": {},
   "source": [
    "# Import dependencies"
   ]
  },
  {
   "cell_type": "code",
   "execution_count": 1,
   "metadata": {},
   "outputs": [],
   "source": [
    "import os\n",
    "import sys\n",
    "\n",
    "# Import library with current code functions\n",
    "sys.path.append(os.path.join(\"..\", \"lib\"))\n",
    "import feature_extraction_functions as feat_ext_fun, general_functions as gf, files_paths as fp"
   ]
  },
  {
   "cell_type": "code",
   "execution_count": 2,
   "metadata": {},
   "outputs": [],
   "source": [
    "FILE_LIST_VD_INFO_LOCAL = gf.find_files_in_all_subdirectories([fp.DATASET_SEED], fp.VD_INFO)\n",
    "\n",
    "# Filter witch videos has the 'VD_FEATURES_L1.CSV' file and delete then from the list\n",
    "FILE_LIST_VD_INFO_LOCAL_FILTERED = [video_info_file for video_info_file in FILE_LIST_VD_INFO_LOCAL if not os.path.exists(os.path.join(os.path.dirname(video_info_file), fp.VD_FEATURES_L1))]"
   ]
  },
  {
   "cell_type": "markdown",
   "metadata": {},
   "source": [
    "# Extract the features of SEED videos"
   ]
  },
  {
   "cell_type": "code",
   "execution_count": 3,
   "metadata": {},
   "outputs": [],
   "source": [
    "feat_ext_fun.FEATURE_EXTRACTOR_L1_ALL(FILE_LIST_VD_INFO_LOCAL_FILTERED, fp.VIDEO_SOURCE_SEED)"
   ]
  }
 ],
 "metadata": {
  "kernelspec": {
   "display_name": "t3-gpu",
   "language": "python",
   "name": "python3"
  },
  "language_info": {
   "codemirror_mode": {
    "name": "ipython",
    "version": 3
   },
   "file_extension": ".py",
   "mimetype": "text/x-python",
   "name": "python",
   "nbconvert_exporter": "python",
   "pygments_lexer": "ipython3",
   "version": "3.10.15"
  }
 },
 "nbformat": 4,
 "nbformat_minor": 4
}

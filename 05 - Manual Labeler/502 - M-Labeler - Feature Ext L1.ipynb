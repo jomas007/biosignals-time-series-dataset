{
 "cells": [
  {
   "cell_type": "markdown",
   "metadata": {},
   "source": [
    "# Import dependencies"
   ]
  },
  {
   "cell_type": "code",
   "execution_count": 5,
   "metadata": {},
   "outputs": [],
   "source": [
    "import os, sys, glob\n",
    "\n",
    "# Import library with current code functions\n",
    "sys.path.append(os.path.join(\"..\", \"lib\"))\n",
    "import feature_extraction_functions as feat_ext_fun\n"
   ]
  },
  {
   "cell_type": "code",
   "execution_count": 6,
   "metadata": {},
   "outputs": [],
   "source": [
    "VIDEO_SOURCE_FOLDER_LOCAL = os.path.join('..', 'Video-Source', 'in_REF-Gold') + os.sep\n",
    "DESTINATION_FOLDER_PATH = os.path.join('..', 'Dataset', 'REF-Gold-Label')\n",
    "\n",
    "VD_INFO_FILE_NAME = 'VD_INFO.CSV'\n",
    "\n",
    "# Scan the folder and save the list of csv\n",
    "FOLDER_PATH = os.path.join(DESTINATION_FOLDER_PATH, '**', VD_INFO_FILE_NAME)\n",
    "VD_INFO_LOCATION_TREE_LST = sorted(glob.iglob(FOLDER_PATH, recursive=True ))"
   ]
  },
  {
   "cell_type": "code",
   "execution_count": 7,
   "metadata": {},
   "outputs": [
    {
     "name": "stdout",
     "output_type": "stream",
     "text": [
      "1 of 2 : Starting to process the ../Dataset/REF-Gold-Label/VD_R_0000000001/VD_INFO.CSV\n",
      "2 of 2 : Starting to process the ../Dataset/REF-Gold-Label/VD_R_0000000002/VD_INFO.CSV\n"
     ]
    }
   ],
   "source": [
    "# Call the Function to LOCAL\n",
    "feat_ext_fun.FEATURE_EXTRACTOR_L1_ALL(VD_INFO_LOCATION_TREE_LST, VIDEO_SOURCE_FOLDER_LOCAL)"
   ]
  }
 ],
 "metadata": {
  "kernelspec": {
   "display_name": "Python 3 (ipykernel)",
   "language": "python",
   "name": "python3"
  },
  "language_info": {
   "codemirror_mode": {
    "name": "ipython",
    "version": 3
   },
   "file_extension": ".py",
   "mimetype": "text/x-python",
   "name": "python",
   "nbconvert_exporter": "python",
   "pygments_lexer": "ipython3",
   "version": "3.10.12"
  }
 },
 "nbformat": 4,
 "nbformat_minor": 4
}

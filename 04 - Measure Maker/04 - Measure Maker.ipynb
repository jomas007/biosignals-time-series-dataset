{
 "cells": [
  {
   "cell_type": "markdown",
   "metadata": {},
   "source": [
    "# Import dependencies"
   ]
  },
  {
   "cell_type": "code",
   "execution_count": 1,
   "metadata": {},
   "outputs": [],
   "source": [
    "import os\n",
    "import sys\n",
    "import pandas as pd \n",
    "\n",
    "# Import library with current code functions\n",
    "sys.path.append(os.path.join(\"..\", \"lib\"))\n",
    "import measure_maker_functions as meas_mak_fun, files_paths as fp, general_functions as gf"
   ]
  },
  {
   "cell_type": "markdown",
   "metadata": {},
   "source": [
    "## Filter witch videos already has the VD_MEASURE_L0 file and remove them from the list"
   ]
  },
  {
   "cell_type": "code",
   "execution_count": 2,
   "metadata": {},
   "outputs": [],
   "source": [
    "FILE_LIST_FEATURE_L3 = gf.find_files_in_all_subdirectories([fp.DATASET_YT, fp.DATASET_LOCAL], fp.VD_FEATURES_L3)\n",
    "\n",
    "FILE_LIST_FEATURE_L3_FILTERED = [path for path in FILE_LIST_FEATURE_L3 if not os.path.exists(os.path.join(os.path.dirname(path), fp.VD_MEASURE_L0))]"
   ]
  },
  {
   "cell_type": "code",
   "execution_count": 3,
   "metadata": {},
   "outputs": [
    {
     "name": "stdout",
     "output_type": "stream",
     "text": [
      "1 of 1: ..\\Dataset\\DD-Local\\VD_D_0000000043\\VD_MEASURE_L0.CSV\n"
     ]
    }
   ],
   "source": [
    "# Iterate over the filtered feature list\n",
    "for i, current_file_path in enumerate(FILE_LIST_FEATURE_L3_FILTERED):\n",
    "\n",
    "    # Internal mouth 1 vertical 63 and 67\n",
    "    m1 = meas_mak_fun.measure_two_points_from_csv(current_file_path, 63-1, 67-1, 'm1')\n",
    "    \n",
    "    # External mouth horizontal 49 and 55\n",
    "    m3 = meas_mak_fun.measure_two_points_from_csv(current_file_path, 49-1, 55-1, 'm3')\n",
    "\n",
    "    # Upper lips 1 vertical 52 and 63\n",
    "    m4 = meas_mak_fun.measure_two_points_from_csv(current_file_path, 52-1, 63-1, 'm4')\n",
    "    \n",
    "    # Lower lips 1 vertical 67 and 58\n",
    "    m5 = meas_mak_fun.measure_two_points_from_csv(current_file_path, 67-1, 58-1, 'm5')\n",
    "    \n",
    "    # Upper lips horizontal 62 and 64\n",
    "    m6 = meas_mak_fun.measure_two_points_from_csv(current_file_path, 62-1, 64-1, 'm6')\n",
    "    \n",
    "    # Lower lips horizontal 59 and 57\n",
    "    m7 = meas_mak_fun.measure_two_points_from_csv(current_file_path, 59-1, 57-1, 'm7')\n",
    "    \n",
    "    # Upper lip and nose 34 and 52\n",
    "    m8 = meas_mak_fun.measure_two_points_from_csv(current_file_path, 34-1, 52-1, 'm8')\n",
    "    \n",
    "    # Lower lip and nose 34 and 58\n",
    "    m9 = meas_mak_fun.measure_two_points_from_csv(current_file_path, 34-1, 58-1, 'm9')\n",
    "    \n",
    "    # Internal lower lip and nose 34 and 67\n",
    "    m10 = meas_mak_fun.measure_two_points_from_csv(current_file_path, 34-1, 67-1, 'm10')\n",
    "    \n",
    "    # Mouth: Draw average between 63 and 67 and measure vertical parallel with 34\n",
    "    m11 = meas_mak_fun.measure_vertical_two_arrays_mean(current_file_path, [63-1, 67-1], [34-1], 'm11')\n",
    "    \n",
    "    # Mouth-Nose: Measure vertical parallel between 34 and 49\n",
    "    m12 = meas_mak_fun.measure_vertical_two_arrays_mean(current_file_path, [34-1], [49-1], 'm12')\n",
    "    \n",
    "    # Mouth-Nose: Measure right vertical parallel between 34 and 55\n",
    "    m13 = meas_mak_fun.measure_vertical_two_arrays_mean(current_file_path, [34-1], [55-1], 'm13')\n",
    "    \n",
    "    # Mouth: Draw average between 49 and 55 and measure vertical parallel with 52\n",
    "    m14 = meas_mak_fun.measure_vertical_two_arrays_mean(current_file_path, [49-1, 55-1], [52-1], 'm14')\n",
    "    \n",
    "    # Mouth: Draw average between 49 and 55 and measure vertical parallel with 58\n",
    "    m15 = meas_mak_fun.measure_vertical_two_arrays_mean(current_file_path, [49-1, 55-1], [58-1], 'm15')\n",
    "    \n",
    "    # Mouth: Draw average between 49 and 55 and measure vertical parallel with 67\n",
    "    m16 = meas_mak_fun.measure_vertical_two_arrays_mean(current_file_path, [49-1, 55-1], [67], 'm16')\n",
    "    \n",
    "    # Mouth: Draw average between 49 and 55 and measure vertical parallel with 63\n",
    "    m17 = meas_mak_fun.measure_vertical_two_arrays_mean(current_file_path, [49-1, 55-1], [63], 'm17')\n",
    "    \n",
    "    # Left eye vertical 38 and 42\n",
    "    e1 = meas_mak_fun.measure_two_points_from_csv(current_file_path, 38-1, 42-1, 'e1')\n",
    "    \n",
    "    # Right eye vertical 44 and 48\n",
    "    e2 = meas_mak_fun.measure_two_points_from_csv(current_file_path, 44-1, 48-1, 'e2')\n",
    "    \n",
    "    # Eye: Vertical distance right eye 2 with average between points 45-44 and 47-48\n",
    "    e3 = meas_mak_fun.measure_vertical_two_arrays_mean(current_file_path, [45-1, 44-1], [47-1, 48-1], 'e3')\n",
    "    \n",
    "    # Eyebrow-Nose: Measure left vertical parallel between 28 and 20\n",
    "    b1 = meas_mak_fun.measure_vertical_two_arrays_mean(current_file_path, [28-1], [20-1], 'b1')\n",
    "    \n",
    "    # Eyebrow-Nose: Measure right vertical parallel between 28 and 25\n",
    "    b2 = meas_mak_fun.measure_vertical_two_arrays_mean(current_file_path, [28-1], [25-1], 'b2')\n",
    "    \n",
    "    # Eyebrows horizontal 22 and 23\n",
    "    b3 = meas_mak_fun.measure_two_points_from_csv(current_file_path, 22-1, 23-1, 'b3')\n",
    "    \n",
    "    # Join the dataframes\n",
    "    MEASURE_DATA_FRAME_CURRENT = pd.concat([m1, m3, m4, m5, m6, m7, m8, m9, m10, m11, m12, m13, m14, m15, m16, m17, \n",
    "                                           e1, e2, e3,\n",
    "                                          b1, b2, b3], axis=1)\n",
    "    \n",
    "    # Save frame_seq column on MEASURE_DATA_FRAME\n",
    "    csv_data_frame_in = pd.read_csv(current_file_path)\n",
    "\n",
    "    MEASURE_DATA_FRAME_CURRENT.insert(0, 'video_id',  csv_data_frame_in['video_id'])\n",
    "    MEASURE_DATA_FRAME_CURRENT.insert(1, 'frame_seq',  csv_data_frame_in['frame_seq'])\n",
    "    MEASURE_DATA_FRAME_CURRENT.insert(2, 'gap',  csv_data_frame_in['gap'])\n",
    "    MEASURE_DATA_FRAME_CURRENT.insert(3, 'time_seconds',  csv_data_frame_in['time_seconds'])\n",
    "    \n",
    "    # Collect the current path\n",
    "    base_path_folder_output = os.path.join(os.path.dirname(current_file_path), fp.VD_MEASURE_L0)\n",
    "    \n",
    "    # Count Process\n",
    "    print(str(i+1) + \" of \" + str(len(FILE_LIST_FEATURE_L3_FILTERED)) + \": \" + base_path_folder_output)\n",
    "    \n",
    "    # Generate the OUTPUT CSV in the current folder\n",
    "    MEASURE_DATA_FRAME_CURRENT.to_csv(base_path_folder_output)"
   ]
  }
 ],
 "metadata": {
  "kernelspec": {
   "display_name": "t3-gpu",
   "language": "python",
   "name": "python3"
  },
  "language_info": {
   "codemirror_mode": {
    "name": "ipython",
    "version": 3
   },
   "file_extension": ".py",
   "mimetype": "text/x-python",
   "name": "python",
   "nbconvert_exporter": "python",
   "pygments_lexer": "ipython3",
   "version": "3.10.15"
  }
 },
 "nbformat": 4,
 "nbformat_minor": 4
}

{
 "cells": [
  {
   "cell_type": "markdown",
   "id": "6b9cdb50",
   "metadata": {},
   "source": [
    "# Import dependencies"
   ]
  },
  {
   "cell_type": "code",
   "execution_count": null,
   "id": "72417505",
   "metadata": {},
   "outputs": [],
   "source": [
    "import os\n",
    "import sys\n",
    "import pandas as pd\n",
    "\n",
    "# Import library with current code functions\n",
    "sys.path.append(os.path.join(\"..\", \"lib\"))\n",
    "import manual_labeler_functions as man_lab_fun, automatic_labeler_functions as aut_lab_fun, general_functions as gf, files_paths as fp"
   ]
  },
  {
   "cell_type": "markdown",
   "id": "968e5be7",
   "metadata": {},
   "source": [
    "## Getting the list of measure files to be labeled and the list of seed available"
   ]
  },
  {
   "cell_type": "code",
   "execution_count": null,
   "id": "9fb115b6",
   "metadata": {},
   "outputs": [],
   "source": [
    "FILE_LIST_VD_MEASURE = gf.find_files_in_all_subdirectories([fp.DATASET_YT, fp.DATASET_LOCAL], fp.VD_MEASURE_L0)\n",
    "FILE_LIST_SEED = gf.find_files_in_all_subdirectories([fp.DATASET_SEED], fp.VD_LABELED_L0)"
   ]
  },
  {
   "cell_type": "code",
   "execution_count": null,
   "id": "7efb40d0",
   "metadata": {},
   "outputs": [],
   "source": [
    "FILE_LIST_SEED"
   ]
  },
  {
   "cell_type": "markdown",
   "id": "2bcdfb5b-13ee-413a-ad36-21d6f8e4354c",
   "metadata": {},
   "source": [
    "## Remove all VD_LABELED_L0 file"
   ]
  },
  {
   "cell_type": "code",
   "execution_count": null,
   "id": "229ab72e-13ef-4a7c-921b-e21cccc6aba0",
   "metadata": {},
   "outputs": [],
   "source": [
    "def remove_file(FILE_LIST_PATH, file_name):\n",
    "    for current_path in FILE_LIST_PATH:\n",
    "        vd_labeled_path = os.path.join(os.path.dirname(current_path), file_name)\n",
    "        if os.path.exists(vd_labeled_path):\n",
    "            os.remove(vd_labeled_path)\n",
    "            print(f\"The file was removed: {vd_labeled_path}\")\n",
    "        else:\n",
    "            print(\"File not found.\")"
   ]
  },
  {
   "cell_type": "code",
   "execution_count": null,
   "id": "74bdaab9-daeb-42a9-8b50-cacfd6817fe3",
   "metadata": {},
   "outputs": [],
   "source": [
    "file_name = fp.VD_LABELED_L0\n",
    "remove_file(FILE_LIST_VD_MEASURE, file_name)"
   ]
  },
  {
   "cell_type": "markdown",
   "id": "cb2d3b8e",
   "metadata": {},
   "source": [
    "## Select reference SEED"
   ]
  },
  {
   "cell_type": "code",
   "execution_count": null,
   "id": "4d9e839c",
   "metadata": {},
   "outputs": [],
   "source": [
    "files_labeled = FILE_LIST_SEED[:]"
   ]
  },
  {
   "cell_type": "markdown",
   "id": "12b707c4",
   "metadata": {},
   "source": [
    "## Plot query serie"
   ]
  },
  {
   "cell_type": "code",
   "execution_count": null,
   "id": "7cc52c0e",
   "metadata": {},
   "outputs": [],
   "source": [
    "current_labeling_class = 0 # Change for the correspondent number of your labeling class\n",
    "frame_distance_threshold = 10\n",
    "euclidean_distance_threshold = 1\n",
    "for labeled_file in files_labeled:\n",
    "    RESUME_DT = pd.DataFrame()\n",
    "    print(f'\\n-------{os.path.basename(os.path.dirname(labeled_file))}--------\\n')\n",
    "    for i, current_path_location in enumerate(FILE_LIST_VD_MEASURE):\n",
    "        #print (str(i+1) + \" of \" + str(len(FILE_LIST_VD_MEASURE)) + \": \" + current_path_location)\n",
    "\n",
    "        path_dir = os.path.dirname(labeled_file)\n",
    "        vd_labeled_path = os.path.join(path_dir, fp.VD_LABELED_L0)\n",
    "        vd_labeled = pd.read_csv(vd_labeled_path)\n",
    "        vd_labeled.drop(columns=['Unnamed: 0'], inplace=True)\n",
    "\n",
    "        all_class = man_lab_fun.GET_ALL_CLASSES(vd_labeled)\n",
    "        label_name = all_class[current_labeling_class]\n",
    "\n",
    "        reference_measures = man_lab_fun.GET_MEASURES_FROM_CLASS(vd_labeled, label_name)\n",
    "\n",
    "        frames = man_lab_fun.GET_FRAMES_FROM_CLASS(vd_labeled, label_name)\n",
    "\n",
    "        all_measures_in_frame_interval = vd_labeled.loc[frames[:28]]\n",
    "        selected_measures_in_frame_interval = all_measures_in_frame_interval[reference_measures]\n",
    "\n",
    "        dict_label_parameters = {'label_name': label_name, 'reference_measures': reference_measures}\n",
    "\n",
    "        RESUME_DT = aut_lab_fun.label_current_series(current_path_location, RESUME_DT, selected_measures_in_frame_interval, dict_label_parameters, os.path.dirname(labeled_file), distance_threshold=euclidian_distance_threshold, frame_threshold=frame_distance_threshold)  \n",
    "\n",
    "    final_sum = RESUME_DT['final'].sum()\n",
    "    print(f'Total of saved Subseries == {final_sum}') "
   ]
  }
 ],
 "metadata": {
  "kernelspec": {
   "display_name": "Python 3 (ipykernel)",
   "language": "python",
   "name": "python3"
  },
  "language_info": {
   "codemirror_mode": {
    "name": "ipython",
    "version": 3
   },
   "file_extension": ".py",
   "mimetype": "text/x-python",
   "name": "python",
   "nbconvert_exporter": "python",
   "pygments_lexer": "ipython3",
   "version": "3.8.19"
  }
 },
 "nbformat": 4,
 "nbformat_minor": 5
}

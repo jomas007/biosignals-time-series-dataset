{
 "cells": [
  {
   "cell_type": "markdown",
   "id": "6b9cdb50",
   "metadata": {},
   "source": [
    "# Import dependencies"
   ]
  },
  {
   "cell_type": "code",
   "execution_count": 1,
   "id": "72417505",
   "metadata": {},
   "outputs": [],
   "source": [
    "import os\n",
    "import sys\n",
    "import pandas as pd\n",
    "import matplotlib.pyplot as plt\n",
    "import numpy as np\n",
    "\n",
    "import time\n",
    "\n",
    "# Import library with current code functions\n",
    "sys.path.append(os.path.join(\"..\", \"lib\"))\n",
    "import manual_labeler_functions as man_lab_fun, automatic_labeler_functions as aut_lab_fun, general_functions as gf, files_paths as fp"
   ]
  },
  {
   "cell_type": "markdown",
   "id": "968e5be7",
   "metadata": {},
   "source": [
    "## Getting the list of measure files to be labeled and the list of seed available"
   ]
  },
  {
   "cell_type": "code",
   "execution_count": 2,
   "id": "9fb115b6",
   "metadata": {},
   "outputs": [],
   "source": [
    "FILE_LIST_VD_MEASURE = gf.find_files_in_all_subdirectories([fp.DATASET_YT, fp.DATASET_LOCAL], fp.VD_MEASURE_L0)\n",
    "FILE_LIST_LABELED_SEED = gf.find_files_in_all_subdirectories([fp.DATASET_SEED], fp.VD_LABELED_L0)"
   ]
  },
  {
   "cell_type": "markdown",
   "id": "2bcdfb5b-13ee-413a-ad36-21d6f8e4354c",
   "metadata": {},
   "source": [
    "## Remove all VD_LABELED_L0 file"
   ]
  },
  {
   "cell_type": "code",
   "execution_count": 3,
   "id": "229ab72e-13ef-4a7c-921b-e21cccc6aba0",
   "metadata": {},
   "outputs": [],
   "source": [
    "def remove_file(FILE_LIST_PATH, file_name):\n",
    "    for current_path in FILE_LIST_PATH:\n",
    "        vd_labeled_path = os.path.join(os.path.dirname(current_path), file_name)\n",
    "        if os.path.exists(vd_labeled_path):\n",
    "            os.remove(vd_labeled_path)\n",
    "            print(f\"The file was removed: {vd_labeled_path}\")\n",
    "        else:\n",
    "            print(\"File not found.\")"
   ]
  },
  {
   "cell_type": "code",
   "execution_count": null,
   "id": "74bdaab9-daeb-42a9-8b50-cacfd6817fe3",
   "metadata": {},
   "outputs": [],
   "source": [
    "remove_file(FILE_LIST_VD_MEASURE, fp.VD_LABELED_L0)"
   ]
  },
  {
   "cell_type": "markdown",
   "id": "cb2d3b8e",
   "metadata": {},
   "source": [
    "## Select reference SEED"
   ]
  },
  {
   "cell_type": "code",
   "execution_count": 5,
   "id": "27eaca06",
   "metadata": {},
   "outputs": [],
   "source": [
    "FILE_LIST_SEED_VD_INFO = gf.find_files_in_all_subdirectories([fp.DATASET_SEED], fp.VD_INFO)"
   ]
  },
  {
   "cell_type": "code",
   "execution_count": null,
   "id": "2cbe7110",
   "metadata": {},
   "outputs": [],
   "source": [
    "count_happy = count_neutral = 0\n",
    "\n",
    "for vd_info_file in FILE_LIST_SEED_VD_INFO:\n",
    "    vd_info_df = pd.read_csv(vd_info_file)\n",
    "    #print(\"vd_info_df\", vd_info_df['link_video'])\n",
    "\n",
    "    count_happy += len([emotion for emotion in vd_info_df['link_video'] if 'happy' in str(vd_info_df['link_video'])])\n",
    "    count_neutral += len([emotion for emotion in vd_info_df['link_video'] if 'neutral' in str(vd_info_df['link_video'])])\n",
    "\n",
    "print(\"Number of happy seeds:\", count_happy)\n",
    "print(\"Number of neutral seeds:\", count_neutral)"
   ]
  },
  {
   "cell_type": "code",
   "execution_count": null,
   "id": "25695e99",
   "metadata": {},
   "outputs": [],
   "source": [
    "FILE_LIST_LABELED_SEED"
   ]
  },
  {
   "cell_type": "markdown",
   "id": "12b707c4",
   "metadata": {},
   "source": [
    "## Plot query serie"
   ]
  },
  {
   "cell_type": "code",
   "execution_count": null,
   "id": "7cc52c0e",
   "metadata": {},
   "outputs": [],
   "source": [
    "current_labeling_class = 0 # Change for the correspondent number of your labeling class\n",
    "frame_distance_threshold = 2\n",
    "euclidian_distance_threshold = 1.2\n",
    "current_total_saved_series = 0\n",
    "\n",
    "matches_memory = []\n",
    "all_matches_memory = []\n",
    "all_mass_memory = []\n",
    "all_idxs_match_frame_seq_memory = []\n",
    "all_seeds_occurrences_len = []\n",
    "\n",
    "all_data_memory = []\n",
    "\n",
    "for j, labeled_file in enumerate(FILE_LIST_LABELED_SEED[:15]):\n",
    "    RESUME_DT = pd.DataFrame()\n",
    "    print(f'\\nSearch with seed: {os.path.basename(os.path.dirname(labeled_file))}\\n')\n",
    "\n",
    "    current_seed_matches_memory = []\n",
    "    current_seed_all_matches_memory = []\n",
    "    current_seed_all_mass_memory = []\n",
    "\n",
    "    current_seed_data_memory = []\n",
    "    \n",
    "    for i, current_path_location in enumerate(FILE_LIST_VD_MEASURE):\n",
    "\n",
    "        path_dir = os.path.dirname(labeled_file)\n",
    "        vd_labeled_path = os.path.join(path_dir, fp.VD_LABELED_L0)\n",
    "        vd_labeled = pd.read_csv(vd_labeled_path)\n",
    "        vd_labeled.drop(columns=['Unnamed: 0'], inplace=True)\n",
    "\n",
    "        all_class = man_lab_fun.GET_ALL_CLASSES(vd_labeled)\n",
    "        label_name = all_class[current_labeling_class]\n",
    "\n",
    "        reference_measures = man_lab_fun.GET_MEASURES_FROM_CLASS(vd_labeled, label_name)\n",
    "\n",
    "        frames = man_lab_fun.GET_FRAMES_FROM_CLASS(vd_labeled, label_name)\n",
    "\n",
    "        all_measures_in_frame_interval = vd_labeled.loc[0:len(frames)]\n",
    "\n",
    "        selected_measures_in_frame_interval = all_measures_in_frame_interval[reference_measures]\n",
    "\n",
    "        dict_label_parameters = {'label_name': label_name, 'reference_measures': reference_measures}\n",
    "\n",
    "        RESUME_DT, matches, all_matches, all_mass, idxs_match_frame_seq, occurences_len = aut_lab_fun.label_current_series(current_path_location, RESUME_DT, selected_measures_in_frame_interval, dict_label_parameters, os.path.dirname(labeled_file), LABELED_FILE_NAME=fp.VD_LABELED_L0, distance_threshold=euclidian_distance_threshold, frame_threshold=frame_distance_threshold)  \n",
    "        current_seed_matches_memory.append(matches)\n",
    "        current_seed_all_matches_memory.append(all_matches)\n",
    "        current_seed_all_mass_memory.append(all_mass)\n",
    "\n",
    "        current_seed_data_memory.append([])\n",
    "\n",
    "        for k, (frame, dist) in enumerate(idxs_match_frame_seq):\n",
    "            frame_dist_len_data = []\n",
    "            frame_dist_len_data.append(frame)\n",
    "            frame_dist_len_data.append(dist)\n",
    "            frame_dist_len_data.append(occurences_len[k])\n",
    "\n",
    "            current_seed_data_memory[i].append(frame_dist_len_data)\n",
    "\n",
    "    matches_memory.append(current_seed_matches_memory)\n",
    "    all_matches_memory.append(current_seed_all_matches_memory)\n",
    "    all_mass_memory.append(current_seed_all_mass_memory)\n",
    "\n",
    "    all_data_memory.append(current_seed_data_memory)\n",
    "\n",
    "    final_sum = RESUME_DT['final'].sum()\n",
    "    current_total_saved_series += final_sum\n",
    "    print(f'Number of Found Subseries: {final_sum}') \n",
    "    print(f'Current total of saved subseries == {current_total_saved_series}') "
   ]
  },
  {
   "cell_type": "markdown",
   "id": "e46ea0d2",
   "metadata": {},
   "source": [
    "## Analise de matching (PODE APAGAR TUDO DEPOIS)"
   ]
  },
  {
   "cell_type": "code",
   "execution_count": 44,
   "id": "bd2b3b6b",
   "metadata": {},
   "outputs": [],
   "source": [
    "def analyse_data(memory, mass=0):\n",
    "    print(\"Number of videos analyzed:\", len(memory))\n",
    "    print(\"Number of measures [0]:\", len(memory[0]))\n",
    "    print(\"Number of matches [0][0]:\", len(memory[0][0]))\n",
    "    if mass == 0:\n",
    "        memory_distances = [item[0] for item in memory[0][0]]\n",
    "    elif mass == 1:\n",
    "        memory_distances = [item for item in memory[0][0]]\n",
    "\n",
    "    first_value = sorted(memory_distances)[0]\n",
    "    last_value = sorted(memory_distances)[-1]\n",
    "\n",
    "    memory_distance_mean = np.mean(memory_distances)\n",
    "    memory_distance_std = np.std(memory_distances)\n",
    "    print(f\"Mean: {memory_distance_mean}, STD {memory_distance_std}\")\n",
    "    print(f\"First value: {first_value}, Last value: {last_value}\")"
   ]
  },
  {
   "cell_type": "code",
   "execution_count": 45,
   "id": "778ef6b1",
   "metadata": {},
   "outputs": [],
   "source": [
    "def analyse_per_seed(all_data, mass=0):\n",
    "    print(f\"Number of seeds: {len(all_data)}\\n\",)\n",
    "    for i, seed_data in enumerate(all_data):\n",
    "        print(f\"Seed number {i}:\")\n",
    "        analyse_data(seed_data, mass)\n",
    "        print(\"\")"
   ]
  },
  {
   "cell_type": "code",
   "execution_count": null,
   "id": "52d8cd15",
   "metadata": {},
   "outputs": [],
   "source": [
    "analyse_per_seed(matches_memory, mass=0)"
   ]
  },
  {
   "cell_type": "code",
   "execution_count": null,
   "id": "08007a15",
   "metadata": {},
   "outputs": [],
   "source": [
    "total_number_of_occurrences = 0\n",
    "\n",
    "for i, seed in enumerate(all_seeds_occurrences_len):\n",
    "    for j, video in enumerate(seed):\n",
    "        total_number_of_occurrences += len(video)\n",
    "        for k, occurrence_len in enumerate(video):\n",
    "            if occurrence_len != 99:\n",
    "                print(f\"Seed: {i}, video: {j}, occurrence: {k}, len occurrence: {occurrence_len}\")\n",
    "\n",
    "print(\"total_number_of_occurrences\", total_number_of_occurrences)"
   ]
  },
  {
   "cell_type": "code",
   "execution_count": null,
   "id": "c185bab7",
   "metadata": {},
   "outputs": [],
   "source": [
    "len(matches_memory[0])"
   ]
  },
  {
   "cell_type": "markdown",
   "id": "9f64a537",
   "metadata": {},
   "source": [
    "## All matches "
   ]
  },
  {
   "cell_type": "code",
   "execution_count": null,
   "id": "a6d8f308",
   "metadata": {},
   "outputs": [],
   "source": [
    "analyse_per_seed(all_matches_memory, mass=0)"
   ]
  },
  {
   "cell_type": "markdown",
   "id": "b1866f0f",
   "metadata": {},
   "source": [
    "## All mass "
   ]
  },
  {
   "cell_type": "code",
   "execution_count": null,
   "id": "59e5736a",
   "metadata": {},
   "outputs": [],
   "source": [
    "analyse_per_seed(all_mass_memory, mass=1)"
   ]
  },
  {
   "cell_type": "markdown",
   "id": "8c33cb0c",
   "metadata": {},
   "source": [
    "## True matches"
   ]
  },
  {
   "cell_type": "code",
   "execution_count": null,
   "id": "e6adf6a6",
   "metadata": {},
   "outputs": [],
   "source": [
    "for i, seed in enumerate(all_data_memory):\n",
    "    print(f\"=-=-=-=-=-=-=-=-=-=-=-=-=-=-=-=-=-=-=-=-= Seed {i+1} =-=-=-=-=-=-=-=-=-=-=-=-=-=-=-=-=-=-=-=-=\")\n",
    "    for j, video in enumerate(seed):\n",
    "        print(f\" =-=-=-=-=-= Video: {j+1}, number of occurrences: {len(video)} =-=-=-=-=-=\")\n",
    "        for occurrence in video:\n",
    "            if occurrence[2] != 30:\n",
    "                print(f\"Frame start: {occurrence[0]}, euclidean_dist: {occurrence[1]}, len occurrence: {occurrence[2]}\")"
   ]
  }
 ],
 "metadata": {
  "kernelspec": {
   "display_name": "t3-gpu",
   "language": "python",
   "name": "python3"
  },
  "language_info": {
   "codemirror_mode": {
    "name": "ipython",
    "version": 3
   },
   "file_extension": ".py",
   "mimetype": "text/x-python",
   "name": "python",
   "nbconvert_exporter": "python",
   "pygments_lexer": "ipython3",
   "version": "3.10.15"
  }
 },
 "nbformat": 4,
 "nbformat_minor": 5
}

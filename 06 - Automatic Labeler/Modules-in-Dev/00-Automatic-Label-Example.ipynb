{
 "cells": [
  {
   "cell_type": "code",
   "execution_count": null,
   "id": "72417505",
   "metadata": {},
   "outputs": [],
   "source": [
    "import os, numpy as np, sys, pandas as pd, matplotlib.pyplot as plt, stumpy, glob\n",
    "from stumpy import config\n",
    "\n",
    "# Import library with auxiliary codes\n",
    "sys.path.append(os.path.join(\"..\", \"..\", \"lib\"))\n",
    "import essencials as es"
   ]
  },
  {
   "cell_type": "code",
   "execution_count": null,
   "id": "84299e2c",
   "metadata": {},
   "outputs": [],
   "source": [
    "config.STUMPY_EXCL_ZONE_DENOM = 1\n",
    "\n",
    "SOURCE_FOLDER = os.path.join('..', '..', 'Dataset')\n",
    "\n",
    "MEASURE_FILE_PATH = 'VD_MEASURE_L0.CSV'\n",
    "LABELED_FILE_PATH = 'VD_LABELED_L0.CSV'\n",
    "\n",
    "SOURCE_FOLDER_LOCAL = os.path.join(SOURCE_FOLDER, 'DD-Local')\n",
    "FOLDER_PATH = os.path.join(SOURCE_FOLDER_LOCAL, '**', MEASURE_FILE_PATH)\n",
    "MAIN_LIST_local = sorted(glob.iglob(FOLDER_PATH, recursive=True ))\n",
    "\n",
    "SOURCE_FOLDER_YT = os.path.join(SOURCE_FOLDER, 'YT-Online')\n",
    "FOLDER_PATH = os.path.join(SOURCE_FOLDER_YT, '**', MEASURE_FILE_PATH)\n",
    "MAIN_LIST_MEASURE_yt = sorted(glob.iglob(FOLDER_PATH, recursive=True ))\n",
    "\n",
    "# Join the Two Lists\n",
    "MAIN_LIST_MEASURE = MAIN_LIST_local + MAIN_LIST_MEASURE_yt\n",
    "\n",
    "baseDir_seed = os.path.join('..', '..', 'Dataset', 'REF-Gold-Label')\n",
    "FOLDER_PATH = os.path.join(baseDir_seed, '**', LABELED_FILE_PATH)\n",
    "REFERENCE_LST = sorted(glob.iglob(FOLDER_PATH, recursive=True ))"
   ]
  },
  {
   "cell_type": "markdown",
   "id": "5184165e",
   "metadata": {},
   "source": [
    "## Select the time-serie"
   ]
  },
  {
   "cell_type": "code",
   "execution_count": null,
   "id": "b93cfb77-6e04-49a3-abfa-8c52995e7507",
   "metadata": {},
   "outputs": [],
   "source": [
    "path_file = REFERENCE_LST[0]\n",
    "path_dir = os.path.dirname(path_file)\n",
    "vd_labeled_path = os.path.join(path_dir, LABELED_FILE_PATH)\n",
    "vd_labeled = pd.read_csv(vd_labeled_path)\n",
    "vd_labeled.drop(columns=['Unnamed: 0'], inplace=True)"
   ]
  },
  {
   "cell_type": "markdown",
   "id": "3a6dbe7a",
   "metadata": {},
   "source": [
    "## Get the labeled frames."
   ]
  },
  {
   "cell_type": "code",
   "execution_count": null,
   "id": "c2311a0e-2919-4e1c-a119-947e57e684b4",
   "metadata": {},
   "outputs": [],
   "source": [
    "all_class = es.GET_ALL_CLASSES (vd_labeled)\n",
    "print(all_class)\n",
    "\n",
    "label_name = all_class[0]\n",
    "\n",
    "reference_measures = es.GET_MEASURES_FROM_CLASS(vd_labeled, label_name)\n",
    "\n",
    "frames = es.GET_FRAMES_FROM_CLASS (vd_labeled, label_name)\n"
   ]
  },
  {
   "cell_type": "markdown",
   "id": "10f1ab3c",
   "metadata": {},
   "source": [
    "## Select the labeled subserie"
   ]
  },
  {
   "cell_type": "code",
   "execution_count": null,
   "id": "1421b663-ece4-455d-a0a1-c7d0b99e3f92",
   "metadata": {},
   "outputs": [],
   "source": [
    "Q_df = vd_labeled.loc[frames]\n",
    "Q_df = Q_df[reference_measures]"
   ]
  },
  {
   "cell_type": "markdown",
   "id": "f0089621",
   "metadata": {},
   "source": [
    "## Plot reference serie"
   ]
  },
  {
   "cell_type": "code",
   "execution_count": null,
   "id": "e653a03f-e4a3-483a-986d-1ab6a2fa6119",
   "metadata": {},
   "outputs": [],
   "source": [
    "fonte = {'family': \"Times New Roman\", 'color': 'black', 'weight': 'bold', 'size': 10}\n",
    "plt.style.use('https://raw.githubusercontent.com/TDAmeritrade/stumpy/main/docs/stumpy.mplstyle')\n",
    "\n",
    "plt.subplots(figsize=(10, 3))\n",
    "plt.suptitle('Série Padrão (Q_df)', fontsize='10')\n",
    "plt.xlabel('Time', fontsize ='10')\n",
    "plt.ylabel('Amplitude', fontsize='10')\n",
    "plt.plot(Q_df, label=Q_df.columns)\n",
    "plt.legend()\n",
    "plt.show()"
   ]
  },
  {
   "cell_type": "markdown",
   "id": "4aac702a",
   "metadata": {},
   "source": [
    "## Plot dataset series"
   ]
  },
  {
   "cell_type": "code",
   "execution_count": null,
   "id": "7cc52c0e",
   "metadata": {},
   "outputs": [],
   "source": [
    "VIDEO_ID = 2\n",
    "current_path_location = MAIN_LIST_MEASURE[VIDEO_ID]\n",
    "VD_MEASURE_DT = pd.read_csv(current_path_location)\n",
    "VD_MEASURE_DT.drop(columns=['Unnamed: 0'], inplace=True)\n",
    "T_df = VD_MEASURE_DT[reference_measures]"
   ]
  },
  {
   "cell_type": "code",
   "execution_count": null,
   "id": "4cfff269",
   "metadata": {},
   "outputs": [],
   "source": [
    "MAIN_LIST_MEASURE"
   ]
  },
  {
   "cell_type": "code",
   "execution_count": null,
   "id": "9ac55c7f",
   "metadata": {},
   "outputs": [],
   "source": [
    "plt.subplots(figsize=(10, 3))\n",
    "plt.suptitle('Time-serie (T_df)', fontsize='10')\n",
    "plt.xlabel('Time')\n",
    "plt.ylabel('Amplitude')\n",
    "plt.plot(T_df,  linewidth=1)\n",
    "plt.show()"
   ]
  },
  {
   "cell_type": "markdown",
   "id": "a8d84963",
   "metadata": {},
   "source": [
    "## Busca os padrões na série do dataset"
   ]
  },
  {
   "cell_type": "code",
   "execution_count": null,
   "id": "f580cd6e",
   "metadata": {},
   "outputs": [],
   "source": [
    "c_list = []\n",
    "for step in range(0,len(Q_df.columns)):\n",
    "    comp_object = es.Comparing(Q_df[reference_measures[step]], T_df[reference_measures[step]])\n",
    "    comp_object.calc_matches()\n",
    "    comp_object.measure_name = reference_measures[step]\n",
    "    c_list.append(comp_object)"
   ]
  },
  {
   "cell_type": "markdown",
   "id": "e43abe76",
   "metadata": {},
   "source": [
    "## Plota todas as séries encontradas para cada medida"
   ]
  },
  {
   "cell_type": "code",
   "execution_count": null,
   "id": "ba12e4e3-8466-4c8f-bb1b-6ea3a89ccd71",
   "metadata": {},
   "outputs": [],
   "source": [
    "fig, axs = plt.subplots(len(c_list), 1, figsize=(7, 5))\n",
    "fig.subplots_adjust(left=0.1, bottom=0, right=0.9, top=0.95, wspace=0.1, hspace=0.1)\n",
    "\n",
    "for i, comparing in enumerate(c_list):\n",
    "    Q_z_norm = stumpy.core.z_norm(comparing.Q_df.values)\n",
    "\n",
    "    axs[i].set_title(f'Raw results for {comparing.measure_name.upper()}', fontsize='10', loc='left', y=0.88, x=0.01)\n",
    "    \n",
    "    for match_distance, match_idx in comparing.matches_idxs:\n",
    "        match_z_norm = stumpy.core.z_norm(comparing.T_df.values[match_idx:match_idx+len(comparing.Q_df)])\n",
    "        axs[i].plot(match_z_norm, lw=0.5, label=f'Frame {match_idx}')\n",
    "    axs[i].plot(Q_z_norm, lw=2, color=\"black\", label=\"Seed\")\n",
    "    axs[i].legend(loc='center left', bbox_to_anchor=(1, 0.5), fontsize='8')\n",
    "    \n",
    "fig.text(0.465, 0.025, 'Frame number', ha='center', fontdict=fonte)\n",
    "fig.text(0.015, 0.5, 'Normalized Amplitude (pixels)', va='center', rotation='vertical', fontdict=fonte)\n",
    "\n",
    "plt.tight_layout(pad=2.0, h_pad=1.0, w_pad=1.0)\n",
    "plt.savefig('graph1.png')\n",
    "plt.show()"
   ]
  },
  {
   "cell_type": "markdown",
   "id": "7f51ca3c",
   "metadata": {},
   "source": [
    "## Seleciona apenas os index em matches_idxs, pois a estrutura tbm armazena a distancia de similaridade"
   ]
  },
  {
   "cell_type": "code",
   "execution_count": null,
   "id": "bea2708d",
   "metadata": {},
   "outputs": [],
   "source": [
    "all_index = []\n",
    "for c in c_list:  \n",
    "    all_index.append(c.matches_idxs[:, 1])\n",
    "    \n",
    "threshold = 10\n",
    "\n",
    "# filtra por coincidência a partir de um um treshold de distancia entre a posição dos indexs\n",
    "aux = all_index.copy()"
   ]
  },
  {
   "cell_type": "code",
   "execution_count": null,
   "id": "74cf6ca6-fecb-4cef-ac7f-1a79b42ff527",
   "metadata": {},
   "outputs": [],
   "source": [
    "print(aux)\n",
    "\n",
    "filter_index = es.find_all_matches(aux, threshold)\n",
    "\n",
    "filter_index_list=list(filter_index[0])\n",
    "# Corrigir os index das subséries pelo index do frame original(frame_seq)\n",
    "filter_index_begin = []\n",
    "for idx_tuple in filter_index_list:\n",
    "    filter_index_begin.append(idx_tuple)\n",
    "\n",
    "idxs_match_frame_seq = list(VD_MEASURE_DT.loc[filter_index_begin, 'frame_seq'].values)"
   ]
  },
  {
   "cell_type": "code",
   "execution_count": null,
   "id": "be284a17",
   "metadata": {},
   "outputs": [],
   "source": [
    "idxs_match_frame_seq"
   ]
  },
  {
   "cell_type": "markdown",
   "id": "d3545601",
   "metadata": {},
   "source": [
    "## Recupera as infromações de cada indice a partir de matches_idxs e salva atualiza os objetos"
   ]
  },
  {
   "cell_type": "markdown",
   "id": "29c15624",
   "metadata": {},
   "source": [
    "## Plota as séries filtradas"
   ]
  },
  {
   "cell_type": "code",
   "execution_count": null,
   "id": "a19b9d50-186c-49cd-a6aa-159d504cdcd4",
   "metadata": {},
   "outputs": [],
   "source": [
    "fig, axs = plt.subplots(len(c_list), 1, figsize=(7, 5))\n",
    "fig.subplots_adjust(left=0.1, bottom=0, right=0.9, top=0.95, wspace=0.1, hspace=0.1)\n",
    "\n",
    "for i, comparing in enumerate(c_list):\n",
    "    Q_z_norm = stumpy.core.z_norm(comparing.Q_df.values)\n",
    "\n",
    "    axs[i].set_title(f'Filtered results for {comparing.measure_name.upper()} (threshold = {threshold})', fontsize='10', \n",
    "                     loc='left', y=0.88, x=0.01)\n",
    "    \n",
    "    for match_distance, match_idx in comparing.filter_matches_idxs:\n",
    "        match_z_norm = stumpy.core.z_norm(comparing.T_df.values[match_idx:match_idx+len(comparing.Q_df)])\n",
    "        axs[i].plot(match_z_norm, lw=0.5, label=f'Frame {match_idx}')\n",
    "    axs[i].plot(Q_z_norm, lw=2, color=\"black\", label=\"Seed\")\n",
    "    axs[i].legend(loc='center left', bbox_to_anchor=(1, 0.5), fontsize='8')\n",
    "\n",
    "fig.text(0.465, 0.025, 'Frame number', ha='center', fontdict=fonte)\n",
    "fig.text(0.015, 0.5, 'Normalized Amplitude (pixels)', va='center', rotation='vertical', fontdict=fonte)\n",
    "\n",
    "\n",
    "plt.tight_layout(pad=2.0, h_pad=1.0, w_pad=1.0)\n",
    "plt.savefig('graph2.png')\n",
    "plt.show()"
   ]
  },
  {
   "cell_type": "markdown",
   "id": "1b290d5c",
   "metadata": {},
   "source": [
    "## Corrigir index por frame_seq"
   ]
  },
  {
   "cell_type": "code",
   "execution_count": null,
   "id": "f9a158a9-e157-4b51-bbef-4370e61e24dc",
   "metadata": {},
   "outputs": [],
   "source": [
    "path_dir = os.path.dirname(current_path_location)\n",
    "vd_info_path = os.path.join(path_dir, 'VD_INFO.CSV')\n",
    "VD_INFO_DT = pd.read_csv(vd_info_path)\n",
    "VD_INFO_DT.drop(columns=['Unnamed: 0'], inplace=True)\n",
    "path_video_file = '..\\\\Video-Source\\\\in_DD-Local\\\\' + VD_INFO_DT.link_video[0]+'.mp4'\n",
    "frames = es.LOAD_VIDEO_FRAMES(path_video_file)"
   ]
  },
  {
   "cell_type": "code",
   "execution_count": null,
   "id": "7de95ecf-a48f-4634-aa24-a702e32a1215",
   "metadata": {},
   "outputs": [],
   "source": [
    "start_frame = 681\n",
    "end_frame = start_frame+len(Q_df)\n",
    "n_frames_per_row = 5\n",
    "es.DISPLAY_FRAMES(frames, start_frame, end_frame, n_frames_per_row)"
   ]
  },
  {
   "cell_type": "code",
   "execution_count": null,
   "id": "9f23d172-5e7e-4bf0-9ec9-729815bf9979",
   "metadata": {},
   "outputs": [],
   "source": [
    "INDEX_DT = es.CREATE_FILES_INDEX(MAIN_LIST_MEASURE)"
   ]
  },
  {
   "cell_type": "markdown",
   "id": "afee794c",
   "metadata": {},
   "source": [
    "## Read or creates the VD_LABELED file if it does not exist."
   ]
  },
  {
   "cell_type": "code",
   "execution_count": null,
   "id": "2b40ea2d-76ab-4523-a1fa-b4aca3769c3e",
   "metadata": {},
   "outputs": [],
   "source": [
    "VIDEO_ID = 0\n",
    "if INDEX_DT.loc[VIDEO_ID,'label_file_exist'] == 0:\n",
    "    print('Creating Label File...')\n",
    "    \n",
    "    # First Initiate the labels = 0 means NO Label\n",
    "    VD_MEASURE_DT['label_measures'] = str({})\n",
    "    VD_LABELED_DT = VD_MEASURE_DT.copy()\n",
    "else:\n",
    "    VD_LABEL_FILE_NAME = 'VD_LABELED_LO.CSV'\n",
    "    print('Reading Label File...') \n",
    "    VD_LABELED_DT = es.READ_CSV_FILE(INDEX_DT.loc[VIDEO_ID,'path'], VD_LABEL_FILE_NAME)"
   ]
  },
  {
   "cell_type": "markdown",
   "id": "b19e84c7",
   "metadata": {},
   "source": [
    "## Add information to label the frames."
   ]
  },
  {
   "cell_type": "code",
   "execution_count": null,
   "id": "4a9edaea-ea63-406c-9276-14595285c00b",
   "metadata": {},
   "outputs": [],
   "source": [
    "# You can copy the input parameters from the measure explorer json\n",
    "# Type the Begin and End\n",
    "label_name_insert = 'smile'\n",
    "label_measure_insert = reference_measures\n",
    "for label_idx in idxs_match_frame_seq:\n",
    "    init_lab = label_idx\n",
    "    end_lab = label_idx + len(Q_df)\n",
    "    \n",
    "    # Just Insert\n",
    "    VD_LABELED_DT = es.UPDATE_LABEL_DF(init_lab, end_lab, label_name_insert, label_measure_insert, VD_LABELED_DT)"
   ]
  },
  {
   "cell_type": "code",
   "execution_count": null,
   "id": "20e3f3ab",
   "metadata": {},
   "outputs": [],
   "source": [
    "idxs_match_frame_seq"
   ]
  },
  {
   "cell_type": "code",
   "execution_count": null,
   "id": "786bfa09-69e8-46ea-b0d0-501c9c937536",
   "metadata": {},
   "outputs": [],
   "source": [
    "VD_LABELED_DT[idxs_match_frame_seq[0]:idxs_match_frame_seq[0]+len(Q_df)]"
   ]
  }
 ],
 "metadata": {
  "kernelspec": {
   "display_name": "Python 3 (ipykernel)",
   "language": "python",
   "name": "python3"
  },
  "language_info": {
   "codemirror_mode": {
    "name": "ipython",
    "version": 3
   },
   "file_extension": ".py",
   "mimetype": "text/x-python",
   "name": "python",
   "nbconvert_exporter": "python",
   "pygments_lexer": "ipython3",
   "version": "3.10.12"
  }
 },
 "nbformat": 4,
 "nbformat_minor": 5
}

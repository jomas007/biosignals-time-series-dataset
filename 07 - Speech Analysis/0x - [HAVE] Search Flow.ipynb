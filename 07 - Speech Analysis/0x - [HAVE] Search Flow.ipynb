{
 "cells": [
  {
   "cell_type": "code",
   "execution_count": null,
   "id": "72417505",
   "metadata": {},
   "outputs": [],
   "source": [
    "import os\n",
    "\n",
    "import sys\n",
    "import pandas as pd\n",
    "\n",
    "import matplotlib.pyplot as plt\n",
    "from stumpy import config\n",
    "\n",
    "import matplotlib.pyplot as plt\n",
    "\n",
    "auxiliary_codes_path =  \"..\" + os.sep + \"codigo_auxiliares\"\n",
    "sys.path.append(auxiliary_codes_path)\n",
    "import essencials as es"
   ]
  },
  {
   "cell_type": "code",
   "execution_count": null,
   "id": "bac66410",
   "metadata": {},
   "outputs": [],
   "source": [
    "config.STUMPY_EXCL_ZONE_DENOM = 1/3  # i ± int(np.ceil(m / {1}))\n",
    "plt.rcParams['font.size'] = 10\n",
    "plt.rcParams[\"font.family\"] = \"Times New Roman\"\n",
    "plt.style.use('https://raw.githubusercontent.com/TDAmeritrade/stumpy/main/docs/stumpy.mplstyle')"
   ]
  },
  {
   "cell_type": "code",
   "execution_count": null,
   "id": "6c672af9",
   "metadata": {},
   "outputs": [],
   "source": [
    "baseDir = os.path.join('..', 'Dataset')\n",
    "\n",
    "# Seach pacth of MEASURE files\n",
    "MAIN_LIST_MEASURE = []\n",
    "\n",
    "MEASURE_FILE_PATH = 'VD_WORDS_OCCURRENCE.CSV'\n",
    "\n",
    "MAIN_LIST_MEASURE_local = []\n",
    "\n",
    "# B1.2 - Collect in YT\n",
    "baseDir_yt = os.path.join(baseDir, 'YT-Online')\n",
    "\n",
    "# Call the basic function\n",
    "MAIN_LIST_MEASURE_yt = es.list_scan_from_path (baseDir_yt, MEASURE_FILE_PATH)\n",
    "\n",
    "# Join the Two Lists\n",
    "MAIN_LIST_MEASURE = MAIN_LIST_MEASURE_local + MAIN_LIST_MEASURE_yt"
   ]
  },
  {
   "cell_type": "code",
   "execution_count": null,
   "id": "a9bd435a-aac7-4afd-8cae-f2d47dae90b8",
   "metadata": {},
   "outputs": [],
   "source": [
    "SUB_FILE_NAME = 'VD_SUBTITLES.CSV'\n",
    "MAIN_LIST_MEASURE_FILTER = []\n",
    "for current_path in MAIN_LIST_MEASURE:\n",
    "    path = es.collect_current_path(current_path)\n",
    "    check, _ = es.check_file_exist(path, SUB_FILE_NAME)\n",
    "    if check:\n",
    "        MAIN_LIST_MEASURE_FILTER.append(current_path)  "
   ]
  },
  {
   "cell_type": "markdown",
   "id": "841f96d8-135e-4d25-8208-940854cfc5a2",
   "metadata": {},
   "source": [
    "## Reading all Word Occurrence files"
   ]
  },
  {
   "cell_type": "code",
   "execution_count": null,
   "id": "b93cfb77-6e04-49a3-abfa-8c52995e7507",
   "metadata": {},
   "outputs": [],
   "source": [
    "VD_INFO_DT = 'VD_INFO.CSV'\n",
    "TOTAL = pd.DataFrame()\n",
    "for current_path in MAIN_LIST_MEASURE_FILTER:\n",
    "    path_dir = es.collect_current_path(current_path)\n",
    "    vd_info_path = os.path.join(path_dir, VD_INFO_DT)\n",
    "    \n",
    "    vd_info = pd.read_csv(vd_info_path)\n",
    "    vd_info.drop(columns=['Unnamed: 0'], inplace=True)\n",
    "    video_id =  vd_info.video_id[0]\n",
    "    \n",
    "    try:\n",
    "        VD_WORDS_OCCURRENCE = pd.read_csv(current_path)\n",
    "        if 'Unnamed: 0' in VD_WORDS_OCCURRENCE.columns:\n",
    "            VD_WORDS_OCCURRENCE.drop(columns=['Unnamed: 0'], inplace=True)\n",
    "            \n",
    "        VD_WORDS_OCCURRENCE.insert(0, 'video_id', video_id)\n",
    "        TOTAL = pd.concat([TOTAL, VD_WORDS_OCCURRENCE])\n",
    "        if VD_WORDS_OCCURRENCE.empty:\n",
    "            print(\"O arquivo CSV está vazio.\", current_path)\n",
    "    except pd.errors.EmptyDataError:\n",
    "        print(\"O arquivo CSV está vazio.\", current_path)       "
   ]
  },
  {
   "cell_type": "markdown",
   "id": "07666c60-8750-4c51-be36-62469ae341b3",
   "metadata": {},
   "source": [
    "## Setting word to carry out the search flow"
   ]
  },
  {
   "cell_type": "code",
   "execution_count": null,
   "id": "9581b11b-719f-4e8b-ac2e-ace60ee9101d",
   "metadata": {},
   "outputs": [],
   "source": [
    "# TYPE WORD IN CAPS LOCK\n",
    "word ='HAVE'\n",
    "FILTER = TOTAL[TOTAL['selected_word'] == word]\n",
    "print(f'The Word \"{word}\" has {len(FILTER)} occurrence')"
   ]
  },
  {
   "cell_type": "code",
   "execution_count": null,
   "id": "87f55922-e0f1-45a5-a970-8765b2814477",
   "metadata": {},
   "outputs": [],
   "source": [
    "count_id = FILTER.video_id.value_counts()\n",
    "FREQUENCY_DT = pd.DataFrame({'video_id': count_id.index, 'amount': count_id.values})"
   ]
  },
  {
   "cell_type": "code",
   "execution_count": null,
   "id": "cd3878d1-f4fe-4ed2-99d3-a6b759133f8a",
   "metadata": {},
   "outputs": [],
   "source": [
    "# Setting video_id to show the setences in subtitle\n",
    "video_id = 37\n",
    "FILTER_ID = FILTER.query(f'video_id=={video_id}')\n",
    "FILTER_ID = FILTER_ID.rename_axis('id_sentence')\n",
    "FILTER_ID "
   ]
  },
  {
   "cell_type": "markdown",
   "id": "3a119b85-abfc-4c48-b377-5b56c63b24a4",
   "metadata": {},
   "source": [
    "## Plotting a time-serie setence"
   ]
  },
  {
   "cell_type": "code",
   "execution_count": null,
   "id": "45971c48-583f-4538-a891-389c9dc331bc",
   "metadata": {},
   "outputs": [],
   "source": [
    "# Type the setence index\n",
    "id_sentence = 6\n",
    "\n",
    "# Select the sentence\n",
    "FILTER_ID.loc[id_sentence]"
   ]
  },
  {
   "cell_type": "code",
   "execution_count": null,
   "id": "b642ec51-865b-4744-aae5-bd26a6493139",
   "metadata": {},
   "outputs": [],
   "source": [
    "# READ VD BLOCKS_WORDS\n",
    "# Generate the path of the video in dataset\n",
    "VD_BLOCKS_FILE_NAME = 'VD_BLOCKS_WORDS_OCCURRENCE.CSV'\n",
    "path_video = os.path.join(baseDir_yt, f'VD_Y_{video_id:010d}', VD_BLOCKS_FILE_NAME)\n",
    "VD_BLOCKS_WORDS = pd.read_csv(path_video)"
   ]
  },
  {
   "cell_type": "code",
   "execution_count": null,
   "id": "841c96b7-edc4-4290-ae91-ef56ccbadded",
   "metadata": {},
   "outputs": [],
   "source": [
    "VD_BLOCKS_WORDS_FILTER = VD_BLOCKS_WORDS.query(f'block_id=={id_sentence}').reset_index(drop=True)\n",
    "\n",
    "# Check if there is a discontinuity in the sentence\n",
    "if VD_BLOCKS_WORDS_FILTER.loc[1:,'gap'].any()==1:\n",
    "    print('A time series exhibits a discontinuity. Choose another sentence.')\n",
    "else:\n",
    "    print('The time series does not exhibit a discontinuity. Proceed with the flow.')"
   ]
  },
  {
   "cell_type": "code",
   "execution_count": null,
   "id": "2b655901-762a-4b3c-a196-0ecc0ab2d2c2",
   "metadata": {},
   "outputs": [],
   "source": [
    "# Show measures mouth dataframe\n",
    "SENTENCE_DT = VD_BLOCKS_WORDS_FILTER.iloc[:,[2] + list(range(7, 23))]\n",
    "SENTENCE_DT = SENTENCE_DT.set_index(pd.Index(SENTENCE_DT['frame_raw']))\n",
    "SENTENCE_DT.drop(columns=[\"frame_raw\"], inplace=True)\n"
   ]
  },
  {
   "cell_type": "code",
   "execution_count": null,
   "id": "69724445-e259-43e3-a5be-d4e5083ea4a7",
   "metadata": {},
   "outputs": [],
   "source": [
    "es.plot(SENTENCE_DT, FILTER_ID.loc[id_sentence].text)"
   ]
  },
  {
   "cell_type": "markdown",
   "id": "930559ed-e965-4f0a-b991-9c450eedad87",
   "metadata": {},
   "source": [
    "## Identifying the word sequence in the sentence time series"
   ]
  },
  {
   "cell_type": "code",
   "execution_count": null,
   "id": "736cc09b-c896-4680-9e18-cb55149377cc",
   "metadata": {},
   "outputs": [],
   "source": [
    "# O frame de início e fim foi encontrado a partir de análise visual e auditiva do vídeo\n",
    "frame_begin = 744\n",
    "frame_end = 754\n",
    "\n",
    "WORD_DT = SENTENCE_DT.query(f'frame_raw >= {frame_begin} & frame_raw <= {frame_end}')"
   ]
  },
  {
   "cell_type": "code",
   "execution_count": null,
   "id": "35843dd6-cf7b-46c0-9afa-ae6fbaae42cd",
   "metadata": {},
   "outputs": [],
   "source": [
    "es.plot(WORD_DT, word)"
   ]
  },
  {
   "cell_type": "markdown",
   "id": "46f23d66-a3a4-4d06-9e79-49eb30d20306",
   "metadata": {},
   "source": [
    "## Analysis of variability in measurements of the selected word."
   ]
  },
  {
   "cell_type": "code",
   "execution_count": null,
   "id": "97ad14a6-5e7b-4b87-920e-b4160b022782",
   "metadata": {},
   "outputs": [],
   "source": [
    "VD_MEASURE_DT_SUMARY =  WORD_DT.describe().T\n",
    "VD_MEASURE_DT_SUMARY = VD_MEASURE_DT_SUMARY[['mean', 'std', 'min', 'max']]\n",
    "\n",
    "# Coefficient of variation\n",
    "VD_MEASURE_DT_SUMARY['CV (%)'] = (VD_MEASURE_DT_SUMARY['std']/VD_MEASURE_DT_SUMARY['mean']) * 100\n",
    "VD_MEASURE_DT_SUMARY.sort_values(by='CV (%)', ascending=False)"
   ]
  },
  {
   "cell_type": "code",
   "execution_count": null,
   "id": "e47f9a5e-685c-4e6e-b7ba-b8d806b3d96d",
   "metadata": {},
   "outputs": [],
   "source": [
    "# Select best measures to search\n",
    "new_measures = {'m1': 'b1', \n",
    "             'm3': 'b2',\n",
    "             'm5': 'b3',\n",
    "             'm13': 'b4',\n",
    "             'm4': 'b5'}\n",
    "\n",
    "reference_measures = ['b1', 'b2', 'b3', 'b4', 'b5']\n",
    "WORD_DT = WORD_DT.rename(columns=new_measures)\n",
    "PLOT_DT = WORD_DT[reference_measures]\n",
    "\n",
    "es.plot(PLOT_DT, word, f'{word}_word', save_fig=True)"
   ]
  },
  {
   "cell_type": "markdown",
   "id": "168bb01d-3954-4051-89f3-ca5aba81101d",
   "metadata": {},
   "source": [
    "## Searching word in the sentence"
   ]
  },
  {
   "cell_type": "code",
   "execution_count": null,
   "id": "2eff0698",
   "metadata": {},
   "outputs": [],
   "source": [
    "PLOT_DT"
   ]
  },
  {
   "cell_type": "code",
   "execution_count": null,
   "id": "6b9e1200-d6b5-4089-86fb-b08157798009",
   "metadata": {},
   "outputs": [],
   "source": [
    "# Set the seed\n",
    "Q_df = WORD_DT[reference_measures]\n",
    "\n",
    "# Set the time-serie\n",
    "T_df = PLOT_DT[reference_measures]"
   ]
  },
  {
   "cell_type": "code",
   "execution_count": null,
   "id": "cde9c17b-cc2c-41fb-a7f6-1e3f54222991",
   "metadata": {},
   "outputs": [],
   "source": [
    "# Busca os padrões na série\n",
    "c_list = []\n",
    "for step in range(0,len(Q_df.columns)):\n",
    "    comp_object = es.Comparing(Q_df[reference_measures[step]], T_df[reference_measures[step]])\n",
    "    comp_object.calc_matches()\n",
    "    comp_object.measure_name = reference_measures[step]\n",
    "    c_list.append(comp_object)\n",
    "\n",
    "print('Results:')\n",
    "for c in c_list:\n",
    "    print(c.measure_name, '-', len(c.matches_idxs), c.matches_idxs)"
   ]
  },
  {
   "cell_type": "markdown",
   "id": "de78a5f3",
   "metadata": {},
   "source": [
    "## Tratamento do resultado"
   ]
  },
  {
   "cell_type": "code",
   "execution_count": null,
   "id": "8157db9b-64db-46cc-94a1-f62824c4cd1c",
   "metadata": {},
   "outputs": [],
   "source": [
    "# Salva os resultados encontrado em all_index\n",
    "all_index = []\n",
    "for c in c_list:  \n",
    "    all_index.append(c.matches_idxs[:, 1])\n",
    "\n",
    "# Filtra por coincidência a partir de um um treshold de distancia entre a posição dos indexs\n",
    "threshold = 10\n",
    "aux = all_index.copy()\n",
    "filter_index = es.find_all_matches(aux, threshold)\n",
    "\n",
    "# Converte os frames encontrados de acordo com o frame_seq original da sentença\n",
    "filter_index_list=list(filter_index[0])\n",
    "filter_index_begin = []\n",
    "for idx in filter_index_list:\n",
    "    filter_index_begin.append(idx)\n",
    "idxs_match_frame_seq = list(T_df.iloc[filter_index_begin].index)\n",
    "\n",
    "print('total de ocorrências:', len(idxs_match_frame_seq))\n",
    "print('frames de início:', idxs_match_frame_seq)"
   ]
  },
  {
   "cell_type": "markdown",
   "id": "26f1bd72-0069-4fd8-a88b-6d3fcf2b58d5",
   "metadata": {},
   "source": [
    "## Busca em todo o vídeo"
   ]
  },
  {
   "cell_type": "code",
   "execution_count": null,
   "id": "7f022b62-7383-4e7f-b223-d1b40b093064",
   "metadata": {},
   "outputs": [],
   "source": [
    "# READ VD MEASURES\n",
    "# Generate the path of the video in dataset\n",
    "VD_MEASURE_FILE_NAME = 'VD_MEASURE_L0.CSV'\n",
    "path_video = os.path.join(baseDir_yt, f'VD_Y_{video_id:010d}', VD_MEASURE_FILE_NAME)\n",
    "VD_MEASURE_DT = pd.read_csv(path_video)\n",
    "VD_MEASURE_DT.drop(columns=[\"Unnamed: 0\"], inplace=True)"
   ]
  },
  {
   "cell_type": "code",
   "execution_count": null,
   "id": "1b86d78e-306e-47e8-9391-3923c8bdc16b",
   "metadata": {},
   "outputs": [],
   "source": [
    "# set the seed\n",
    "Q_df = WORD_DT[reference_measures]\n",
    "\n",
    "# set the time-serie\n",
    "T_df = PLOT_DT[reference_measures]"
   ]
  },
  {
   "cell_type": "code",
   "execution_count": null,
   "id": "0f56a485-2708-4f37-ac61-47fc35454899",
   "metadata": {},
   "outputs": [],
   "source": [
    "# Busca os padrões na série\n",
    "c_list = []\n",
    "for step in range(0,len(Q_df.columns)):\n",
    "    comp_object = es.Comparing(Q_df[reference_measures[step]], T_df[reference_measures[step]])\n",
    "    comp_object.calc_matches()\n",
    "    comp_object.measure_name = reference_measures[step]\n",
    "    c_list.append(comp_object)\n",
    "\n",
    "print('Results:')\n",
    "for c in c_list:\n",
    "    print(c.measure_name, '-', len(c.matches_idxs))"
   ]
  },
  {
   "cell_type": "markdown",
   "id": "0d8795d6",
   "metadata": {},
   "source": [
    "## Tratamento do resultado"
   ]
  },
  {
   "cell_type": "code",
   "execution_count": null,
   "id": "632a2f5b-5cb7-4b3c-880e-ac983118d3a8",
   "metadata": {},
   "outputs": [],
   "source": [
    "# Salva os resultados encontrado em all_index\n",
    "all_index = []\n",
    "for c in c_list:  \n",
    "    all_index.append(c.matches_idxs[:, 1])\n",
    "\n",
    "# Filtra por coincidência a partir de um um treshold de distancia entre a posição dos indexs\n",
    "threshold = 1\n",
    "aux = all_index.copy()\n",
    "filter_index = es.find_all_matches(aux, threshold)\n",
    "\n",
    "# Converte os frames encontrados de acordo com o frame_seq original da sentença\n",
    "filter_index_list=list(filter_index[0])\n",
    "filter_index_begin = []\n",
    "for idx in filter_index_list:\n",
    "    filter_index_begin.append(idx)\n",
    "idxs_match_frame_seq = list(VD_MEASURE_DT.loc[filter_index_begin, 'frame_seq'].values)\n",
    "\n",
    "print('total de ocorrências:', len(idxs_match_frame_seq))\n",
    "print('frames de início convertidos (frame_seq):', idxs_match_frame_seq)"
   ]
  },
  {
   "cell_type": "code",
   "execution_count": null,
   "id": "24ca905d-72a1-4d9b-934b-b69c71e33c4a",
   "metadata": {},
   "outputs": [],
   "source": [
    "# Abrir um arquivo para escrita ('w')\n",
    "with open(f'{word}_RESULTADOS.txt', 'w') as arquivo:\n",
    "    # Escrever no arquivo\n",
    "    arquivo.write('palavra: '+ word+ '\\n')\n",
    "    arquivo.write('video_id: '+ str(video_id)+ '\\n')\n",
    "    arquivo.write('frame_begin: ' + str(frame_begin)+ '\\n')\n",
    "    arquivo.write('frame_end: ' + str(frame_end)+ '\\n')\n",
    "    arquivo.write('total de ocorrências: ' + str(len(idxs_match_frame_seq))+ '\\n')\n",
    "    arquivo.write('frames de início: ' + str(idxs_match_frame_seq))"
   ]
  }
 ],
 "metadata": {
  "kernelspec": {
   "display_name": "Python 3 (ipykernel)",
   "language": "python",
   "name": "python3"
  },
  "language_info": {
   "codemirror_mode": {
    "name": "ipython",
    "version": 3
   },
   "file_extension": ".py",
   "mimetype": "text/x-python",
   "name": "python",
   "nbconvert_exporter": "python",
   "pygments_lexer": "ipython3",
   "version": "3.10.12"
  }
 },
 "nbformat": 4,
 "nbformat_minor": 5
}

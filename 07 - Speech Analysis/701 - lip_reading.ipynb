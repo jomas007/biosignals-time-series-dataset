{
 "cells": [
  {
   "cell_type": "markdown",
   "metadata": {},
   "source": [
    "# Import dependencies"
   ]
  },
  {
   "cell_type": "code",
   "execution_count": 33,
   "metadata": {},
   "outputs": [],
   "source": [
    "import csv\n",
    "import pandas as pd\n",
    "import os\n",
    "import math\n",
    "import re\n",
    "import string\n",
    "import matplotlib.pyplot as plt\n",
    "import matplotlib as mpl\n",
    "from collections import defaultdict\n",
    "\n",
    "from youtube_transcript_api import YouTubeTranscriptApi"
   ]
  },
  {
   "cell_type": "markdown",
   "metadata": {},
   "source": [
    "# Functions"
   ]
  },
  {
   "cell_type": "markdown",
   "metadata": {},
   "source": [
    "## Generate singular subtitle"
   ]
  },
  {
   "cell_type": "code",
   "execution_count": 2,
   "metadata": {},
   "outputs": [],
   "source": [
    "def generate_subtitles(video_id):\n",
    "    try:\n",
    "        video_subtitles = YouTubeTranscriptApi.get_transcript(video_id, languages=['en', 'en-US'])\n",
    "\n",
    "        for subtitle in video_subtitles:\n",
    "            subtitle['text'] = (subtitle['text'].replace('\\n', ' ')).upper()\n",
    "        \n",
    "        return video_subtitles\n",
    "    except Exception:\n",
    "        print(f\"Error occurred while processing video {video_id}, ID removed from the videos ID's list.\")\n",
    "        return None\n"
   ]
  },
  {
   "cell_type": "markdown",
   "metadata": {},
   "source": [
    "## Generate all subtitles"
   ]
  },
  {
   "cell_type": "code",
   "execution_count": 3,
   "metadata": {},
   "outputs": [],
   "source": [
    "def generate_all_subtitles(video_id_list):\n",
    "    all_subtitles = []\n",
    " \n",
    "    for VIDEO_ID in video_id_list:\n",
    "        video_subtitles = generate_subtitles(VIDEO_ID)\n",
    "        if video_subtitles is not None:\n",
    "            all_subtitles.append((video_subtitles, VIDEO_ID))\n",
    "\n",
    "    return all_subtitles"
   ]
  },
  {
   "cell_type": "markdown",
   "metadata": {},
   "source": [
    "## Convert raw subtitles into CSV"
   ]
  },
  {
   "cell_type": "code",
   "execution_count": 4,
   "metadata": {},
   "outputs": [],
   "source": [
    "def video_subtitles_into_csv(all_subtitles, VIDEO_DESTINATION_FOLDER):\n",
    "    \n",
    "    result_csv_filename = os.path.join(VIDEO_DESTINATION_FOLDER, 'VD_SUBTITLES.CSV')\n",
    "\n",
    "    with open(result_csv_filename, 'w', newline='') as csvfile:\n",
    "        fieldnames = ['text', 'start', 'duration', 'video_id']\n",
    "        writer = csv.DictWriter(csvfile, fieldnames=fieldnames)\n",
    "        \n",
    "        writer.writeheader()\n",
    "        \n",
    "        for subtitles, video_id in all_subtitles:\n",
    "            for subtitle in subtitles:\n",
    "                writer.writerow({'text': subtitle['text'], 'start': subtitle['start'], 'duration': subtitle['duration'], 'video_id': video_id})\n",
    "\n"
   ]
  },
  {
   "cell_type": "markdown",
   "metadata": {},
   "source": [
    "## Build the stop words"
   ]
  },
  {
   "cell_type": "code",
   "execution_count": 5,
   "metadata": {},
   "outputs": [],
   "source": [
    "def build_stop_words():\n",
    "    # Words we don't want to be inserted into the histogram as valid words\n",
    "    stop_words = ['a', 'an', 'and', 'are', 'as', 'at', 'be', 'but', 'by', 'for', 'if', 'in', 'into', \n",
    "    'is', 'it', 'no', 'not', 'of', 'on', 'or', 'such', 'that', 'the', 'their', 'then', 'these', \n",
    "    'they', 'this', 'to', 'was', 'will', 'with', 'i', \"i'm\", 'am', 'you',  \"they're\", 'your', 'out', 'my','...', '.']\n",
    "\n",
    "    stop_words = [st_w.upper() for st_w in stop_words]\n",
    "    \n",
    "    return stop_words"
   ]
  },
  {
   "cell_type": "code",
   "execution_count": 6,
   "metadata": {},
   "outputs": [],
   "source": [
    "def replace_stop_words(words):\n",
    "    # Words we don't want to be inserted into the histogram as valid words\n",
    "    stop_words = ['a', 'an', 'and', 'are', 'as', 'at', 'be', 'but', 'by', 'for', 'if', 'in', 'into', \n",
    "    'is', 'it', 'no', 'not', 'of', 'on', 'or', 'such', 'that', 'the', 'their', 'then', 'these', \n",
    "    'they', 'this', 'to', 'was', 'will', 'with', 'i', \"i'm\", 'am', 'you',  \"they're\", 'your', 'out', 'my',\n",
    "    '...', '.', 'can', 'so', 'now', \"you're\", 'from', 'how', 'do', 'what', \"then\", \"when\", \"where\", \"why\", \n",
    "    \"how\", \"who\", \"whom\", \"whose\", \"which\", \"what\", \"it's\", 'me']\n",
    "\n",
    "    stop_words = [st_w.upper() for st_w in stop_words]\n",
    "\n",
    "    # Substituir todas as palavras na lista stop_words por 'stop word'\n",
    "    new_words = ['Stop Words' if word in stop_words else word for word in words]\n",
    "    \n",
    "    return new_words"
   ]
  },
  {
   "cell_type": "markdown",
   "metadata": {},
   "source": [
    "## Generate a list of all the videos histograms"
   ]
  },
  {
   "cell_type": "code",
   "execution_count": 7,
   "metadata": {},
   "outputs": [],
   "source": [
    "def histogram_for_all():\n",
    "    word_counts = defaultdict(int)\n",
    "    video_counts = defaultdict(set)  # Conjunto para evitar a contagem duplicada de vídeos\n",
    "\n",
    "    VIDEO_SUBTITLES_PATH = '.' + os.sep + 'VD_SUBTITLES.CSV'\n",
    "    all_video_subtitles_df = pd.read_csv(VIDEO_SUBTITLES_PATH)    \n",
    "    \n",
    "    # Iterar sobre cada linha do DataFrame\n",
    "    for index, row in all_video_subtitles_df.iterrows():\n",
    "        # Dividir o texto em palavras e contar a frequência de cada palavra\n",
    "       \n",
    "        words = row['text'].split()\n",
    "        words = replace_stop_words(words)\n",
    "        \n",
    "        word_set = set(words)  # Conjunto para contar cada palavra apenas uma vez por vídeo\n",
    "        for word in word_set:\n",
    "            word_counts[word] += 1\n",
    "            video_counts[word].add(row['video_id'])\n",
    "\n",
    "    # Converter os dicionários em listas de tuplas\n",
    "    word_tuples = [(word, count) for word, count in word_counts.items()]\n",
    "    video_tuples = [(word, len(videos)) for word, videos in video_counts.items()]\n",
    "\n",
    "    # Criar DataFrames para as contagens de palavras e de vídeos\n",
    "    df_word_counts = pd.DataFrame(word_tuples, columns=['Word', 'Word_Count'])\n",
    "    df_video_counts = pd.DataFrame(video_tuples, columns=['Word', 'Video_Count'])\n",
    "\n",
    "    # Mesclar os DataFrames em um único DataFrame\n",
    "    df_combined = pd.merge(df_word_counts, df_video_counts, on='Word')\n",
    "\n",
    "    return df_combined"
   ]
  },
  {
   "cell_type": "markdown",
   "metadata": {},
   "source": [
    "## Get the destination folder acording to the video id"
   ]
  },
  {
   "cell_type": "code",
   "execution_count": 8,
   "metadata": {},
   "outputs": [],
   "source": [
    "def get_destination_folder(video_id, YT_VIDEOS_FOLDER_PATH):\n",
    "    folders = os.listdir(YT_VIDEOS_FOLDER_PATH)\n",
    "\n",
    "    for sub_folder in folders:\n",
    "        sub_folder_path = os.path.join(YT_VIDEOS_FOLDER_PATH, sub_folder)\n",
    "        filenames = os.listdir(sub_folder_path)\n",
    "\n",
    "        for filename in filenames:\n",
    "            file_path = os.path.join(sub_folder_path, filename)\n",
    "\n",
    "            if filename == \"VD_INFO.CSV\":\n",
    "                with open(file_path, 'r', newline='') as csvfile:\n",
    "                    reader = csv.DictReader(csvfile)\n",
    "                    for row in reader:\n",
    "                        if row['link_video'] == video_id:\n",
    "                            return os.path.dirname(file_path) "
   ]
  },
  {
   "cell_type": "markdown",
   "metadata": {},
   "source": [
    "## Create the dataframe with most used words ocurrences and your phrases"
   ]
  },
  {
   "cell_type": "code",
   "execution_count": 9,
   "metadata": {},
   "outputs": [],
   "source": [
    "def generate_words_ocurrence_dataframe(selected_words, video_subtitles, current_video_frame_rate):\n",
    "    words_df = pd.DataFrame()\n",
    "\n",
    "    for selected_word in selected_words:\n",
    "        for sub in video_subtitles:\n",
    "\n",
    "            text = sub['text'].split()\n",
    "\n",
    "            if selected_word in text:\n",
    "                start_time = sub['start']\n",
    "                end_time = sub['start'] + sub['duration']\n",
    "                text = sub['text']\n",
    "\n",
    "                ini_frame = math.floor(start_time * current_video_frame_rate)\n",
    "                end_frame = math.ceil(end_time * current_video_frame_rate)\n",
    "\n",
    "                words_df = words_df._append({'selected_word': selected_word,\n",
    "                                            'start_time_seconds': start_time,\n",
    "                                            'end_time_seconds': end_time,\n",
    "                                            'ini_frame': ini_frame,\n",
    "                                            'end_frame': end_frame,\n",
    "                                            'text': text},\n",
    "                                        ignore_index=True)\n",
    "    return words_df"
   ]
  },
  {
   "cell_type": "markdown",
   "metadata": {},
   "source": [
    "## Get the current video frame rate"
   ]
  },
  {
   "cell_type": "code",
   "execution_count": 10,
   "metadata": {},
   "outputs": [],
   "source": [
    "def get_video_frame_rate(VIDEO_DESTINATION_FOLDER, video_id):\n",
    "\n",
    "    filenames = os.listdir(VIDEO_DESTINATION_FOLDER)\n",
    "\n",
    "    for filename in filenames:\n",
    "        file_path = os.path.join(VIDEO_DESTINATION_FOLDER, filename)\n",
    "\n",
    "        if filename == \"VD_INFO.CSV\":\n",
    "            with open(file_path, 'r', newline='') as csvfile:\n",
    "                reader = csv.DictReader(csvfile)\n",
    "                for row in reader:\n",
    "                    if row['link_video'] == video_id:\n",
    "                        return float(row['fps_vid']) "
   ]
  },
  {
   "cell_type": "markdown",
   "metadata": {},
   "source": [
    "## Get the selected lines "
   ]
  },
  {
   "cell_type": "code",
   "execution_count": 11,
   "metadata": {},
   "outputs": [],
   "source": [
    "def get_selected_measures(EXTRACTED_MEASURES_CSV_FILE_PATH, words_ocurrance_df):\n",
    "    extracted_df = pd.read_csv(EXTRACTED_MEASURES_CSV_FILE_PATH)\n",
    "    extracted_df = extracted_df.rename(columns={\"Unnamed: 0\": \"frame_raw\"})\n",
    "    \n",
    "    list_dataframe_croped = []\n",
    "\n",
    "    for block_id, row in words_ocurrance_df.iterrows():\n",
    "        ini_frame = row['ini_frame']\n",
    "        end_frame = row['end_frame']\n",
    "\n",
    "        croped_frames = extracted_df.query('frame_seq >= @ini_frame and frame_seq <= @end_frame')\n",
    "\n",
    "        # Insert new columns at the left of the DataFrame\n",
    "        croped_frames.insert(0, 'selected_word', row['selected_word'])\n",
    "        croped_frames.insert(0, 'block_id', block_id)\n",
    "\n",
    "        list_dataframe_croped.append(croped_frames)\n",
    "    \n",
    "    return list_dataframe_croped\n",
    "        \n"
   ]
  },
  {
   "cell_type": "markdown",
   "metadata": {},
   "source": [
    "## Get the videos id's"
   ]
  },
  {
   "cell_type": "code",
   "execution_count": 12,
   "metadata": {},
   "outputs": [],
   "source": [
    "def get_videos_ids(YT_VIDEOS_LINK_LIST):\n",
    "    video_ids = []\n",
    "    with open(YT_VIDEOS_LINK_LIST, 'r') as file:\n",
    "        for line in file:\n",
    "            # Extract video ID from YouTube link using regular expression\n",
    "            match = re.search(r'(?<=v=)[^&]+', line)\n",
    "            if match:\n",
    "                video_id = match.group(0)\n",
    "                video_ids.append(video_id.strip())  # Remove leading and trailing whitespace\n",
    "    return video_ids"
   ]
  },
  {
   "cell_type": "code",
   "execution_count": 13,
   "metadata": {},
   "outputs": [],
   "source": [
    "# For 1 video"
   ]
  },
  {
   "cell_type": "code",
   "execution_count": 14,
   "metadata": {},
   "outputs": [],
   "source": [
    "def single_video(video_id, group_df, YT_VIDEOS_FOLDER_PATH, selected_word_histogram):\n",
    "    subtitles = []\n",
    "\n",
    "    # Iterar sobre as linhas do DataFrame para este ID de vídeo\n",
    "    for _, row in group_df.iterrows():\n",
    "        # Criar um objeto para representar esta linha do DataFrame e adicioná-lo à lista\n",
    "        video_object = {\n",
    "            'text': row['text'],\n",
    "            'start': row['start'],\n",
    "            'duration': row['duration']\n",
    "        }\n",
    "        subtitles.append(video_object)\n",
    "\n",
    "    VIDEO_DESTINATION_FOLDER = get_destination_folder(video_id, YT_VIDEOS_FOLDER_PATH)\n",
    "    EXTRACTED_MEASURES_CSV_FILE_PATH = os.path.join(VIDEO_DESTINATION_FOLDER, \"VD_MEASURE_L0.CSV\") \n",
    "        \n",
    "    current_video_frame_rate = get_video_frame_rate(VIDEO_DESTINATION_FOLDER, video_id)\n",
    "            \n",
    "    # Build the words ocurrance data frame\n",
    "    words_occurrence_df = generate_words_ocurrence_dataframe(selected_word_histogram, subtitles, current_video_frame_rate)     \n",
    "\n",
    "    # Save the histogram into a csv file\n",
    "    words_occurrence_csv_filename = os.path.join(VIDEO_DESTINATION_FOLDER, \"VD_WORDS_OCCURRENCE.CSV\")\n",
    "    words_occurrence_df.to_csv(words_occurrence_csv_filename, index=False)\n",
    "        \n",
    "    # Crop the extracted measures where the word occurred\n",
    "    extracted_measures_selected_frames = get_selected_measures(EXTRACTED_MEASURES_CSV_FILE_PATH, words_occurrence_df)\n",
    "\n",
    "    final_df = pd.DataFrame()\n",
    "\n",
    "    # Concatenate all DataFrames into one\n",
    "    for df in extracted_measures_selected_frames:\n",
    "        final_df = pd.concat([final_df, df])\n",
    "\n",
    "    final_dataframes_csv = os.path.join(VIDEO_DESTINATION_FOLDER, \"VD_BLOCKS_WORDS_OCCURRENCE.CSV\")\n",
    "    final_df.to_csv(final_dataframes_csv, index=False)\n",
    "\n",
    "    print(\"Process complete for video: \" + video_id)"
   ]
  },
  {
   "cell_type": "markdown",
   "metadata": {},
   "source": [
    "## Execute the functions for all videos"
   ]
  },
  {
   "cell_type": "code",
   "execution_count": 15,
   "metadata": {},
   "outputs": [],
   "source": [
    "def histogram_words_ocurrence_each_video(selected_word_histogram):\n",
    "    YT_VIDEOS_FOLDER_PATH = '.' + '.' + os.sep + 'Dataset' + os.sep + 'YT-Online' + os.sep\n",
    "\n",
    "    VIDEO_SUBTITLES_PATH = '.' + os.sep + 'VD_SUBTITLES.CSV'\n",
    "    all_video_subtitles_df = pd.read_csv(VIDEO_SUBTITLES_PATH) \n",
    "\n",
    "    for video_id, group_df in all_video_subtitles_df.groupby('video_id'):\n",
    "        single_video(video_id, group_df, YT_VIDEOS_FOLDER_PATH, selected_word_histogram)"
   ]
  },
  {
   "cell_type": "markdown",
   "metadata": {},
   "source": [
    "## Plot the column graph for the histogram"
   ]
  },
  {
   "cell_type": "code",
   "execution_count": 47,
   "metadata": {},
   "outputs": [],
   "source": [
    "def plot_column_histogram_graph(df_combined_sorted, number_of_words):\n",
    "    # Selecionar apenas as palavras mais frequentes\n",
    "    top_words = df_combined_sorted.head(number_of_words[1])[1:15]\n",
    "\n",
    "    # Atualizar configurações de fonte\n",
    "    mpl.rcParams.update({\n",
    "        'font.family': 'Times New Roman',  # Escolha o estilo de fonte desejado\n",
    "        'font.size': 10,          # Tamanho da fonte em pontos\n",
    "        'axes.labelsize': 'medium',  # Tamanho dos rótulos dos eixos\n",
    "        'axes.titlesize': 'large',   # Tamanho dos títulos dos subplots\n",
    "        'xtick.labelsize': 'small',  # Tamanho dos rótulos do eixo x\n",
    "        'ytick.labelsize': 'small',  # Tamanho dos rótulos do eixo y\n",
    "        'legend.fontsize': 'medium',  # Tamanho da fonte na legenda\n",
    "        'figure.titlesize': 'large',  # Tamanho do título da figura\n",
    "    })\n",
    "\n",
    "    # Plotar o gráfico de barras\n",
    "    plt.figure(figsize=(10, 6))\n",
    "    bars = plt.bar(top_words['Word'], top_words['Word_Count'], color='skyblue')\n",
    "    \n",
    "    # Adicionar valor da amplitude acima de cada barra\n",
    "    for bar in bars:\n",
    "        height = bar.get_height()\n",
    "        plt.text(bar.get_x() + bar.get_width()/2.0, height, str(int(height)), ha='center', va='bottom', rotation=45)\n",
    "\n",
    "    plt.xlabel('Palavras')\n",
    "    plt.ylabel('Número de Ocorrências')\n",
    "    plt.xticks(rotation=45)\n",
    "    plt.tight_layout()\n",
    "    plt.savefig('histogram.png')\n",
    "    plt.show()\n"
   ]
  },
  {
   "cell_type": "markdown",
   "metadata": {},
   "source": [
    "# Get the videos ID's"
   ]
  },
  {
   "cell_type": "code",
   "execution_count": 17,
   "metadata": {},
   "outputs": [
    {
     "name": "stdout",
     "output_type": "stream",
     "text": [
      "['gwIcgyqioPo', 'CwjV6MDU9E8', 'oa1QJL7tv4g', 'mE45MLeTUOw', '_uiqV7p3fwM', 'wexzvClUcUk', 'tt4TF1wqz9U', 'DSaj9qMwvLI', 'yKCUTZaKgNA', 'OUAWJRALAzQ', 'LOS5WB75gkY', '05SLQsbY310', 'e6ME0UGNwNQ', 'aRs0k5pPXQo', '9cg3wsfoU40', 'qNrJbE0U5fg', 'nxFUViPHEnc', 'Y5q2CaJxVXg', '591eurlufSo', 'LeXArY1x9zo', 'ec_OJbZ4ByQ', 'hqHWFrG1my8', 'R-oBT97ujqQ', '1kEXoDqDMMA', '2vwi5y5UKgk', 'gbegsiuprlA', 'ojbMAVRG_o4', 'X9WfTOwx05g', 'utwNhk3nmVU', 'LrjlW00kkws', 'HgVBxs5G1zE', 'pzCuKh7QyOA', 'J8JCvKDqkj8', 'H7GYeKu9L_8', 'w69hIDMXSaw', '2HkUPY2eo4E', 'fL1WMdft3OE', 'zAvkbjxA7UY', 'Azp4Wd8Vb8E', '2ftkADtZKAc', 'o-IMRj3ajPY']\n"
     ]
    }
   ],
   "source": [
    "YT_SOURCE_LINKS_VIDEOS_FOLDER = '.' + '.' + os.sep + 'Video-Source' + os.sep + 'in_YT-List' + os.sep\n",
    "YT_VIDEOS_LINK_LIST = os.path.join(YT_SOURCE_LINKS_VIDEOS_FOLDER, 'NEW_VIDEO_LIST.LST')\n",
    "\n",
    "# Get the videos ID's\n",
    "videos_ids_list = get_videos_ids(YT_VIDEOS_LINK_LIST)\n",
    "\n",
    "print(videos_ids_list)"
   ]
  },
  {
   "cell_type": "markdown",
   "metadata": {},
   "source": [
    "# Generate the subtitles"
   ]
  },
  {
   "cell_type": "code",
   "execution_count": 18,
   "metadata": {},
   "outputs": [
    {
     "name": "stdout",
     "output_type": "stream",
     "text": [
      "Error occurred while processing video OUAWJRALAzQ, ID removed from the videos ID's list.\n",
      "Error occurred while processing video 591eurlufSo, ID removed from the videos ID's list.\n",
      "Error occurred while processing video ec_OJbZ4ByQ, ID removed from the videos ID's list.\n",
      "Error occurred while processing video R-oBT97ujqQ, ID removed from the videos ID's list.\n",
      "Error occurred while processing video 2vwi5y5UKgk, ID removed from the videos ID's list.\n",
      "Error occurred while processing video X9WfTOwx05g, ID removed from the videos ID's list.\n",
      "Error occurred while processing video fL1WMdft3OE, ID removed from the videos ID's list.\n",
      "Error occurred while processing video zAvkbjxA7UY, ID removed from the videos ID's list.\n",
      "Error occurred while processing video Azp4Wd8Vb8E, ID removed from the videos ID's list.\n",
      "Error occurred while processing video 2ftkADtZKAc, ID removed from the videos ID's list.\n",
      "Error occurred while processing video o-IMRj3ajPY, ID removed from the videos ID's list.\n"
     ]
    }
   ],
   "source": [
    "# Select the amount of videos: [:1] / [:5] / [:10]\n",
    "videos_ids_list_selected = videos_ids_list[:]\n",
    "\n",
    "all_subtitles = generate_all_subtitles(videos_ids_list_selected)"
   ]
  },
  {
   "cell_type": "markdown",
   "metadata": {},
   "source": [
    "## Save subtitles into CSV"
   ]
  },
  {
   "cell_type": "code",
   "execution_count": 19,
   "metadata": {},
   "outputs": [],
   "source": [
    "# Save all subtitles into CSV\n",
    "video_subtitles_into_csv(all_subtitles, '.')"
   ]
  },
  {
   "cell_type": "markdown",
   "metadata": {},
   "source": [
    "# Generate the histogram"
   ]
  },
  {
   "cell_type": "code",
   "execution_count": 20,
   "metadata": {},
   "outputs": [],
   "source": [
    "# Generate the final histogram\n",
    "final_histogram_df = histogram_for_all()\n",
    "\n",
    "# Sort the final histogram\n",
    "final_histogram_df_sorted = final_histogram_df.sort_values(by='Word_Count', ascending=False)\n",
    "\n",
    "final_histogram_df_sorted.to_csv('histograms.csv')"
   ]
  },
  {
   "cell_type": "markdown",
   "metadata": {},
   "source": [
    "# Plot the histogram"
   ]
  },
  {
   "cell_type": "code",
   "execution_count": 48,
   "metadata": {},
   "outputs": [
    {
     "name": "stderr",
     "output_type": "stream",
     "text": [
      "findfont: Font family 'Times New Roman' not found.\n",
      "findfont: Font family 'Times New Roman' not found.\n",
      "findfont: Font family 'Times New Roman' not found.\n",
      "findfont: Font family 'Times New Roman' not found.\n",
      "findfont: Font family 'Times New Roman' not found.\n",
      "findfont: Font family 'Times New Roman' not found.\n",
      "findfont: Font family 'Times New Roman' not found.\n",
      "findfont: Font family 'Times New Roman' not found.\n",
      "findfont: Font family 'Times New Roman' not found.\n",
      "findfont: Font family 'Times New Roman' not found.\n",
      "findfont: Font family 'Times New Roman' not found.\n",
      "findfont: Font family 'Times New Roman' not found.\n",
      "findfont: Font family 'Times New Roman' not found.\n",
      "findfont: Font family 'Times New Roman' not found.\n",
      "findfont: Font family 'Times New Roman' not found.\n",
      "findfont: Font family 'Times New Roman' not found.\n",
      "findfont: Font family 'Times New Roman' not found.\n",
      "findfont: Font family 'Times New Roman' not found.\n",
      "findfont: Font family 'Times New Roman' not found.\n",
      "findfont: Font family 'Times New Roman' not found.\n",
      "findfont: Font family 'Times New Roman' not found.\n",
      "findfont: Font family 'Times New Roman' not found.\n",
      "findfont: Font family 'Times New Roman' not found.\n",
      "findfont: Font family 'Times New Roman' not found.\n",
      "findfont: Font family 'Times New Roman' not found.\n",
      "findfont: Font family 'Times New Roman' not found.\n",
      "findfont: Font family 'Times New Roman' not found.\n",
      "findfont: Font family 'Times New Roman' not found.\n",
      "findfont: Font family 'Times New Roman' not found.\n",
      "findfont: Font family 'Times New Roman' not found.\n",
      "findfont: Font family 'Times New Roman' not found.\n",
      "findfont: Font family 'Times New Roman' not found.\n",
      "findfont: Font family 'Times New Roman' not found.\n",
      "findfont: Font family 'Times New Roman' not found.\n",
      "findfont: Font family 'Times New Roman' not found.\n",
      "findfont: Font family 'Times New Roman' not found.\n",
      "findfont: Font family 'Times New Roman' not found.\n",
      "findfont: Font family 'Times New Roman' not found.\n",
      "findfont: Font family 'Times New Roman' not found.\n",
      "findfont: Font family 'Times New Roman' not found.\n",
      "findfont: Font family 'Times New Roman' not found.\n",
      "findfont: Font family 'Times New Roman' not found.\n",
      "findfont: Font family 'Times New Roman' not found.\n",
      "findfont: Font family 'Times New Roman' not found.\n",
      "findfont: Font family 'Times New Roman' not found.\n",
      "findfont: Font family 'Times New Roman' not found.\n",
      "findfont: Font family 'Times New Roman' not found.\n",
      "findfont: Font family 'Times New Roman' not found.\n",
      "findfont: Font family 'Times New Roman' not found.\n",
      "findfont: Font family 'Times New Roman' not found.\n",
      "findfont: Font family 'Times New Roman' not found.\n",
      "findfont: Font family 'Times New Roman' not found.\n",
      "findfont: Font family 'Times New Roman' not found.\n",
      "findfont: Font family 'Times New Roman' not found.\n",
      "findfont: Font family 'Times New Roman' not found.\n",
      "findfont: Font family 'Times New Roman' not found.\n",
      "findfont: Font family 'Times New Roman' not found.\n",
      "findfont: Font family 'Times New Roman' not found.\n",
      "findfont: Font family 'Times New Roman' not found.\n",
      "findfont: Font family 'Times New Roman' not found.\n",
      "findfont: Font family 'Times New Roman' not found.\n",
      "findfont: Font family 'Times New Roman' not found.\n",
      "findfont: Font family 'Times New Roman' not found.\n",
      "findfont: Font family 'Times New Roman' not found.\n",
      "findfont: Font family 'Times New Roman' not found.\n",
      "findfont: Font family 'Times New Roman' not found.\n",
      "findfont: Font family 'Times New Roman' not found.\n",
      "findfont: Font family 'Times New Roman' not found.\n",
      "findfont: Font family 'Times New Roman' not found.\n",
      "findfont: Font family 'Times New Roman' not found.\n",
      "findfont: Font family 'Times New Roman' not found.\n",
      "findfont: Font family 'Times New Roman' not found.\n",
      "findfont: Font family 'Times New Roman' not found.\n",
      "findfont: Font family 'Times New Roman' not found.\n",
      "findfont: Font family 'Times New Roman' not found.\n",
      "findfont: Font family 'Times New Roman' not found.\n",
      "findfont: Font family 'Times New Roman' not found.\n",
      "findfont: Font family 'Times New Roman' not found.\n",
      "findfont: Font family 'Times New Roman' not found.\n",
      "findfont: Font family 'Times New Roman' not found.\n",
      "findfont: Font family 'Times New Roman' not found.\n",
      "findfont: Font family 'Times New Roman' not found.\n",
      "findfont: Font family 'Times New Roman' not found.\n",
      "findfont: Font family 'Times New Roman' not found.\n",
      "findfont: Font family 'Times New Roman' not found.\n",
      "findfont: Font family 'Times New Roman' not found.\n",
      "findfont: Font family 'Times New Roman' not found.\n",
      "findfont: Font family 'Times New Roman' not found.\n",
      "findfont: Font family 'Times New Roman' not found.\n",
      "findfont: Font family 'Times New Roman' not found.\n",
      "findfont: Font family 'Times New Roman' not found.\n",
      "findfont: Font family 'Times New Roman' not found.\n",
      "findfont: Font family 'Times New Roman' not found.\n",
      "findfont: Font family 'Times New Roman' not found.\n",
      "findfont: Font family 'Times New Roman' not found.\n",
      "findfont: Font family 'Times New Roman' not found.\n",
      "findfont: Font family 'Times New Roman' not found.\n",
      "findfont: Font family 'Times New Roman' not found.\n",
      "findfont: Font family 'Times New Roman' not found.\n",
      "findfont: Font family 'Times New Roman' not found.\n",
      "findfont: Font family 'Times New Roman' not found.\n",
      "findfont: Font family 'Times New Roman' not found.\n",
      "findfont: Font family 'Times New Roman' not found.\n",
      "findfont: Font family 'Times New Roman' not found.\n",
      "findfont: Font family 'Times New Roman' not found.\n",
      "findfont: Font family 'Times New Roman' not found.\n",
      "findfont: Font family 'Times New Roman' not found.\n",
      "findfont: Font family 'Times New Roman' not found.\n",
      "findfont: Font family 'Times New Roman' not found.\n",
      "findfont: Font family 'Times New Roman' not found.\n",
      "findfont: Font family 'Times New Roman' not found.\n",
      "findfont: Font family 'Times New Roman' not found.\n",
      "findfont: Font family 'Times New Roman' not found.\n",
      "findfont: Font family 'Times New Roman' not found.\n",
      "findfont: Font family 'Times New Roman' not found.\n",
      "findfont: Font family 'Times New Roman' not found.\n",
      "findfont: Font family 'Times New Roman' not found.\n",
      "findfont: Font family 'Times New Roman' not found.\n",
      "findfont: Font family 'Times New Roman' not found.\n",
      "findfont: Font family 'Times New Roman' not found.\n",
      "findfont: Font family 'Times New Roman' not found.\n",
      "findfont: Font family 'Times New Roman' not found.\n",
      "findfont: Font family 'Times New Roman' not found.\n",
      "findfont: Font family 'Times New Roman' not found.\n",
      "findfont: Font family 'Times New Roman' not found.\n",
      "findfont: Font family 'Times New Roman' not found.\n",
      "findfont: Font family 'Times New Roman' not found.\n",
      "findfont: Font family 'Times New Roman' not found.\n",
      "findfont: Font family 'Times New Roman' not found.\n",
      "findfont: Font family 'Times New Roman' not found.\n",
      "findfont: Font family 'Times New Roman' not found.\n",
      "findfont: Font family 'Times New Roman' not found.\n",
      "findfont: Font family 'Times New Roman' not found.\n",
      "findfont: Font family 'Times New Roman' not found.\n",
      "findfont: Font family 'Times New Roman' not found.\n",
      "findfont: Font family 'Times New Roman' not found.\n",
      "findfont: Font family 'Times New Roman' not found.\n",
      "findfont: Font family 'Times New Roman' not found.\n",
      "findfont: Font family 'Times New Roman' not found.\n",
      "findfont: Font family 'Times New Roman' not found.\n",
      "findfont: Font family 'Times New Roman' not found.\n",
      "findfont: Font family 'Times New Roman' not found.\n",
      "findfont: Font family 'Times New Roman' not found.\n",
      "findfont: Font family 'Times New Roman' not found.\n",
      "findfont: Font family 'Times New Roman' not found.\n",
      "findfont: Font family 'Times New Roman' not found.\n",
      "findfont: Font family 'Times New Roman' not found.\n",
      "findfont: Font family 'Times New Roman' not found.\n",
      "findfont: Font family 'Times New Roman' not found.\n",
      "findfont: Font family 'Times New Roman' not found.\n",
      "findfont: Font family 'Times New Roman' not found.\n",
      "findfont: Font family 'Times New Roman' not found.\n",
      "findfont: Font family 'Times New Roman' not found.\n",
      "findfont: Font family 'Times New Roman' not found.\n",
      "findfont: Font family 'Times New Roman' not found.\n",
      "findfont: Font family 'Times New Roman' not found.\n",
      "findfont: Font family 'Times New Roman' not found.\n",
      "findfont: Font family 'Times New Roman' not found.\n",
      "findfont: Font family 'Times New Roman' not found.\n",
      "findfont: Font family 'Times New Roman' not found.\n",
      "findfont: Font family 'Times New Roman' not found.\n",
      "findfont: Font family 'Times New Roman' not found.\n",
      "findfont: Font family 'Times New Roman' not found.\n",
      "findfont: Font family 'Times New Roman' not found.\n",
      "findfont: Font family 'Times New Roman' not found.\n",
      "findfont: Font family 'Times New Roman' not found.\n",
      "findfont: Font family 'Times New Roman' not found.\n",
      "findfont: Font family 'Times New Roman' not found.\n",
      "findfont: Font family 'Times New Roman' not found.\n",
      "findfont: Font family 'Times New Roman' not found.\n",
      "findfont: Font family 'Times New Roman' not found.\n",
      "findfont: Font family 'Times New Roman' not found.\n",
      "findfont: Font family 'Times New Roman' not found.\n",
      "findfont: Font family 'Times New Roman' not found.\n",
      "findfont: Font family 'Times New Roman' not found.\n",
      "findfont: Font family 'Times New Roman' not found.\n",
      "findfont: Font family 'Times New Roman' not found.\n",
      "findfont: Font family 'Times New Roman' not found.\n",
      "findfont: Font family 'Times New Roman' not found.\n",
      "findfont: Font family 'Times New Roman' not found.\n",
      "findfont: Font family 'Times New Roman' not found.\n",
      "findfont: Font family 'Times New Roman' not found.\n",
      "findfont: Font family 'Times New Roman' not found.\n",
      "findfont: Font family 'Times New Roman' not found.\n",
      "findfont: Font family 'Times New Roman' not found.\n",
      "findfont: Font family 'Times New Roman' not found.\n",
      "findfont: Font family 'Times New Roman' not found.\n",
      "findfont: Font family 'Times New Roman' not found.\n",
      "findfont: Font family 'Times New Roman' not found.\n",
      "findfont: Font family 'Times New Roman' not found.\n",
      "findfont: Font family 'Times New Roman' not found.\n"
     ]
    },
    {
     "data": {
      "image/png": "[encoded data removed]",
      "text/plain": [
       "<Figure size 1000x600 with 1 Axes>"
      ]
     },
     "metadata": {},
     "output_type": "display_data"
    }
   ],
   "source": [
    "# Plot the [ini, end] most frequent words into columns\n",
    "plot_column_histogram_graph(final_histogram_df_sorted, [1, 15])"
   ]
  },
  {
   "cell_type": "markdown",
   "metadata": {},
   "source": [
    "# Execute the code for selected videos"
   ]
  },
  {
   "cell_type": "code",
   "execution_count": 22,
   "metadata": {},
   "outputs": [
    {
     "name": "stdout",
     "output_type": "stream",
     "text": [
      "Process complete for video: 05SLQsbY310\n",
      "Process complete for video: 1kEXoDqDMMA\n",
      "Process complete for video: 2HkUPY2eo4E\n",
      "Process complete for video: 9cg3wsfoU40\n",
      "Process complete for video: CwjV6MDU9E8\n",
      "Process complete for video: DSaj9qMwvLI\n",
      "Process complete for video: H7GYeKu9L_8\n",
      "Process complete for video: HgVBxs5G1zE\n",
      "Process complete for video: J8JCvKDqkj8\n",
      "Process complete for video: LOS5WB75gkY\n",
      "Process complete for video: LeXArY1x9zo\n",
      "Process complete for video: LrjlW00kkws\n",
      "Process complete for video: Y5q2CaJxVXg\n",
      "Process complete for video: _uiqV7p3fwM\n",
      "Process complete for video: aRs0k5pPXQo\n",
      "Process complete for video: e6ME0UGNwNQ\n",
      "Process complete for video: gbegsiuprlA\n",
      "Process complete for video: gwIcgyqioPo\n",
      "Process complete for video: hqHWFrG1my8\n",
      "Process complete for video: mE45MLeTUOw\n",
      "Process complete for video: nxFUViPHEnc\n",
      "Process complete for video: oa1QJL7tv4g\n",
      "Process complete for video: ojbMAVRG_o4\n",
      "Process complete for video: pzCuKh7QyOA\n",
      "Process complete for video: qNrJbE0U5fg\n",
      "Process complete for video: tt4TF1wqz9U\n",
      "Process complete for video: utwNhk3nmVU\n",
      "Process complete for video: w69hIDMXSaw\n",
      "Process complete for video: wexzvClUcUk\n",
      "Process complete for video: yKCUTZaKgNA\n"
     ]
    }
   ],
   "source": [
    "# Get ten most frequent word in the histogram\n",
    "most_frequent_words = final_histogram_df_sorted.head(10)['Word'].tolist()\n",
    "\n",
    "# Choosing manually the words\n",
    "most_frequent_words = ['PRESENTATION', 'HAVE', 'ABOUT', 'INTERVIEW']\n",
    "\n",
    "# Get the occurrence of each selected_word from the histogram on every video\n",
    "histogram_words_ocurrence_each_video(most_frequent_words)"
   ]
  },
  {
   "cell_type": "code",
   "execution_count": 23,
   "metadata": {},
   "outputs": [],
   "source": [
    "#<end"
   ]
  }
 ],
 "metadata": {
  "kernelspec": {
   "display_name": "Python 3 (ipykernel)",
   "language": "python",
   "name": "python3"
  },
  "language_info": {
   "codemirror_mode": {
    "name": "ipython",
    "version": 3
   },
   "file_extension": ".py",
   "mimetype": "text/x-python",
   "name": "python",
   "nbconvert_exporter": "python",
   "pygments_lexer": "ipython3",
   "version": "3.10.12"
  }
 },
 "nbformat": 4,
 "nbformat_minor": 4
}

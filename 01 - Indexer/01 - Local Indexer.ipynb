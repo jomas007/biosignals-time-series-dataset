{
 "cells": [
  {
   "cell_type": "markdown",
   "metadata": {},
   "source": [
    "## Importing dependencies"
   ]
  },
  {
   "cell_type": "code",
   "execution_count": 1,
   "metadata": {},
   "outputs": [],
   "source": [
    "import os, glob, sys, pandas as pd\n",
    "\n",
    "# Import library with current code functions\n",
    "sys.path.append(os.path.join(\"..\", \"lib\"))\n",
    "import indexer_functions as indx_fun\n",
    "import general_functions as gf"
   ]
  },
  {
   "cell_type": "markdown",
   "metadata": {},
   "source": [
    "## Defining folders"
   ]
  },
  {
   "cell_type": "code",
   "execution_count": 2,
   "metadata": {},
   "outputs": [],
   "source": [
    "VIDEO_SOURCE_FOLDER_PATH = os.path.join(\"..\", \"Video-Source\", \"in_DD-Local\")\n",
    "DESTINATION_FOLDER_PATH = os.path.join(\"..\", \"Dataset\", \"DD-Local\")\n",
    "\n",
    "VD_INFO_FILE_NAME = 'VD_INFO.CSV'\n",
    "VIDEO_FILE_NAME_LIST = []\n",
    "\n",
    "# Get the raw videos paths\n",
    "VIDEO_LOCATION_LIST = sorted(glob.iglob(os.path.join(VIDEO_SOURCE_FOLDER_PATH, '**', '*' + '.mp4'), recursive=True))\n",
    "\n",
    "# Make a list with the NAME of the videos \n",
    "for current_path_location in VIDEO_LOCATION_LIST:\n",
    "    VIDEO_FILE_NAME_LIST.append(gf.get_file_name(current_path_location, '.mp4'))\n",
    "\n",
    "VD_INFO_LOCATION_TREE_LST = os.path.join(DESTINATION_FOLDER_PATH, '**', VD_INFO_FILE_NAME)\n",
    "\n",
    "# Scan the folder and save the list of csv\n",
    "FOLDER_CSV_SCAN = sorted(glob.iglob(VD_INFO_LOCATION_TREE_LST, recursive=True))"
   ]
  },
  {
   "cell_type": "markdown",
   "metadata": {},
   "source": [
    "## Check which videos has the VD_INFO file"
   ]
  },
  {
   "cell_type": "code",
   "execution_count": 3,
   "metadata": {},
   "outputs": [],
   "source": [
    "for file in FOLDER_CSV_SCAN:\n",
    "    video_info = pd.read_csv(file)\n",
    "    video_id = video_info['link_video'][0]\n",
    "    if video_id in VIDEO_FILE_NAME_LIST:\n",
    "        VIDEO_FILE_NAME_LIST.remove(video_id)"
   ]
  },
  {
   "cell_type": "markdown",
   "metadata": {},
   "source": [
    "## Extract the information of videos files and insert at the folders"
   ]
  },
  {
   "cell_type": "code",
   "execution_count": 4,
   "metadata": {},
   "outputs": [
    {
     "name": "stdout",
     "output_type": "stream",
     "text": [
      "1 of 2 : Starting to process the 2q_eNp4mDGU\n",
      "2 of 2 : Starting to process the 4W09LPCCJ4U\n"
     ]
    }
   ],
   "source": [
    "number_of_videos = len(VIDEO_FILE_NAME_LIST)\n",
    "VIDEO_ID = gf.collect_next_video_id(FOLDER_CSV_SCAN)\n",
    "FOLDER_PREFIX = \"VD_D_\"\n",
    "ORIGIN_VID = 'D'\n",
    "\n",
    "for i, video_name in enumerate(VIDEO_FILE_NAME_LIST):\n",
    "    current_path_location = os.path.join(VIDEO_SOURCE_FOLDER_PATH, video_name + '.mp4')\n",
    "\n",
    "    print (str(i+1) + \" of \" + str(number_of_videos) + \" : \" + \"Starting to process the \" + video_name)\n",
    "    \n",
    "    INFO_COLLECTED_SUCCESSFULLY, SHAPE_ORIGINAL, DURATION_ORIGINAL, FPS_ORIGINAL = gf.collect_video_info(current_path_location)\n",
    "\n",
    "    if INFO_COLLECTED_SUCCESSFULLY:\n",
    "        indx_fun.create_vd_info(VIDEO_ID, DURATION_ORIGINAL, FPS_ORIGINAL, SHAPE_ORIGINAL, FOLDER_PREFIX, DESTINATION_FOLDER_PATH, VD_INFO_FILE_NAME, video_name, ORIGIN_VID)\n",
    "        VIDEO_ID += 1"
   ]
  }
 ],
 "metadata": {
  "kernelspec": {
   "display_name": "Python 3 (ipykernel)",
   "language": "python",
   "name": "python3"
  },
  "language_info": {
   "codemirror_mode": {
    "name": "ipython",
    "version": 3
   },
   "file_extension": ".py",
   "mimetype": "text/x-python",
   "name": "python",
   "nbconvert_exporter": "python",
   "pygments_lexer": "ipython3",
   "version": "3.12.2"
  }
 },
 "nbformat": 4,
 "nbformat_minor": 4
}

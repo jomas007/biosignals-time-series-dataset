{
 "cells": [
  {
   "cell_type": "markdown",
   "metadata": {},
   "source": [
    "## Importing dependencies"
   ]
  },
  {
   "cell_type": "code",
   "execution_count": 5,
   "metadata": {},
   "outputs": [],
   "source": [
    "import os\n",
    "import sys\n",
    "import pandas as pd\n",
    "\n",
    "# Import library with current code functions\n",
    "sys.path.append(os.path.join(\"..\", \"lib\"))\n",
    "import indexer_functions as indx_fun, general_functions as gf, files_paths as fp"
   ]
  },
  {
   "cell_type": "markdown",
   "metadata": {},
   "source": [
    "## Defining folders"
   ]
  },
  {
   "cell_type": "code",
   "execution_count": 6,
   "metadata": {},
   "outputs": [],
   "source": [
    "FILE_LIST_VD_LOCAL_SEED = gf.find_files_in_all_subdirectories([fp.VIDEO_SOURCE_LOCAL, fp.VIDEO_SOURCE_YT], '*' + '.mp4')\n",
    "FILE_LIST_VD_INFO = gf.find_files_in_all_subdirectories([fp.DATASET_LOCAL, fp.DATASET_YT], fp.VD_INFO)\n",
    "VIDEOS_NAMES = [gf.get_file_name(current_path_location, '.mp4') for current_path_location in FILE_LIST_VD_LOCAL_SEED]"
   ]
  },
  {
   "cell_type": "markdown",
   "metadata": {},
   "source": [
    "## Check which videos has the VD_INFO file"
   ]
  },
  {
   "cell_type": "code",
   "execution_count": 7,
   "metadata": {},
   "outputs": [],
   "source": [
    "for file in FILE_LIST_VD_INFO:\n",
    "    video_info = pd.read_csv(file)\n",
    "    video_id = video_info['link_video'][0]\n",
    "    if video_id in VIDEOS_NAMES:\n",
    "        VIDEOS_NAMES.remove(video_id)"
   ]
  },
  {
   "cell_type": "markdown",
   "metadata": {},
   "source": [
    "## Extract the information of videos files and insert at the folders"
   ]
  },
  {
   "cell_type": "code",
   "execution_count": 8,
   "metadata": {},
   "outputs": [
    {
     "name": "stdout",
     "output_type": "stream",
     "text": [
      "1 of 28 : Starting to process the 295xopXuU5E\n",
      "2 of 28 : Starting to process the 2q_eNp4mDGU\n",
      "3 of 28 : Starting to process the 4W09LPCCJ4U\n",
      "4 of 28 : Starting to process the 5KY8V6HBAro\n",
      "5 of 28 : Starting to process the 61gzN0c9K3g\n",
      "6 of 28 : Starting to process the 6koC82XF9bc\n",
      "7 of 28 : Starting to process the 8hDfY5JR4Ic\n",
      "8 of 28 : Starting to process the AjHji_Ff4Mc\n",
      "9 of 28 : Starting to process the Gerôncio Henrique Neto\n",
      "10 of 28 : Starting to process the H9HzZV6pW7g\n",
      "11 of 28 : Starting to process the JrdZ63GIL8k\n",
      "12 of 28 : Starting to process the Ka19xzJ_DQw\n",
      "13 of 28 : Starting to process the Kfp0e9qlVyc\n",
      "14 of 28 : Starting to process the MwHKnkuzM3c\n",
      "15 of 28 : Starting to process the SBVFwCGW8_A\n",
      "16 of 28 : Starting to process the WUs_B1G4564\n",
      "17 of 28 : Starting to process the caX-uN1uCqY\n",
      "18 of 28 : Starting to process the hBdjcicU78E\n",
      "19 of 28 : Starting to process the museu_da_pessoa_1\n",
      "20 of 28 : Starting to process the museu_da_pessoa_2\n",
      "21 of 28 : Starting to process the museu_da_pessoa_3\n",
      "22 of 28 : Starting to process the museu_da_pessoa_4\n",
      "23 of 28 : Starting to process the museu_da_pessoa_5\n",
      "24 of 28 : Starting to process the museu_da_pessoa_6\n",
      "25 of 28 : Starting to process the museu_da_pessoa_7\n",
      "26 of 28 : Starting to process the p9cvrKEFUhc\n",
      "27 of 28 : Starting to process the rL3MTusPLu4\n",
      "28 of 28 : Starting to process the zKoqa_MyYtw\n"
     ]
    }
   ],
   "source": [
    "number_of_videos = len(VIDEOS_NAMES)\n",
    "VIDEO_ID = gf.collect_next_video_id(FILE_LIST_VD_INFO)\n",
    "FOLDER_PREFIX = \"VD_D_\"\n",
    "ORIGIN_VID = 'D'\n",
    "\n",
    "for i, video_name in enumerate(VIDEOS_NAMES):\n",
    "    current_path_location = os.path.join(fp.VIDEO_SOURCE_LOCAL, video_name + '.mp4')\n",
    "\n",
    "    print (str(i+1) + \" of \" + str(number_of_videos) + \" : \" + \"Starting to process the \" + video_name)\n",
    "    \n",
    "    INFO_COLLECTED_SUCCESSFULLY, SHAPE_ORIGINAL, DURATION_ORIGINAL, FPS_ORIGINAL = gf.collect_video_info(current_path_location)\n",
    "\n",
    "    if INFO_COLLECTED_SUCCESSFULLY:\n",
    "        indx_fun.create_vd_info(VIDEO_ID, DURATION_ORIGINAL, FPS_ORIGINAL, SHAPE_ORIGINAL, FOLDER_PREFIX, fp.DATASET_LOCAL, fp.VD_INFO, video_name, ORIGIN_VID)\n",
    "        VIDEO_ID += 1"
   ]
  }
 ],
 "metadata": {
  "kernelspec": {
   "display_name": "t3-gpu",
   "language": "python",
   "name": "python3"
  },
  "language_info": {
   "codemirror_mode": {
    "name": "ipython",
    "version": 3
   },
   "file_extension": ".py",
   "mimetype": "text/x-python",
   "name": "python",
   "nbconvert_exporter": "python",
   "pygments_lexer": "ipython3",
   "version": "3.10.15"
  }
 },
 "nbformat": 4,
 "nbformat_minor": 4
}

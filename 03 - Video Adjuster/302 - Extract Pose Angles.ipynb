{
 "cells": [
  {
   "cell_type": "code",
   "execution_count": 1,
   "id": "be4f7d03",
   "metadata": {},
   "outputs": [],
   "source": [
    "import cv2\n",
    "import os\n",
    "import sys\n",
    "import numpy as np\n",
    "import pandas as pd\n",
    "\n",
    "# Import library with current code functions\n",
    "sys.path.append(os.path.join(\"..\", \"lib\"))\n",
    "import general_functions as gf, video_adjuster_functions as vid_adj_fun, files_paths as fp"
   ]
  },
  {
   "cell_type": "code",
   "execution_count": 2,
   "id": "08bee543",
   "metadata": {},
   "outputs": [],
   "source": [
    "MAIN_LIST_INFO =  gf.find_files_in_all_subdirectories([fp.DATASET_YT, fp.DATASET_LOCAL], fp.VD_INFO)\n",
    "\n",
    "FILE_TO_INSERT_ANGLES = fp.VD_FEATURES_L2"
   ]
  },
  {
   "cell_type": "markdown",
   "id": "da9270d9",
   "metadata": {},
   "source": [
    "## Extracting the X Y and Z angles for each pose of each frames and inserting at the last columns of the CSV"
   ]
  },
  {
   "cell_type": "code",
   "execution_count": 3,
   "id": "ff575b1b",
   "metadata": {},
   "outputs": [
    {
     "name": "stdout",
     "output_type": "stream",
     "text": [
      "1 of 70: ..\\Dataset\\DD-Local\\VD_D_0000000043\\VD_FEATURES_L2.CSV\n",
      "2 of 70: ..\\Dataset\\DD-Local\\VD_D_0000000044\\VD_FEATURES_L2.CSV\n"
     ]
    },
    {
     "ename": "KeyboardInterrupt",
     "evalue": "",
     "output_type": "error",
     "traceback": [
      "\u001b[1;31m---------------------------------------------------------------------------\u001b[0m",
      "\u001b[1;31mKeyboardInterrupt\u001b[0m                         Traceback (most recent call last)",
      "Cell \u001b[1;32mIn[3], line 33\u001b[0m\n\u001b[0;32m     31\u001b[0m image_width \u001b[38;5;241m=\u001b[39m (new_shape[\u001b[38;5;241m16\u001b[39m] \u001b[38;5;241m-\u001b[39m new_shape[\u001b[38;5;241m0\u001b[39m])[\u001b[38;5;241m0\u001b[39m]\n\u001b[0;32m     32\u001b[0m image_height \u001b[38;5;241m=\u001b[39m (new_shape[\u001b[38;5;241m8\u001b[39m] \u001b[38;5;241m-\u001b[39m new_shape[\u001b[38;5;241m27\u001b[39m])[\u001b[38;5;241m1\u001b[39m]\n\u001b[1;32m---> 33\u001b[0m angles, rvec, tvec \u001b[38;5;241m=\u001b[39m \u001b[43mvid_adj_fun\u001b[49m\u001b[38;5;241;43m.\u001b[39;49m\u001b[43mget_angles\u001b[49m\u001b[43m(\u001b[49m\u001b[43mimage_height\u001b[49m\u001b[43m,\u001b[49m\u001b[43m \u001b[49m\u001b[43mimage_width\u001b[49m\u001b[43m,\u001b[49m\u001b[43m \u001b[49m\u001b[43mrefImgPts\u001b[49m\u001b[43m,\u001b[49m\u001b[43m \u001b[49m\u001b[43mrotationVector\u001b[49m\u001b[43m \u001b[49m\u001b[38;5;241;43m=\u001b[39;49m\u001b[43m \u001b[49m\u001b[43mrvec\u001b[49m\u001b[43m,\u001b[49m\u001b[43m \u001b[49m\u001b[43mtranslationVector\u001b[49m\u001b[43m \u001b[49m\u001b[38;5;241;43m=\u001b[39;49m\u001b[43m \u001b[49m\u001b[43mtvec\u001b[49m\u001b[43m)\u001b[49m\n\u001b[0;32m     34\u001b[0m video_extractor_pose[\u001b[38;5;124m'\u001b[39m\u001b[38;5;124mrot_x\u001b[39m\u001b[38;5;124m'\u001b[39m] \u001b[38;5;241m=\u001b[39m [\u001b[38;5;28mround\u001b[39m(\u001b[38;5;241m-\u001b[39mangles[\u001b[38;5;241m0\u001b[39m],\u001b[38;5;241m2\u001b[39m)]\n\u001b[0;32m     35\u001b[0m video_extractor_pose[\u001b[38;5;124m'\u001b[39m\u001b[38;5;124mrot_y\u001b[39m\u001b[38;5;124m'\u001b[39m] \u001b[38;5;241m=\u001b[39m [\u001b[38;5;28mround\u001b[39m(angles[\u001b[38;5;241m1\u001b[39m],\u001b[38;5;241m2\u001b[39m)]\n",
      "File \u001b[1;32mc:\\Users\\Orlando Mota Pires\\Documents\\RepGit\\repositorio_biosinais_test\\03 - Video Adjuster\\..\\lib\\video_adjuster_functions.py:220\u001b[0m, in \u001b[0;36mget_angles\u001b[1;34m(image_height, image_width, refImgPts, rotationVector, translationVector, PnP_METHOD)\u001b[0m\n\u001b[0;32m    217\u001b[0m     success, rotationVector, translationVector \u001b[38;5;241m=\u001b[39m cv2\u001b[38;5;241m.\u001b[39msolvePnP(face3Dmodel, \n\u001b[0;32m    218\u001b[0m                 refImgPts, cameraMatrix, mdists, PnP_METHOD)\n\u001b[0;32m    219\u001b[0m \u001b[38;5;28;01melse\u001b[39;00m:\n\u001b[1;32m--> 220\u001b[0m     success, rotationVector, translationVector \u001b[38;5;241m=\u001b[39m \u001b[43mcv2\u001b[49m\u001b[38;5;241;43m.\u001b[39;49m\u001b[43msolvePnP\u001b[49m\u001b[43m(\u001b[49m\u001b[43mface3Dmodel\u001b[49m\u001b[43m,\u001b[49m\u001b[43m \u001b[49m\n\u001b[0;32m    221\u001b[0m \u001b[43m                \u001b[49m\u001b[43mrefImgPts\u001b[49m\u001b[43m,\u001b[49m\u001b[43m \u001b[49m\u001b[43mcameraMatrix\u001b[49m\u001b[43m,\u001b[49m\u001b[43m \u001b[49m\u001b[43mmdists\u001b[49m\u001b[43m,\u001b[49m\u001b[43m \u001b[49m\u001b[43mrvec\u001b[49m\u001b[38;5;241;43m=\u001b[39;49m\u001b[43mrotationVector\u001b[49m\u001b[43m,\u001b[49m\u001b[43m \u001b[49m\u001b[43mtvec\u001b[49m\u001b[43m \u001b[49m\u001b[38;5;241;43m=\u001b[39;49m\u001b[43m \u001b[49m\u001b[43mtranslationVector\u001b[49m\u001b[43m,\u001b[49m\u001b[43m  \u001b[49m\u001b[43museExtrinsicGuess\u001b[49m\u001b[43m \u001b[49m\u001b[38;5;241;43m=\u001b[39;49m\u001b[43m \u001b[49m\u001b[38;5;28;43;01mTrue\u001b[39;49;00m\u001b[43m,\u001b[49m\u001b[43m \u001b[49m\u001b[43mflags\u001b[49m\u001b[38;5;241;43m=\u001b[39;49m\u001b[43mPnP_METHOD\u001b[49m\u001b[43m)\u001b[49m\n\u001b[0;32m    223\u001b[0m \u001b[38;5;66;03m# Calculating euler angles\u001b[39;00m\n\u001b[0;32m    224\u001b[0m rmat, jac \u001b[38;5;241m=\u001b[39m cv2\u001b[38;5;241m.\u001b[39mRodrigues(rotationVector)\n",
      "\u001b[1;31mKeyboardInterrupt\u001b[0m: "
     ]
    }
   ],
   "source": [
    "for i, current_path_location in enumerate(MAIN_LIST_INFO):\n",
    "\n",
    "    path_dir = os.path.dirname(current_path_location)\n",
    "    vd_feature_path = os.path.join(path_dir, FILE_TO_INSERT_ANGLES)\n",
    "    video_feature_rest = pd.read_csv(vd_feature_path)\n",
    "\n",
    "    print (str(i+1) + \" of \" + str(len(MAIN_LIST_INFO)) + \": \" + vd_feature_path)\n",
    "\n",
    "    # Remove the Unnamed columns\n",
    "    if 'Unnamed: 0' in video_feature_rest.columns:\n",
    "        video_feature_rest.drop(columns=['Unnamed: 0'], inplace=True)\n",
    "\n",
    "    # Remove Rows with Nan Values\n",
    "    video_feature_rest_drop_na = video_feature_rest.fillna(0)      \n",
    "    \n",
    "    POSE_FEATURE = pd.DataFrame()\n",
    "    tvec = np.array([[0.0], [0.0], [0.0]])\n",
    "    rvec = np.array([[0.0], [0.0], [0.0]])\n",
    "    \n",
    "    for row, row_data in video_feature_rest_drop_na.iterrows():\n",
    "        if row_data.iloc[6]==0: \n",
    "            shape = {'rot_x': np.nan, 'rot_y': np.nan, 'rot_z': np.nan}\n",
    "            video_extractor_pose = pd.DataFrame([shape])\n",
    "            \n",
    "        else:\n",
    "            shape = vid_adj_fun.tuple_to_np(row_data[6:74])\n",
    "            video_extractor_pose = pd.DataFrame()\n",
    "            new_shape = vid_adj_fun.shape_normalizer(shape)\n",
    "            \n",
    "            refImgPts = vid_adj_fun.ref2dImagePoints(new_shape)\n",
    "            image_width = (new_shape[16] - new_shape[0])[0]\n",
    "            image_height = (new_shape[8] - new_shape[27])[1]\n",
    "            angles, rvec, tvec = vid_adj_fun.get_angles(image_height, image_width, refImgPts, rotationVector = rvec, translationVector = tvec)\n",
    "            video_extractor_pose['rot_x'] = [round(-angles[0],2)]\n",
    "            video_extractor_pose['rot_y'] = [round(angles[1],2)]\n",
    "            video_extractor_pose['rot_z'] = [round(-angles[2],2)]\n",
    "            \n",
    "        POSE_FEATURE = pd.concat([POSE_FEATURE, video_extractor_pose]).reset_index(drop=True)\n",
    "    POSE_FEATURE = pd.concat([video_feature_rest, POSE_FEATURE], axis=1)\n",
    "\n",
    "    base_path_folder_output = os.path.join(path_dir, FILE_TO_INSERT_ANGLES)\n",
    "    POSE_FEATURE.to_csv(base_path_folder_output, na_rep='NaN')"
   ]
  }
 ],
 "metadata": {
  "kernelspec": {
   "display_name": "t3-gpu",
   "language": "python",
   "name": "python3"
  },
  "language_info": {
   "codemirror_mode": {
    "name": "ipython",
    "version": 3
   },
   "file_extension": ".py",
   "mimetype": "text/x-python",
   "name": "python",
   "nbconvert_exporter": "python",
   "pygments_lexer": "ipython3",
   "version": "3.10.15"
  }
 },
 "nbformat": 4,
 "nbformat_minor": 5
}

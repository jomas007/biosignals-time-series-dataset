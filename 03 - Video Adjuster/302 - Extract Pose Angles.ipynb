{
 "cells": [
  {
   "cell_type": "code",
   "execution_count": 24,
   "id": "be4f7d03",
   "metadata": {},
   "outputs": [],
   "source": [
    "import cv2\n",
    "import os\n",
    "import sys\n",
    "import numpy as np\n",
    "import pandas as pd\n",
    "\n",
    "# Import library with current code functions\n",
    "sys.path.append(os.path.join(\"..\", \"lib\"))\n",
    "import general_functions as gf, video_adjuster_functions as vid_adj_fun, files_paths as fp"
   ]
  },
  {
   "cell_type": "code",
   "execution_count": 30,
   "id": "08bee543",
   "metadata": {},
   "outputs": [],
   "source": [
    "MAIN_LIST_INFO =  gf.find_files_in_all_subdirectories([fp.DATASET_YT, fp.DATASET_LOCAL], fp.VD_INFO)\n",
    "\n",
    "FILE_TO_INSERT_ANGLES = fp.VD_FEATURES_L3"
   ]
  },
  {
   "cell_type": "markdown",
   "id": "da9270d9",
   "metadata": {},
   "source": [
    "## Extracting the X Y and Z angles for each pose of each frames and inserting at the last columns of the CSV"
   ]
  },
  {
   "cell_type": "code",
   "execution_count": null,
   "id": "ff575b1b",
   "metadata": {},
   "outputs": [],
   "source": [
    "for i, current_path_location in enumerate(MAIN_LIST_INFO):\n",
    "\n",
    "    path_dir = os.path.dirname(current_path_location)\n",
    "    vd_feature_path = os.path.join(path_dir, fp.FILE_TO_INSERT_ANGLES)\n",
    "    video_feature_rest = pd.read_csv(vd_feature_path)\n",
    "\n",
    "    print (str(i+1) + \" of \" + str(len(MAIN_LIST_INFO)) + \": \" + vd_feature_path)\n",
    "\n",
    "    # Remove the Unnamed columns\n",
    "    if 'Unnamed: 0' in video_feature_rest.columns:\n",
    "        video_feature_rest.drop(columns=['Unnamed: 0'], inplace=True)\n",
    "\n",
    "    # Remove Rows with Nan Values\n",
    "    video_feature_rest_drop_na = video_feature_rest.fillna(0)      \n",
    "    \n",
    "    POSE_FEATURE = pd.DataFrame()\n",
    "    tvec = np.array([[0.0], [0.0], [0.0]])\n",
    "    rvec = np.array([[0.0], [0.0], [0.0]])\n",
    "    \n",
    "    for row, row_data in video_feature_rest_drop_na.iterrows():\n",
    "        if row_data.iloc[6]==0: \n",
    "            shape = {'rot_x': np.nan, 'rot_y': np.nan, 'rot_z': np.nan}\n",
    "            video_extractor_pose = pd.DataFrame([shape])\n",
    "            \n",
    "        else:\n",
    "            shape = vid_adj_fun.tuple_to_np(row_data[6:74])\n",
    "            video_extractor_pose = pd.DataFrame()\n",
    "            new_shape = vid_adj_fun.shape_normalizer(shape)\n",
    "            \n",
    "            refImgPts = vid_adj_fun.ref2dImagePoints(new_shape)\n",
    "            image_width = (new_shape[16] - new_shape[0])[0]\n",
    "            image_height = (new_shape[8] - new_shape[27])[1]\n",
    "            angles, rvec, tvec = vid_adj_fun.get_angles(image_height, image_width, refImgPts, rotationVector = rvec, translationVector = tvec)\n",
    "            video_extractor_pose['rot_x'] = [round(-angles[0],2)]\n",
    "            video_extractor_pose['rot_y'] = [round(angles[1],2)]\n",
    "            video_extractor_pose['rot_z'] = [round(-angles[2],2)]\n",
    "            \n",
    "        POSE_FEATURE = pd.concat([POSE_FEATURE, video_extractor_pose]).reset_index(drop=True)\n",
    "    POSE_FEATURE = pd.concat([video_feature_rest, POSE_FEATURE], axis=1)\n",
    "\n",
    "    base_path_folder_output = os.path.join(path_dir, fp.FILE_TO_INSERT_ANGLES)\n",
    "    POSE_FEATURE.to_csv(base_path_folder_output, na_rep='NaN')"
   ]
  }
 ],
 "metadata": {
  "kernelspec": {
   "display_name": "t-gpu",
   "language": "python",
   "name": "python3"
  },
  "language_info": {
   "codemirror_mode": {
    "name": "ipython",
    "version": 3
   },
   "file_extension": ".py",
   "mimetype": "text/x-python",
   "name": "python",
   "nbconvert_exporter": "python",
   "pygments_lexer": "ipython3",
   "version": "3.10.14"
  }
 },
 "nbformat": 4,
 "nbformat_minor": 5
}

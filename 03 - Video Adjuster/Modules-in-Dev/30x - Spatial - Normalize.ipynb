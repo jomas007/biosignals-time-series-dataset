{
 "cells": [
  {
   "cell_type": "markdown",
   "id": "452c3455",
   "metadata": {},
   "source": [
    "# This notebook normalizes landmarks in VD_FEATURES_L2 using the mean measurement from points 0 to 16 as a reference."
   ]
  },
  {
   "cell_type": "markdown",
   "id": "be15aa09",
   "metadata": {},
   "source": [
    "# Import dependencies"
   ]
  },
  {
   "cell_type": "code",
   "execution_count": 1,
   "metadata": {},
   "outputs": [],
   "source": [
    "import pandas as pd, numpy as np, os, sys, glob\n",
    "\n",
    "# Import library with current code functions\n",
    "sys.path.append(os.path.join(\"..\", \"..\", \"lib\"))\n",
    "import video_adjuster_functions as vid_adj_fun"
   ]
  },
  {
   "cell_type": "markdown",
   "id": "182be53a",
   "metadata": {},
   "source": [
    "# Functions"
   ]
  },
  {
   "cell_type": "code",
   "execution_count": 2,
   "metadata": {},
   "outputs": [],
   "source": [
    "baseDir = os.path.join('..', 'Dataset')\n",
    "\n",
    "# Define the name of output csv file\n",
    "output_measure_name = 'VD_FEATURES_L2_NORMALIZED.CSV'\n",
    "\n",
    "# Search path of VD_INFO files\n",
    "MAIN_LIST_INFO = []\n",
    "\n",
    "# File_name to find\n",
    "file_name_fd = 'VD_INFO'\n",
    "\n",
    "FOLDER_PATH = os.path.join(baseDir, '**', file_name_fd)\n",
    "MAIN_LIST_INFO = sorted(glob.iglob(FOLDER_PATH, recursive=True ))\n",
    "\n",
    "# VD_FEATURE_L2 Path\n",
    "VD_FEATURES_FILE_PATH = 'VD_FEATURES_L2.CSV'"
   ]
  },
  {
   "cell_type": "code",
   "execution_count": 3,
   "metadata": {},
   "outputs": [],
   "source": [
    "ptr = 1\n",
    "for current_path_location in MAIN_LIST_INFO:\n",
    "    \n",
    "    # Read VD_FEATURE\n",
    "    path_dir = os.path.dirname(current_path_location)\n",
    "    vd_feature_path = os.path.join(path_dir, VD_FEATURES_FILE_PATH)\n",
    "    video_feature_rest = pd.read_csv(vd_feature_path)\n",
    "    \n",
    "    # Remove the Unnamed columns\n",
    "    video_feature_rest.drop(columns=['Unnamed: 0'], inplace=True)\n",
    "\n",
    "    video_feature_rest_drop_na = video_feature_rest.dropna()\n",
    "\n",
    "    # Get values of frame_seq and video_id\n",
    "    face_horz = vid_adj_fun.measure_two_points_from_csv_ext (video_feature_rest_drop_na, 1-1, 17-1, 'face_horz')\n",
    "\n",
    "    # Normalize taking as reference the mean of measure from points 0 to 16\n",
    "    dist_base = face_horz.mean().iloc[0]\n",
    "    \n",
    "    VIDEO_FEATURE_NORMALIZED = pd.DataFrame()\n",
    "    \n",
    "    for row, row_data in video_feature_rest_drop_na.iterrows():\n",
    "        shape = vid_adj_fun.tuple_to_np(row_data[6:74])\n",
    "        \n",
    "        # Calculate the proportion\n",
    "        dist_r = np.linalg.norm(shape[1-1] - shape[17-1])\n",
    "        \n",
    "        # Proportion\n",
    "        if dist_r != 0:\n",
    "            propotion = dist_base / dist_r\n",
    "        else:\n",
    "            propotion = 0\n",
    "        \n",
    "        # Scale\n",
    "        new_shape = vid_adj_fun.transform_scale_updown(shape, propotion)\n",
    "        \n",
    "        # Mount the 68 Points in DataFrame\n",
    "        count_id = 0\n",
    "        for point in new_shape:\n",
    "            row_data[str(count_id)] = str(tuple(point))\n",
    "            count_id += 1\n",
    "        new_row_df = pd.DataFrameMAIN_LIST_INFO\n",
    "    \n",
    "    # Output path\n",
    "    base_path_folder_output = os.path.join(path_dir, output_measure_name)\n",
    "    \n",
    "    # Count Process\n",
    "    print (str(ptr) + \" of \" + str(len(MAIN_LIST_INFO)) + \": \" + base_path_folder_output)\n",
    "\n",
    "    # Generate the OUTPUT CSV in the current folder\n",
    "    VIDEO_FEATURE_NORMALIZED.to_csv(base_path_folder_output, na_rep='NaN')\n",
    "    "
   ]
  }
 ],
 "metadata": {
  "kernelspec": {
   "display_name": "Python 3",
   "language": "python",
   "name": "python3"
  },
  "language_info": {
   "codemirror_mode": {
    "name": "ipython",
    "version": 3
   },
   "file_extension": ".py",
   "mimetype": "text/x-python",
   "name": "python",
   "nbconvert_exporter": "python",
   "pygments_lexer": "ipython3",
   "version": "3.10.12"
  }
 },
 "nbformat": 4,
 "nbformat_minor": 5
}

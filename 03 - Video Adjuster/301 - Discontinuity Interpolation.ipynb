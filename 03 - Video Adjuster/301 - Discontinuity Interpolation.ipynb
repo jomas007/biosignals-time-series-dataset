{
 "cells": [
  {
   "cell_type": "code",
   "execution_count": 10,
   "metadata": {},
   "outputs": [],
   "source": [
    "import os\n",
    "import sys\n",
    "\n",
    "# Import library with current code functions\n",
    "sys.path.append(os.path.join(\"..\", \"lib\"))\n",
    "import video_adjuster_functions as vid_adj_fun, general_functions as gf, files_paths as fp"
   ]
  },
  {
   "cell_type": "markdown",
   "metadata": {},
   "source": [
    "## Defining variables"
   ]
  },
  {
   "cell_type": "code",
   "execution_count": 11,
   "metadata": {},
   "outputs": [],
   "source": [
    "# Scan the folder and save the list of csv\n",
    "FILE_LIST_TO_INTERPOLATE = gf.find_files_in_all_subdirectories([fp.DATASET_YT, fp.DATASET_LOCAL], fp.VD_FEATURES_L1)\n",
    "\n",
    "# Filter witch videos has the 'VD_FEATURES_L2.CSV' file and delete then from the list\n",
    "FILE_LIST_TO_INTERPOLATE_FILTERED = [feature_file for feature_file in FILE_LIST_TO_INTERPOLATE if not os.path.exists(os.path.join(os.path.dirname(feature_file), fp.VD_FEATURES_L2))]"
   ]
  },
  {
   "cell_type": "code",
   "execution_count": 12,
   "metadata": {},
   "outputs": [],
   "source": [
    "# Max number of frames to interpolate\n",
    "N_FRAMES = 5\n",
    "\n",
    "for i, current_path_location in enumerate(FILE_LIST_TO_INTERPOLATE_FILTERED):\n",
    "    print (str(i+1) + \" of \" + str(len(FILE_LIST_TO_INTERPOLATE_FILTERED)) + \" : \" + \"Starting to process the \" + current_path_location)\n",
    "    vid_adj_fun.interpolate_frames(current_path_location, fp.VD_FEATURES_L1, N_FRAMES)"
   ]
  }
 ],
 "metadata": {
  "kernelspec": {
   "display_name": "t-gpu",
   "language": "python",
   "name": "python3"
  },
  "language_info": {
   "codemirror_mode": {
    "name": "ipython",
    "version": 3
   },
   "file_extension": ".py",
   "mimetype": "text/x-python",
   "name": "python",
   "nbconvert_exporter": "python",
   "pygments_lexer": "ipython3",
   "version": "3.10.14"
  }
 },
 "nbformat": 4,
 "nbformat_minor": 2
}

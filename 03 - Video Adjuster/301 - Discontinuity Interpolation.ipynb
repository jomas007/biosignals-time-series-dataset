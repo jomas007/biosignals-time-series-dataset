{
 "cells": [
  {
   "cell_type": "code",
   "execution_count": 1,
   "metadata": {},
   "outputs": [],
   "source": [
    "import os\n",
    "import sys\n",
    "\n",
    "# Import library with current code functions\n",
    "sys.path.append(os.path.join(\"..\", \"lib\"))\n",
    "import video_adjuster_functions as vid_adj_fun, general_functions as gf, files_paths as fp"
   ]
  },
  {
   "cell_type": "markdown",
   "metadata": {},
   "source": [
    "### Define the variables"
   ]
  },
  {
   "cell_type": "code",
   "execution_count": 2,
   "metadata": {},
   "outputs": [],
   "source": [
    "# Scan the folder and save the list of csv\n",
    "FILE_LIST_TO_INTERPOLATE = gf.find_files_in_all_subdirectories([fp.DATASET_YT, fp.DATASET_LOCAL], fp.VD_FEATURES_L1)\n",
    "\n",
    "# Filter witch videos has the 'VD_FEATURES_L2.CSV' file and delete then from the list\n",
    "FILE_LIST_TO_INTERPOLATE_FILTERED = [feature_file for feature_file in FILE_LIST_TO_INTERPOLATE if not os.path.exists(os.path.join(os.path.dirname(feature_file), fp.VD_FEATURES_L2))]"
   ]
  },
  {
   "cell_type": "markdown",
   "metadata": {},
   "source": [
    "### Interpolate the discontinuities"
   ]
  },
  {
   "cell_type": "code",
   "execution_count": 3,
   "metadata": {},
   "outputs": [
    {
     "name": "stdout",
     "output_type": "stream",
     "text": [
      "1 of 19 : Starting to process the ..\\Dataset\\DD-Local\\VD_D_0000000052\\VD_FEATURES_L1.CSV\n",
      "2 of 19 : Starting to process the ..\\Dataset\\DD-Local\\VD_D_0000000053\\VD_FEATURES_L1.CSV\n",
      "3 of 19 : Starting to process the ..\\Dataset\\DD-Local\\VD_D_0000000054\\VD_FEATURES_L1.CSV\n",
      "4 of 19 : Starting to process the ..\\Dataset\\DD-Local\\VD_D_0000000055\\VD_FEATURES_L1.CSV\n",
      "5 of 19 : Starting to process the ..\\Dataset\\DD-Local\\VD_D_0000000056\\VD_FEATURES_L1.CSV\n",
      "6 of 19 : Starting to process the ..\\Dataset\\DD-Local\\VD_D_0000000057\\VD_FEATURES_L1.CSV\n",
      "7 of 19 : Starting to process the ..\\Dataset\\DD-Local\\VD_D_0000000058\\VD_FEATURES_L1.CSV\n",
      "8 of 19 : Starting to process the ..\\Dataset\\DD-Local\\VD_D_0000000059\\VD_FEATURES_L1.CSV\n",
      "9 of 19 : Starting to process the ..\\Dataset\\DD-Local\\VD_D_0000000060\\VD_FEATURES_L1.CSV\n",
      "10 of 19 : Starting to process the ..\\Dataset\\DD-Local\\VD_D_0000000061\\VD_FEATURES_L1.CSV\n",
      "11 of 19 : Starting to process the ..\\Dataset\\DD-Local\\VD_D_0000000062\\VD_FEATURES_L1.CSV\n",
      "12 of 19 : Starting to process the ..\\Dataset\\DD-Local\\VD_D_0000000063\\VD_FEATURES_L1.CSV\n",
      "13 of 19 : Starting to process the ..\\Dataset\\DD-Local\\VD_D_0000000064\\VD_FEATURES_L1.CSV\n",
      "14 of 19 : Starting to process the ..\\Dataset\\DD-Local\\VD_D_0000000065\\VD_FEATURES_L1.CSV\n",
      "15 of 19 : Starting to process the ..\\Dataset\\DD-Local\\VD_D_0000000066\\VD_FEATURES_L1.CSV\n",
      "16 of 19 : Starting to process the ..\\Dataset\\DD-Local\\VD_D_0000000067\\VD_FEATURES_L1.CSV\n",
      "17 of 19 : Starting to process the ..\\Dataset\\DD-Local\\VD_D_0000000068\\VD_FEATURES_L1.CSV\n",
      "18 of 19 : Starting to process the ..\\Dataset\\DD-Local\\VD_D_0000000069\\VD_FEATURES_L1.CSV\n",
      "19 of 19 : Starting to process the ..\\Dataset\\DD-Local\\VD_D_0000000070\\VD_FEATURES_L1.CSV\n"
     ]
    }
   ],
   "source": [
    "# Max number of frames to interpolate\n",
    "N_FRAMES = 5\n",
    "\n",
    "for i, current_path_location in enumerate(FILE_LIST_TO_INTERPOLATE_FILTERED):\n",
    "    print (str(i+1) + \" of \" + str(len(FILE_LIST_TO_INTERPOLATE_FILTERED)) + \" : \" + \"Starting to process the \" + current_path_location)\n",
    "    vid_adj_fun.interpolate_frames(current_path_location, fp.VD_FEATURES_L1, N_FRAMES)"
   ]
  }
 ],
 "metadata": {
  "kernelspec": {
   "display_name": "t3-gpu",
   "language": "python",
   "name": "python3"
  },
  "language_info": {
   "codemirror_mode": {
    "name": "ipython",
    "version": 3
   },
   "file_extension": ".py",
   "mimetype": "text/x-python",
   "name": "python",
   "nbconvert_exporter": "python",
   "pygments_lexer": "ipython3",
   "version": "3.10.15"
  }
 },
 "nbformat": 4,
 "nbformat_minor": 2
}

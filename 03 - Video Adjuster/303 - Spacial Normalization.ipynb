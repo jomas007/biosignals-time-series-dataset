{
 "cells": [
  {
   "cell_type": "code",
   "execution_count": 1,
   "id": "df22bcc7",
   "metadata": {},
   "outputs": [],
   "source": [
    "import os\n",
    "import sys\n",
    "import pandas as pd\n",
    "import ast\n",
    "\n",
    "# Import library with current code functions\n",
    "sys.path.append(os.path.join(\"..\", \"lib\"))\n",
    "import video_adjuster_functions as vid_adj_fun, general_functions as gf, files_paths as fp"
   ]
  },
  {
   "cell_type": "markdown",
   "id": "e282e857-9796-4e49-99ab-f87d44092a4d",
   "metadata": {},
   "source": [
    "# Defining variables"
   ]
  },
  {
   "cell_type": "code",
   "execution_count": 2,
   "id": "cbd5295a",
   "metadata": {},
   "outputs": [],
   "source": [
    "# Scan the folder and save the list of csv\n",
    "FILE_LIST_TO_NORMALIZE = gf.find_files_in_all_subdirectories([fp.DATASET_YT, fp.DATASET_LOCAL], fp.VD_FEATURES_L2)\n",
    "\n",
    "# Filter witch videos has the 'VD_FEATURES_L2.CSV' file and delete then from the list\n",
    "FILE_LIST_TO_NORMALIZE_FILTERED = [feature_file for feature_file in FILE_LIST_TO_NORMALIZE if not os.path.exists(os.path.join(os.path.dirname(feature_file), fp.VD_FEATURES_L3))]"
   ]
  },
  {
   "cell_type": "markdown",
   "id": "0f67554a",
   "metadata": {},
   "source": [
    "## Normalize each frame of each video"
   ]
  },
  {
   "cell_type": "code",
   "execution_count": 3,
   "id": "5f8a8232",
   "metadata": {},
   "outputs": [],
   "source": [
    "features_start = '0'\n",
    "features_end = '67'\n",
    "normalization_parameter = [[0, 16], 400]"
   ]
  },
  {
   "cell_type": "code",
   "execution_count": null,
   "id": "bcbefcb0",
   "metadata": {},
   "outputs": [],
   "source": [
    "landmark_smoother = vid_adj_fun.LandmarkSmoother()\n",
    "\n",
    "for i, current_path_location in enumerate(FILE_LIST_TO_NORMALIZE):\n",
    "\n",
    "    print(f\"{i+1} of {len(FILE_LIST_TO_NORMALIZE)}: Starting to process {current_path_location}\")\n",
    "\n",
    "    landmarks_CSV = pd.read_csv(current_path_location)\n",
    "    landmarks_0_to_66 = landmarks_CSV.loc[:, features_start:features_end]\n",
    "    \n",
    "    normalized_landmarks = []\n",
    "    for _, row in landmarks_0_to_66.iterrows():\n",
    "        landmarks_list = [list(ast.literal_eval(coord)) for coord in row]\n",
    "        \n",
    "        # Apply normalizations\n",
    "        scale_factor, z_normalized = vid_adj_fun.z_normalization(landmarks_list, normalization_parameter[0], normalization_parameter[1])\n",
    "        roll_normalized = vid_adj_fun.roll_normalization(z_normalized)\n",
    "        normalized_landmarks.append(z_normalized)\n",
    "    \n",
    "    # Convert each landmark position into a tuple\n",
    "    normalized_landmarks_to_tuple = [[tuple(inner) for inner in outer] for outer in normalized_landmarks]\n",
    "    df_normalized_landmarks = pd.DataFrame(normalized_landmarks_to_tuple)\n",
    "    \n",
    "    # Concatenate left_columns with df_normalized_landmarks along the columns\n",
    "    left_columns = landmarks_CSV.loc[:, 'video_id':'instance_ref']\n",
    "    df_result = pd.concat([left_columns, df_normalized_landmarks], axis=1)\n",
    "\n",
    "    algle_columns = landmarks_CSV.loc[:, 'rot_x':'rot_z']\n",
    "    df_result = pd.concat([df_normalized_landmarks, algle_columns], axis=1)\n",
    "    \n",
    "    output_path = os.path.join(os.path.dirname(current_path_location), fp.VD_FEATURES_L3)\n",
    "\n",
    "    df_result.to_csv(output_path, index=False)"
   ]
  }
 ],
 "metadata": {
  "kernelspec": {
   "display_name": "emotion",
   "language": "python",
   "name": "python3"
  },
  "language_info": {
   "codemirror_mode": {
    "name": "ipython",
    "version": 3
   },
   "file_extension": ".py",
   "mimetype": "text/x-python",
   "name": "python",
   "nbconvert_exporter": "python",
   "pygments_lexer": "ipython3",
   "version": "3.8.19"
  }
 },
 "nbformat": 4,
 "nbformat_minor": 5
}

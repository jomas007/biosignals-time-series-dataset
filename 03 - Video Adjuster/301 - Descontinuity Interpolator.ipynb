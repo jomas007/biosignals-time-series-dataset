{
 "cells": [
  {
   "cell_type": "code",
   "execution_count": 1,
   "id": "df22bcc7",
   "metadata": {},
   "outputs": [],
   "source": [
    "import os, sys, glob\n",
    "\n",
    "# Import library with current code functions\n",
    "sys.path.append(os.path.join(\"..\", \"lib\"))\n",
    "import video_adjuster_functions as vid_adj_fun\n"
   ]
  },
  {
   "cell_type": "markdown",
   "id": "e282e857-9796-4e49-99ab-f87d44092a4d",
   "metadata": {},
   "source": [
    "# Defining variables"
   ]
  },
  {
   "cell_type": "code",
   "execution_count": 2,
   "id": "cbd5295a",
   "metadata": {},
   "outputs": [],
   "source": [
    "BASE_DIR_SOURCE_FOLDER_LOCAL = os.path.join('..', 'Dataset', 'DD-Local')\n",
    "\n",
    "VD_FEATURES_FILE_NAME = 'VD_FEATURES_L1.CSV'\n",
    "\n",
    "# Scan the folder and save the list of csv\n",
    "FOLDER_PATH = os.path.join(BASE_DIR_SOURCE_FOLDER_LOCAL, '**', VD_FEATURES_FILE_NAME)\n",
    "MAIN_LIST_FEATURE_local = sorted(glob.iglob(FOLDER_PATH, recursive=True ))\n",
    "\n",
    "BASE_DIR_SOURCE_FOLDER_YT = os.path.join('..', 'Dataset', 'YT-Online')\n",
    "\n",
    "# Scan the folder and save the list of csv\n",
    "FOLDER_PATH = os.path.join(BASE_DIR_SOURCE_FOLDER_YT, '**', VD_FEATURES_FILE_NAME)\n",
    "MAIN_LIST_FEATURE_YT = sorted(glob.iglob(FOLDER_PATH, recursive=True ))\n",
    "\n",
    "# Join the two CSV lists\n",
    "MAIN_LIST_FEATURE = MAIN_LIST_FEATURE_local + MAIN_LIST_FEATURE_YT"
   ]
  },
  {
   "cell_type": "code",
   "execution_count": 3,
   "id": "bf7869f1",
   "metadata": {},
   "outputs": [
    {
     "name": "stdout",
     "output_type": "stream",
     "text": [
      "1 of 44 : Starting to process the ../Dataset/DD-Local/VD_D_0000000001/VD_FEATURES_L1.CSV\n",
      "2 of 44 : Starting to process the ../Dataset/DD-Local/VD_D_0000000002/VD_FEATURES_L1.CSV\n",
      "3 of 44 : Starting to process the ../Dataset/YT-Online/VD_Y_0000000001/VD_FEATURES_L1.CSV\n",
      "4 of 44 : Starting to process the ../Dataset/YT-Online/VD_Y_0000000002/VD_FEATURES_L1.CSV\n",
      "5 of 44 : Starting to process the ../Dataset/YT-Online/VD_Y_0000000003/VD_FEATURES_L1.CSV\n",
      "6 of 44 : Starting to process the ../Dataset/YT-Online/VD_Y_0000000004/VD_FEATURES_L1.CSV\n",
      "7 of 44 : Starting to process the ../Dataset/YT-Online/VD_Y_0000000005/VD_FEATURES_L1.CSV\n",
      "8 of 44 : Starting to process the ../Dataset/YT-Online/VD_Y_0000000006/VD_FEATURES_L1.CSV\n",
      "9 of 44 : Starting to process the ../Dataset/YT-Online/VD_Y_0000000007/VD_FEATURES_L1.CSV\n",
      "10 of 44 : Starting to process the ../Dataset/YT-Online/VD_Y_0000000008/VD_FEATURES_L1.CSV\n",
      "11 of 44 : Starting to process the ../Dataset/YT-Online/VD_Y_0000000009/VD_FEATURES_L1.CSV\n",
      "12 of 44 : Starting to process the ../Dataset/YT-Online/VD_Y_0000000010/VD_FEATURES_L1.CSV\n",
      "13 of 44 : Starting to process the ../Dataset/YT-Online/VD_Y_0000000011/VD_FEATURES_L1.CSV\n",
      "14 of 44 : Starting to process the ../Dataset/YT-Online/VD_Y_0000000012/VD_FEATURES_L1.CSV\n",
      "15 of 44 : Starting to process the ../Dataset/YT-Online/VD_Y_0000000013/VD_FEATURES_L1.CSV\n",
      "16 of 44 : Starting to process the ../Dataset/YT-Online/VD_Y_0000000014/VD_FEATURES_L1.CSV\n",
      "17 of 44 : Starting to process the ../Dataset/YT-Online/VD_Y_0000000015/VD_FEATURES_L1.CSV\n",
      "18 of 44 : Starting to process the ../Dataset/YT-Online/VD_Y_0000000016/VD_FEATURES_L1.CSV\n",
      "19 of 44 : Starting to process the ../Dataset/YT-Online/VD_Y_0000000017/VD_FEATURES_L1.CSV\n",
      "20 of 44 : Starting to process the ../Dataset/YT-Online/VD_Y_0000000018/VD_FEATURES_L1.CSV\n",
      "21 of 44 : Starting to process the ../Dataset/YT-Online/VD_Y_0000000019/VD_FEATURES_L1.CSV\n",
      "22 of 44 : Starting to process the ../Dataset/YT-Online/VD_Y_0000000020/VD_FEATURES_L1.CSV\n",
      "23 of 44 : Starting to process the ../Dataset/YT-Online/VD_Y_0000000021/VD_FEATURES_L1.CSV\n",
      "24 of 44 : Starting to process the ../Dataset/YT-Online/VD_Y_0000000022/VD_FEATURES_L1.CSV\n",
      "25 of 44 : Starting to process the ../Dataset/YT-Online/VD_Y_0000000023/VD_FEATURES_L1.CSV\n",
      "26 of 44 : Starting to process the ../Dataset/YT-Online/VD_Y_0000000024/VD_FEATURES_L1.CSV\n",
      "27 of 44 : Starting to process the ../Dataset/YT-Online/VD_Y_0000000025/VD_FEATURES_L1.CSV\n",
      "28 of 44 : Starting to process the ../Dataset/YT-Online/VD_Y_0000000026/VD_FEATURES_L1.CSV\n",
      "29 of 44 : Starting to process the ../Dataset/YT-Online/VD_Y_0000000027/VD_FEATURES_L1.CSV\n",
      "30 of 44 : Starting to process the ../Dataset/YT-Online/VD_Y_0000000028/VD_FEATURES_L1.CSV\n",
      "31 of 44 : Starting to process the ../Dataset/YT-Online/VD_Y_0000000029/VD_FEATURES_L1.CSV\n",
      "32 of 44 : Starting to process the ../Dataset/YT-Online/VD_Y_0000000030/VD_FEATURES_L1.CSV\n",
      "33 of 44 : Starting to process the ../Dataset/YT-Online/VD_Y_0000000031/VD_FEATURES_L1.CSV\n",
      "34 of 44 : Starting to process the ../Dataset/YT-Online/VD_Y_0000000032/VD_FEATURES_L1.CSV\n",
      "35 of 44 : Starting to process the ../Dataset/YT-Online/VD_Y_0000000033/VD_FEATURES_L1.CSV\n",
      "36 of 44 : Starting to process the ../Dataset/YT-Online/VD_Y_0000000034/VD_FEATURES_L1.CSV\n",
      "37 of 44 : Starting to process the ../Dataset/YT-Online/VD_Y_0000000035/VD_FEATURES_L1.CSV\n",
      "38 of 44 : Starting to process the ../Dataset/YT-Online/VD_Y_0000000036/VD_FEATURES_L1.CSV\n",
      "39 of 44 : Starting to process the ../Dataset/YT-Online/VD_Y_0000000037/VD_FEATURES_L1.CSV\n",
      "40 of 44 : Starting to process the ../Dataset/YT-Online/VD_Y_0000000038/VD_FEATURES_L1.CSV\n",
      "41 of 44 : Starting to process the ../Dataset/YT-Online/VD_Y_0000000039/VD_FEATURES_L1.CSV\n",
      "42 of 44 : Starting to process the ../Dataset/YT-Online/VD_Y_0000000040/VD_FEATURES_L1.CSV\n",
      "43 of 44 : Starting to process the ../Dataset/YT-Online/VD_Y_0000000041/VD_FEATURES_L1.CSV\n",
      "44 of 44 : Starting to process the ../Dataset/YT-Online/VD_Y_0000000042/VD_FEATURES_L1.CSV\n"
     ]
    }
   ],
   "source": [
    "# Number of frames to interpolate\n",
    "N_FRAMES = 5\n",
    "\n",
    "for i, current_path_location in enumerate(MAIN_LIST_FEATURE):\n",
    "    print (str(i+1) + \" of \" + str(len(MAIN_LIST_FEATURE)) + \" : \" + \"Starting to process the \" + current_path_location)\n",
    "    vid_adj_fun.interpolate_frames(current_path_location, VD_FEATURES_FILE_NAME, N_FRAMES, )"
   ]
  }
 ],
 "metadata": {
  "kernelspec": {
   "display_name": "Python 3 (ipykernel)",
   "language": "python",
   "name": "python3"
  },
  "language_info": {
   "codemirror_mode": {
    "name": "ipython",
    "version": 3
   },
   "file_extension": ".py",
   "mimetype": "text/x-python",
   "name": "python",
   "nbconvert_exporter": "python",
   "pygments_lexer": "ipython3",
   "version": "3.12.2"
  }
 },
 "nbformat": 4,
 "nbformat_minor": 5
}

{
 "cells": [
  {
   "cell_type": "code",
   "execution_count": 1,
   "id": "df22bcc7",
   "metadata": {},
   "outputs": [],
   "source": [
    "import os, sys, glob\n",
    "\n",
    "# Import library with current code functions\n",
    "sys.path.append(os.path.join(\"..\", \"lib\"))\n",
    "import video_adjuster_functions as vid_adj_fun\n"
   ]
  },
  {
   "cell_type": "markdown",
   "id": "e282e857-9796-4e49-99ab-f87d44092a4d",
   "metadata": {},
   "source": [
    "# Defining variables"
   ]
  },
  {
   "cell_type": "code",
   "execution_count": 2,
   "id": "cbd5295a",
   "metadata": {},
   "outputs": [],
   "source": [
    "BASE_DIR_SOURCE_FOLDER_LOCAL = os.path.join('..', 'Dataset', 'DD-Local')\n",
    "\n",
    "VD_FEATURES_FILE_NAME = 'VD_FEATURES_L1.CSV'\n",
    "\n",
    "# Scan the folder and save the list of csv\n",
    "FOLDER_PATH = os.path.join(BASE_DIR_SOURCE_FOLDER_LOCAL, '**', VD_FEATURES_FILE_NAME)\n",
    "MAIN_LIST_FEATURE_local = sorted(glob.iglob(FOLDER_PATH, recursive=True ))\n",
    "\n",
    "BASE_DIR_SOURCE_FOLDER_YT = os.path.join('..', 'Dataset', 'YT-Online')\n",
    "\n",
    "# Scan the folder and save the list of csv\n",
    "FOLDER_PATH = os.path.join(BASE_DIR_SOURCE_FOLDER_YT, '**', VD_FEATURES_FILE_NAME)\n",
    "MAIN_LIST_FEATURE_YT = sorted(glob.iglob(FOLDER_PATH, recursive=True ))\n",
    "\n",
    "# Join the two CSV lists\n",
    "MAIN_LIST_FEATURE = MAIN_LIST_FEATURE_local + MAIN_LIST_FEATURE_YT\n",
    "\n",
    "# Filter witch videos has the 'VD_FEATURES_L2.CSV' file and delete then from the list\n",
    "MAIN_LIST_FEATURE_FILTERED = [feature_file for feature_file in MAIN_LIST_FEATURE if not os.path.exists(os.path.join(os.path.dirname(feature_file), 'VD_FEATURES_L2.CSV'))]"
   ]
  },
  {
   "cell_type": "code",
   "execution_count": 3,
   "id": "bf7869f1",
   "metadata": {},
   "outputs": [
    {
     "name": "stdout",
     "output_type": "stream",
     "text": [
      "1 of 1 : Starting to process the ../Dataset/DD-Local/VD_D_0000000003/VD_FEATURES_L1.CSV\n"
     ]
    }
   ],
   "source": [
    "# Number of frames to interpolate\n",
    "N_FRAMES = 5\n",
    "\n",
    "for i, current_path_location in enumerate(MAIN_LIST_FEATURE_FILTERED):\n",
    "    print (str(i+1) + \" of \" + str(len(MAIN_LIST_FEATURE_FILTERED)) + \" : \" + \"Starting to process the \" + current_path_location)\n",
    "    vid_adj_fun.interpolate_frames(current_path_location, VD_FEATURES_FILE_NAME, N_FRAMES, )"
   ]
  }
 ],
 "metadata": {
  "kernelspec": {
   "display_name": "Python 3 (ipykernel)",
   "language": "python",
   "name": "python3"
  },
  "language_info": {
   "codemirror_mode": {
    "name": "ipython",
    "version": 3
   },
   "file_extension": ".py",
   "mimetype": "text/x-python",
   "name": "python",
   "nbconvert_exporter": "python",
   "pygments_lexer": "ipython3",
   "version": "3.12.2"
  }
 },
 "nbformat": 4,
 "nbformat_minor": 5
}

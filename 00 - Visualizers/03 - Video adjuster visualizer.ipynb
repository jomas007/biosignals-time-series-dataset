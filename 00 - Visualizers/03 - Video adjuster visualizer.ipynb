{
 "cells": [
  {
   "cell_type": "markdown",
   "metadata": {},
   "source": [
    "# This notebook shows the interpolation process for each video"
   ]
  },
  {
   "cell_type": "code",
   "execution_count": 1,
   "metadata": {},
   "outputs": [],
   "source": [
    "import os, sys, pandas as pd, numpy as np\n",
    "\n",
    "# Import library with current code functions\n",
    "sys.path.append(os.path.join(\"..\", \"lib\"))\n",
    "import general_functions as gf, files_paths as fp"
   ]
  },
  {
   "cell_type": "markdown",
   "metadata": {},
   "source": [
    "## Defining some functions\n"
   ]
  },
  {
   "cell_type": "code",
   "execution_count": 2,
   "metadata": {},
   "outputs": [],
   "source": [
    "def index_frames_generate(VD_INFO, VD_FEATURE):\n",
    "    \n",
    "    # Get vide information \n",
    "    VIDEO_ID = VD_FEATURE['video_id'][0]\n",
    "    FRAME_SEQ = np.array(VD_FEATURE['frame_seq'], dtype=np.int16)\n",
    "    TIME_STEP_FR = VD_INFO['time_step_fr'][0]\n",
    "    ORIGIN_VID = VD_INFO['origin_vid'][0]\n",
    "    \n",
    "    # Get the maximum value of frame_seq\n",
    "    frame_seq_max = FRAME_SEQ[-1]\n",
    "    \n",
    "    # Make a dataframe with a video_id column and n rows (n=maximum value of frame_seq)\n",
    "    FRAMES_DTFRAME = pd.DataFrame(data={'video_id': VIDEO_ID}, index=pd.RangeIndex(0,frame_seq_max+1,1), dtype=np.int16)\n",
    "    FRAMES_DTFRAME['frame_seq'] = range(0,frame_seq_max+1)\n",
    "    \n",
    "    # Fill the collumn fr_exists with 1 in the indexes that the frame_seq number exists\n",
    "    FRAMES_DTFRAME.loc[FRAME_SEQ, 'fr_exists'] = 1\n",
    "    \n",
    "    # Replace NaN values with zeros in \n",
    "    FRAMES_DTFRAME['fr_exists'] = FRAMES_DTFRAME['fr_exists'].fillna(0).astype(int)\n",
    "    \n",
    "    # Filter Dataframe to find discontinuous intervals\n",
    "    FRAMES_DTFRAME['frames_total'] = (FRAMES_DTFRAME.fr_exists.diff(1) != 0).cumsum()\n",
    "    FRAMES_DTFRAME = pd.DataFrame({'fr_exists' : FRAMES_DTFRAME.groupby('frames_total').fr_exists.first(),\n",
    "                  'frame_seq_init' : FRAMES_DTFRAME.groupby('frames_total').frame_seq.first(), \n",
    "                  'frame_seq_end': FRAMES_DTFRAME.groupby('frames_total').frame_seq.last(),\n",
    "                  'frames_total' : FRAMES_DTFRAME.groupby('frames_total').size()}).reset_index(drop=True)\n",
    "    \n",
    "    # Add  origin_vid collumn\n",
    "    FRAMES_DTFRAME.insert(0, 'origin_vid', ORIGIN_VID)\n",
    "    FRAMES_DTFRAME.insert(0, 'video_id', VIDEO_ID)\n",
    "    FRAMES_DTFRAME.insert(6, 'time_step_fr', TIME_STEP_FR)\n",
    "\n",
    "    return FRAMES_DTFRAME"
   ]
  },
  {
   "cell_type": "code",
   "execution_count": 3,
   "metadata": {},
   "outputs": [],
   "source": [
    "def color_interpolated_rows(row):\n",
    "    if row['fr_exists'] == 0 and row['frames_total'] < 5:\n",
    "        return ['color: red']*len(row)\n",
    "    else: return [''] * len(row) "
   ]
  },
  {
   "cell_type": "markdown",
   "metadata": {},
   "source": [
    "## Reading CSV's"
   ]
  },
  {
   "cell_type": "code",
   "execution_count": 4,
   "metadata": {},
   "outputs": [],
   "source": [
    "# D for local video or Y for online video\n",
    "ORIGIN = \"D\"\n",
    "VIDEO_ID = 21\n",
    "\n",
    "VD_INFO = gf.READ_CSV_FILE(gf.get_video_path(ORIGIN, VIDEO_ID, fp.VD_INFO))\n",
    "VD_FEATURES_L1 = gf.READ_CSV_FILE(gf.get_video_path(ORIGIN, VIDEO_ID, fp.VD_FEATURES_L2))\n",
    "VD_FEATURES_L2 = gf.READ_CSV_FILE(gf.get_video_path(ORIGIN, VIDEO_ID, fp.VD_FEATURES_L2))"
   ]
  },
  {
   "cell_type": "markdown",
   "metadata": {},
   "source": [
    "## Shows the video frames with it's discontinuities"
   ]
  },
  {
   "cell_type": "code",
   "execution_count": 5,
   "metadata": {},
   "outputs": [
    {
     "data": {
      "text/html": [
       "<style type=\"text/css\">\n",
       "</style>\n",
       "<table id=\"T_cabf7\">\n",
       "  <thead>\n",
       "    <tr>\n",
       "      <th class=\"blank level0\" >&nbsp;</th>\n",
       "      <th id=\"T_cabf7_level0_col0\" class=\"col_heading level0 col0\" >video_id</th>\n",
       "      <th id=\"T_cabf7_level0_col1\" class=\"col_heading level0 col1\" >origin_vid</th>\n",
       "      <th id=\"T_cabf7_level0_col2\" class=\"col_heading level0 col2\" >fr_exists</th>\n",
       "      <th id=\"T_cabf7_level0_col3\" class=\"col_heading level0 col3\" >frame_seq_init</th>\n",
       "      <th id=\"T_cabf7_level0_col4\" class=\"col_heading level0 col4\" >frame_seq_end</th>\n",
       "      <th id=\"T_cabf7_level0_col5\" class=\"col_heading level0 col5\" >frames_total</th>\n",
       "      <th id=\"T_cabf7_level0_col6\" class=\"col_heading level0 col6\" >time_step_fr</th>\n",
       "    </tr>\n",
       "  </thead>\n",
       "  <tbody>\n",
       "    <tr>\n",
       "      <th id=\"T_cabf7_level0_row0\" class=\"row_heading level0 row0\" >0</th>\n",
       "      <td id=\"T_cabf7_row0_col0\" class=\"data row0 col0\" >21</td>\n",
       "      <td id=\"T_cabf7_row0_col1\" class=\"data row0 col1\" >D</td>\n",
       "      <td id=\"T_cabf7_row0_col2\" class=\"data row0 col2\" >0</td>\n",
       "      <td id=\"T_cabf7_row0_col3\" class=\"data row0 col3\" >0</td>\n",
       "      <td id=\"T_cabf7_row0_col4\" class=\"data row0 col4\" >10</td>\n",
       "      <td id=\"T_cabf7_row0_col5\" class=\"data row0 col5\" >11</td>\n",
       "      <td id=\"T_cabf7_row0_col6\" class=\"data row0 col6\" >0.033367</td>\n",
       "    </tr>\n",
       "    <tr>\n",
       "      <th id=\"T_cabf7_level0_row1\" class=\"row_heading level0 row1\" >1</th>\n",
       "      <td id=\"T_cabf7_row1_col0\" class=\"data row1 col0\" >21</td>\n",
       "      <td id=\"T_cabf7_row1_col1\" class=\"data row1 col1\" >D</td>\n",
       "      <td id=\"T_cabf7_row1_col2\" class=\"data row1 col2\" >1</td>\n",
       "      <td id=\"T_cabf7_row1_col3\" class=\"data row1 col3\" >11</td>\n",
       "      <td id=\"T_cabf7_row1_col4\" class=\"data row1 col4\" >5148</td>\n",
       "      <td id=\"T_cabf7_row1_col5\" class=\"data row1 col5\" >5138</td>\n",
       "      <td id=\"T_cabf7_row1_col6\" class=\"data row1 col6\" >0.033367</td>\n",
       "    </tr>\n",
       "  </tbody>\n",
       "</table>\n"
      ],
      "text/plain": [
       "<pandas.io.formats.style.Styler at 0x741dcd548e00>"
      ]
     },
     "execution_count": 5,
     "metadata": {},
     "output_type": "execute_result"
    }
   ],
   "source": [
    "index_frames_generate(VD_INFO, VD_FEATURES_L1).style.apply(color_interpolated_rows, axis=1)"
   ]
  },
  {
   "cell_type": "markdown",
   "metadata": {},
   "source": [
    "## Shows the video frames interpolated"
   ]
  },
  {
   "cell_type": "code",
   "execution_count": 6,
   "metadata": {},
   "outputs": [
    {
     "data": {
      "text/html": [
       "<div>\n",
       "<style scoped>\n",
       "    .dataframe tbody tr th:only-of-type {\n",
       "        vertical-align: middle;\n",
       "    }\n",
       "\n",
       "    .dataframe tbody tr th {\n",
       "        vertical-align: top;\n",
       "    }\n",
       "\n",
       "    .dataframe thead th {\n",
       "        text-align: right;\n",
       "    }\n",
       "</style>\n",
       "<table border=\"1\" class=\"dataframe\">\n",
       "  <thead>\n",
       "    <tr style=\"text-align: right;\">\n",
       "      <th></th>\n",
       "      <th>video_id</th>\n",
       "      <th>origin_vid</th>\n",
       "      <th>fr_exists</th>\n",
       "      <th>frame_seq_init</th>\n",
       "      <th>frame_seq_end</th>\n",
       "      <th>frames_total</th>\n",
       "      <th>time_step_fr</th>\n",
       "    </tr>\n",
       "  </thead>\n",
       "  <tbody>\n",
       "    <tr>\n",
       "      <th>0</th>\n",
       "      <td>21</td>\n",
       "      <td>D</td>\n",
       "      <td>0</td>\n",
       "      <td>0</td>\n",
       "      <td>10</td>\n",
       "      <td>11</td>\n",
       "      <td>0.033367</td>\n",
       "    </tr>\n",
       "    <tr>\n",
       "      <th>1</th>\n",
       "      <td>21</td>\n",
       "      <td>D</td>\n",
       "      <td>1</td>\n",
       "      <td>11</td>\n",
       "      <td>5148</td>\n",
       "      <td>5138</td>\n",
       "      <td>0.033367</td>\n",
       "    </tr>\n",
       "  </tbody>\n",
       "</table>\n",
       "</div>"
      ],
      "text/plain": [
       "   video_id origin_vid  fr_exists  frame_seq_init  frame_seq_end  \\\n",
       "0        21          D          0               0             10   \n",
       "1        21          D          1              11           5148   \n",
       "\n",
       "   frames_total  time_step_fr  \n",
       "0            11      0.033367  \n",
       "1          5138      0.033367  "
      ]
     },
     "execution_count": 6,
     "metadata": {},
     "output_type": "execute_result"
    }
   ],
   "source": [
    "index_frames_generate(VD_INFO, VD_FEATURES_L2)"
   ]
  }
 ],
 "metadata": {
  "kernelspec": {
   "display_name": "my-env",
   "language": "python",
   "name": "python3"
  },
  "language_info": {
   "codemirror_mode": {
    "name": "ipython",
    "version": 3
   },
   "file_extension": ".py",
   "mimetype": "text/x-python",
   "name": "python",
   "nbconvert_exporter": "python",
   "pygments_lexer": "ipython3",
   "version": "3.12.2"
  }
 },
 "nbformat": 4,
 "nbformat_minor": 2
}

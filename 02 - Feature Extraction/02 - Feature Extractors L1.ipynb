{
 "cells": [
  {
   "cell_type": "markdown",
   "metadata": {},
   "source": [
    "# Import dependencies"
   ]
  },
  {
   "cell_type": "code",
   "execution_count": 6,
   "metadata": {},
   "outputs": [],
   "source": [
    "import os, glob, sys, pandas as pd\n",
    "\n",
    "# Import library with current code functions\n",
    "sys.path.append(os.path.join(\"..\", \"lib\"))\n",
    "import feature_extraction_functions as feat_ext_fun\n"
   ]
  },
  {
   "cell_type": "markdown",
   "metadata": {
    "jp-MarkdownHeadingCollapsed": true
   },
   "source": [
    "# Apply the Extraction L1 to YT"
   ]
  },
  {
   "cell_type": "code",
   "execution_count": 7,
   "metadata": {},
   "outputs": [],
   "source": [
    "DESTINATION_FOLDER_PATH = os.path.join(\"..\", \"Dataset\", \"YT-Online\")\n",
    "\n",
    "VD_INFO_FILE_NAME = 'VD_INFO.CSV'\n",
    "\n",
    "# Scan the folder and save the list of csv\n",
    "FOLDER_PATH = os.path.join(DESTINATION_FOLDER_PATH, '**', VD_INFO_FILE_NAME)\n",
    "FOLDER_CSV_SCAN = sorted(glob.iglob(FOLDER_PATH, recursive=True ))"
   ]
  },
  {
   "cell_type": "code",
   "execution_count": 8,
   "metadata": {},
   "outputs": [
    {
     "name": "stdout",
     "output_type": "stream",
     "text": [
      "1 of 42 : Starting to process the ../Dataset/YT-Online/VD_Y_0000000001/VD_INFO.CSV\n",
      "2 of 42 : Starting to process the ../Dataset/YT-Online/VD_Y_0000000002/VD_INFO.CSV\n",
      "3 of 42 : Starting to process the ../Dataset/YT-Online/VD_Y_0000000003/VD_INFO.CSV\n",
      "4 of 42 : Starting to process the ../Dataset/YT-Online/VD_Y_0000000004/VD_INFO.CSV\n",
      "5 of 42 : Starting to process the ../Dataset/YT-Online/VD_Y_0000000005/VD_INFO.CSV\n",
      "6 of 42 : Starting to process the ../Dataset/YT-Online/VD_Y_0000000006/VD_INFO.CSV\n",
      "7 of 42 : Starting to process the ../Dataset/YT-Online/VD_Y_0000000007/VD_INFO.CSV\n",
      "8 of 42 : Starting to process the ../Dataset/YT-Online/VD_Y_0000000008/VD_INFO.CSV\n",
      "9 of 42 : Starting to process the ../Dataset/YT-Online/VD_Y_0000000009/VD_INFO.CSV\n",
      "10 of 42 : Starting to process the ../Dataset/YT-Online/VD_Y_0000000010/VD_INFO.CSV\n",
      "11 of 42 : Starting to process the ../Dataset/YT-Online/VD_Y_0000000011/VD_INFO.CSV\n",
      "12 of 42 : Starting to process the ../Dataset/YT-Online/VD_Y_0000000012/VD_INFO.CSV\n",
      "13 of 42 : Starting to process the ../Dataset/YT-Online/VD_Y_0000000013/VD_INFO.CSV\n",
      "14 of 42 : Starting to process the ../Dataset/YT-Online/VD_Y_0000000014/VD_INFO.CSV\n",
      "15 of 42 : Starting to process the ../Dataset/YT-Online/VD_Y_0000000015/VD_INFO.CSV\n",
      "16 of 42 : Starting to process the ../Dataset/YT-Online/VD_Y_0000000016/VD_INFO.CSV\n",
      "17 of 42 : Starting to process the ../Dataset/YT-Online/VD_Y_0000000017/VD_INFO.CSV\n",
      "18 of 42 : Starting to process the ../Dataset/YT-Online/VD_Y_0000000018/VD_INFO.CSV\n",
      "19 of 42 : Starting to process the ../Dataset/YT-Online/VD_Y_0000000019/VD_INFO.CSV\n",
      "20 of 42 : Starting to process the ../Dataset/YT-Online/VD_Y_0000000020/VD_INFO.CSV\n",
      "21 of 42 : Starting to process the ../Dataset/YT-Online/VD_Y_0000000021/VD_INFO.CSV\n",
      "22 of 42 : Starting to process the ../Dataset/YT-Online/VD_Y_0000000022/VD_INFO.CSV\n",
      "23 of 42 : Starting to process the ../Dataset/YT-Online/VD_Y_0000000023/VD_INFO.CSV\n",
      "24 of 42 : Starting to process the ../Dataset/YT-Online/VD_Y_0000000024/VD_INFO.CSV\n",
      "25 of 42 : Starting to process the ../Dataset/YT-Online/VD_Y_0000000025/VD_INFO.CSV\n",
      "26 of 42 : Starting to process the ../Dataset/YT-Online/VD_Y_0000000026/VD_INFO.CSV\n",
      "27 of 42 : Starting to process the ../Dataset/YT-Online/VD_Y_0000000027/VD_INFO.CSV\n",
      "28 of 42 : Starting to process the ../Dataset/YT-Online/VD_Y_0000000028/VD_INFO.CSV\n",
      "29 of 42 : Starting to process the ../Dataset/YT-Online/VD_Y_0000000029/VD_INFO.CSV\n",
      "30 of 42 : Starting to process the ../Dataset/YT-Online/VD_Y_0000000030/VD_INFO.CSV\n",
      "31 of 42 : Starting to process the ../Dataset/YT-Online/VD_Y_0000000031/VD_INFO.CSV\n",
      "32 of 42 : Starting to process the ../Dataset/YT-Online/VD_Y_0000000032/VD_INFO.CSV\n",
      "33 of 42 : Starting to process the ../Dataset/YT-Online/VD_Y_0000000033/VD_INFO.CSV\n",
      "34 of 42 : Starting to process the ../Dataset/YT-Online/VD_Y_0000000034/VD_INFO.CSV\n",
      "35 of 42 : Starting to process the ../Dataset/YT-Online/VD_Y_0000000035/VD_INFO.CSV\n",
      "36 of 42 : Starting to process the ../Dataset/YT-Online/VD_Y_0000000036/VD_INFO.CSV\n",
      "37 of 42 : Starting to process the ../Dataset/YT-Online/VD_Y_0000000037/VD_INFO.CSV\n",
      "38 of 42 : Starting to process the ../Dataset/YT-Online/VD_Y_0000000038/VD_INFO.CSV\n",
      "39 of 42 : Starting to process the ../Dataset/YT-Online/VD_Y_0000000039/VD_INFO.CSV\n",
      "40 of 42 : Starting to process the ../Dataset/YT-Online/VD_Y_0000000040/VD_INFO.CSV\n",
      "41 of 42 : Starting to process the ../Dataset/YT-Online/VD_Y_0000000041/VD_INFO.CSV\n",
      "42 of 42 : Starting to process the ../Dataset/YT-Online/VD_Y_0000000042/VD_INFO.CSV\n"
     ]
    }
   ],
   "source": [
    "VIDEO_YT_BASE_LINK = 'https://www.youtube.com/watch?v='\n",
    "feat_ext_fun.FEATURE_EXTRACTOR_L1_ALL(FOLDER_CSV_SCAN, VIDEO_YT_BASE_LINK)"
   ]
  },
  {
   "cell_type": "markdown",
   "metadata": {
    "jp-MarkdownHeadingCollapsed": true
   },
   "source": [
    "# Apply the Extraction L1 to Local"
   ]
  },
  {
   "cell_type": "code",
   "execution_count": 9,
   "metadata": {},
   "outputs": [],
   "source": [
    "VIDEO_SOURCE_FOLDER_LOCAL = os.path.join(\"..\", 'Video-Source', 'in_DD-Local') + os.sep\n",
    "DESTINATION_FOLDER_PATH = os.path.join('..', 'Dataset', 'DD-Local')\n",
    "\n",
    "VD_INFO_FILE_NAME = 'VD_INFO.CSV'\n",
    "\n",
    "# Scan the folder and save the list of csv\n",
    "FOLDER_PATH = os.path.join(DESTINATION_FOLDER_PATH, '**', VD_INFO_FILE_NAME)\n",
    "FOLDER_CSV_SCAN = sorted(glob.iglob(FOLDER_PATH, recursive=True))"
   ]
  },
  {
   "cell_type": "code",
   "execution_count": 10,
   "metadata": {},
   "outputs": [
    {
     "name": "stdout",
     "output_type": "stream",
     "text": [
      "1 of 3 : Starting to process the ../Dataset/DD-Local/VD_D_0000000001/VD_INFO.CSV\n",
      "2 of 3 : Starting to process the ../Dataset/DD-Local/VD_D_0000000002/VD_INFO.CSV\n",
      "3 of 3 : Starting to process the ../Dataset/DD-Local/VD_D_0000000003/VD_INFO.CSV\n"
     ]
    }
   ],
   "source": [
    "feat_ext_fun.FEATURE_EXTRACTOR_L1_ALL(FOLDER_CSV_SCAN, VIDEO_SOURCE_FOLDER_LOCAL)"
   ]
  }
 ],
 "metadata": {
  "kernelspec": {
   "display_name": "Python 3 (ipykernel)",
   "language": "python",
   "name": "python3"
  },
  "language_info": {
   "codemirror_mode": {
    "name": "ipython",
    "version": 3
   },
   "file_extension": ".py",
   "mimetype": "text/x-python",
   "name": "python",
   "nbconvert_exporter": "python",
   "pygments_lexer": "ipython3",
   "version": "3.12.2"
  }
 },
 "nbformat": 4,
 "nbformat_minor": 4
}

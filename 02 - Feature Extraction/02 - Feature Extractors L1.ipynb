{
 "cells": [
  {
   "cell_type": "markdown",
   "metadata": {},
   "source": [
    "# Import dependencies"
   ]
  },
  {
   "cell_type": "code",
   "execution_count": 1,
   "metadata": {},
   "outputs": [],
   "source": [
    "import os\n",
    "import sys\n",
    "\n",
    "# Import library with current code functions\n",
    "sys.path.append(os.path.join(\"..\", \"lib\"))\n",
    "import feature_extraction_functions as feat_ext_fun, general_functions as gf, files_paths as fp"
   ]
  },
  {
   "cell_type": "markdown",
   "metadata": {
    "jp-MarkdownHeadingCollapsed": true
   },
   "source": [
    "# Apply the Extraction L1 to YT"
   ]
  },
  {
   "cell_type": "code",
   "execution_count": 2,
   "metadata": {},
   "outputs": [],
   "source": [
    "FILE_LIST_VD_INFO_YT = gf.find_files_in_all_subdirectories([fp.DATASET_YT], fp.VD_INFO)\n",
    "\n",
    "# Filter witch videos has the 'VD_FEATURES_L1.CSV' file and delete then from the list\n",
    "FILE_LIST_VD_INFO_YT_FILTERED = [video_info_file for video_info_file in FILE_LIST_VD_INFO_YT if not os.path.exists(os.path.join(os.path.dirname(video_info_file), fp.VD_FEATURES_L1))]"
   ]
  },
  {
   "cell_type": "code",
   "execution_count": 3,
   "metadata": {},
   "outputs": [],
   "source": [
    "VIDEO_YT_BASE_LINK = 'https://www.youtube.com/watch?v='\n",
    "feat_ext_fun.FEATURE_EXTRACTOR_L1_ALL(FILE_LIST_VD_INFO_YT_FILTERED, VIDEO_YT_BASE_LINK)"
   ]
  },
  {
   "cell_type": "markdown",
   "metadata": {
    "jp-MarkdownHeadingCollapsed": true
   },
   "source": [
    "# Apply the Extraction L1 to Local"
   ]
  },
  {
   "cell_type": "code",
   "execution_count": 4,
   "metadata": {},
   "outputs": [],
   "source": [
    "FILE_LIST_VD_INFO_LOCAL = gf.find_files_in_all_subdirectories([fp.DATASET_LOCAL], fp.VD_INFO)\n",
    "\n",
    "# Filter witch videos has the 'VD_FEATURES_L1.CSV' file and delete then from the list\n",
    "FILE_LIST_VD_INFO_LOCAL_FILTERED = [video_info_file for video_info_file in FILE_LIST_VD_INFO_LOCAL if not os.path.exists(os.path.join(os.path.dirname(video_info_file), fp.VD_FEATURES_L1))]"
   ]
  },
  {
   "cell_type": "code",
   "execution_count": 5,
   "metadata": {},
   "outputs": [
    {
     "name": "stdout",
     "output_type": "stream",
     "text": [
      "1 of 8 : Starting to process the ..\\Dataset\\DD-Local\\VD_D_0000000043\\VD_INFO.CSV\n",
      "2 of 8 : Starting to process the ..\\Dataset\\DD-Local\\VD_D_0000000044\\VD_INFO.CSV\n",
      "3 of 8 : Starting to process the ..\\Dataset\\DD-Local\\VD_D_0000000045\\VD_INFO.CSV\n",
      "4 of 8 : Starting to process the ..\\Dataset\\DD-Local\\VD_D_0000000046\\VD_INFO.CSV\n",
      "5 of 8 : Starting to process the ..\\Dataset\\DD-Local\\VD_D_0000000047\\VD_INFO.CSV\n",
      "6 of 8 : Starting to process the ..\\Dataset\\DD-Local\\VD_D_0000000048\\VD_INFO.CSV\n",
      "7 of 8 : Starting to process the ..\\Dataset\\DD-Local\\VD_D_0000000049\\VD_INFO.CSV\n",
      "8 of 8 : Starting to process the ..\\Dataset\\DD-Local\\VD_D_0000000050\\VD_INFO.CSV\n"
     ]
    }
   ],
   "source": [
    "feat_ext_fun.FEATURE_EXTRACTOR_L1_ALL(FILE_LIST_VD_INFO_LOCAL_FILTERED, fp.VIDEO_SOURCE_LOCAL)"
   ]
  }
 ],
 "metadata": {
  "kernelspec": {
   "display_name": "t-gpu",
   "language": "python",
   "name": "python3"
  },
  "language_info": {
   "codemirror_mode": {
    "name": "ipython",
    "version": 3
   },
   "file_extension": ".py",
   "mimetype": "text/x-python",
   "name": "python",
   "nbconvert_exporter": "python",
   "pygments_lexer": "ipython3",
   "version": "3.10.14"
  }
 },
 "nbformat": 4,
 "nbformat_minor": 4
}
